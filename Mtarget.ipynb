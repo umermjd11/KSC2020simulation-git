{
 "cells": [
  {
   "cell_type": "code",
   "execution_count": null,
   "id": "6d40462c-c5f2-4bbd-bf95-688b2b1cceca",
   "metadata": {},
   "outputs": [],
   "source": [
    "!pip install tensorflow~=2.1.0 pandas sklearn keras"
   ]
  },
  {
   "cell_type": "code",
   "execution_count": 1,
   "id": "a0015801-4aad-445c-ada3-70f59d612771",
   "metadata": {
    "colab": {},
    "colab_type": "code",
    "id": "riNTxZEtvMcS"
   },
   "outputs": [],
   "source": [
    "import pandas as pd\n",
    "from sklearn.preprocessing import LabelEncoder\n",
    "import matplotlib.pyplot as plt\n",
    "from sklearn.model_selection import train_test_split\n",
    "from py_session import py_session\n",
    "import time\n",
    "try:\n",
    "  # Use the %tensorflow_version magic if in colab.\n",
    "  %tensorflow_version 2.x\n",
    "except Exception:\n",
    "  pass\n",
    "\n",
    "import tensorflow as tf\n",
    "from tensorflow.keras.utils import to_categorical\n",
    "import numpy as np\n",
    "import collections\n",
    "from sklearn.utils import shuffle"
   ]
  },
  {
   "cell_type": "code",
   "execution_count": 3,
   "id": "88d7d95a-e95d-4c78-b3e6-6f54fdb4fff0",
   "metadata": {
    "colab": {},
    "colab_type": "code",
    "id": "DirUarD3w_vI"
   },
   "outputs": [],
   "source": [
    "\n",
    "le= LabelEncoder()"
   ]
  },
  {
   "cell_type": "code",
   "execution_count": 4,
   "id": "bf178b51-c4c4-45da-946a-f76250686852",
   "metadata": {
    "colab": {},
    "colab_type": "code",
    "id": "bSiY5E8Evsj0"
   },
   "outputs": [],
   "source": [
    "datasetScenearioA120 = pd.read_csv(\"datasetScenearioA120.csv\", header=None, \n",
    " names=['duration',\n",
    " 'total_fiat',\n",
    " 'total_biat',\n",
    " 'min_fiat',\n",
    " 'min_biat',\n",
    " 'max_fiat',\n",
    " 'max_biat',\n",
    " 'mean_fiat',\n",
    " 'mean_biat',\n",
    " 'flowPktsPerSecond',\n",
    " 'flowBytesPerSecond',\n",
    " 'min_flowiat',\n",
    " 'max_flowiat',\n",
    " 'mean_flowiat',\n",
    " 'std_flowiat',\n",
    " 'min_active',\n",
    " 'mean_active',\n",
    " 'max_active',\n",
    " 'std_active',\n",
    " 'min_idle',\n",
    " 'mean_idle',\n",
    " 'max_idle',\n",
    " 'std_idle',\n",
    " 'class'])"
   ]
  },
  {
   "cell_type": "code",
   "execution_count": 5,
   "id": "9f82d9c1-bb74-4037-a6ac-ba3d5ffdb58c",
   "metadata": {
    "colab": {},
    "colab_type": "code",
    "id": "t6kv-BFExE4d"
   },
   "outputs": [],
   "source": [
    "datasetScenearioA120['encoded_class']=le.fit_transform(datasetScenearioA120['class'])"
   ]
  },
  {
   "cell_type": "code",
   "execution_count": 6,
   "id": "9dab3119-34cb-4ad2-a69e-3454425ec4c8",
   "metadata": {
    "colab": {
     "base_uri": "https://localhost:8080/",
     "height": 35
    },
    "colab_type": "code",
    "executionInfo": {
     "elapsed": 693,
     "status": "ok",
     "timestamp": 1584766171937,
     "user": {
      "displayName": "MAJEED UMER[학생](대학원 컴퓨터공학과) ‍",
      "photoUrl": "",
      "userId": "09904507153320373005"
     },
     "user_tz": -540
    },
    "id": "HH5f2hJrxHYN",
    "outputId": "18e23e77-43eb-4b94-dcd3-13918e8eccc6"
   },
   "outputs": [
    {
     "data": {
      "text/plain": [
       "array(['Non-VPN', 'VPN'], dtype=object)"
      ]
     },
     "execution_count": 6,
     "metadata": {},
     "output_type": "execute_result"
    }
   ],
   "source": [
    "le.classes_"
   ]
  },
  {
   "cell_type": "code",
   "execution_count": 7,
   "id": "358ee34f-9e8e-4103-b6d8-1032a6b91fce",
   "metadata": {
    "colab": {
     "base_uri": "https://localhost:8080/",
     "height": 35
    },
    "colab_type": "code",
    "executionInfo": {
     "elapsed": 424,
     "status": "ok",
     "timestamp": 1584766173086,
     "user": {
      "displayName": "MAJEED UMER[학생](대학원 컴퓨터공학과) ‍",
      "photoUrl": "",
      "userId": "09904507153320373005"
     },
     "user_tz": -540
    },
    "id": "6Eb4YKy9xJhp",
    "outputId": "5af3546e-2dab-4e73-a54d-28e4d803334a"
   },
   "outputs": [
    {
     "name": "stdout",
     "output_type": "stream",
     "text": [
      "{'Non-VPN': 0, 'VPN': 1}\n"
     ]
    }
   ],
   "source": [
    "le_name_mapping = dict(zip(le.classes_, le.transform(le.classes_)))\n",
    "print(le_name_mapping)"
   ]
  },
  {
   "cell_type": "code",
   "execution_count": 8,
   "id": "a1238d99-e2be-4733-9391-42d2ae7d473a",
   "metadata": {
    "colab": {},
    "colab_type": "code",
    "id": "uGgmwSh-vomf"
   },
   "outputs": [],
   "source": [
    "datasetScenearioA120=datasetScenearioA120.drop(columns=['class'])"
   ]
  },
  {
   "cell_type": "code",
   "execution_count": 9,
   "id": "6677b581-5e4d-481a-b89b-80f3c8d8fbce",
   "metadata": {
    "colab": {},
    "colab_type": "code",
    "id": "5xEeH0I0Mw7S"
   },
   "outputs": [],
   "source": [
    "datasetA120Norm=((datasetScenearioA120-datasetScenearioA120.mean())/(datasetScenearioA120.std()))"
   ]
  },
  {
   "cell_type": "code",
   "execution_count": 10,
   "id": "564e816f-d7c6-40dc-8c2f-56d87bc5b66a",
   "metadata": {
    "colab": {},
    "colab_type": "code",
    "id": "EoBpo8VynCZG"
   },
   "outputs": [],
   "source": [
    "datasetA120Norm['encoded_class']=datasetScenearioA120['encoded_class']"
   ]
  },
  {
   "cell_type": "code",
   "execution_count": 12,
   "id": "3cdf36c7-13ec-4300-b65c-7e0ef75bf8b5",
   "metadata": {
    "colab": {
     "base_uri": "https://localhost:8080/",
     "height": 427
    },
    "colab_type": "code",
    "executionInfo": {
     "elapsed": 475,
     "status": "ok",
     "timestamp": 1584766178568,
     "user": {
      "displayName": "MAJEED UMER[학생](대학원 컴퓨터공학과) ‍",
      "photoUrl": "",
      "userId": "09904507153320373005"
     },
     "user_tz": -540
    },
    "id": "-MwnQzAixJ89",
    "outputId": "b8554f67-c435-4465-fe79-6cdb4d4552b1"
   },
   "outputs": [
    {
     "data": {
      "text/html": [
       "<div>\n",
       "<style scoped>\n",
       "    .dataframe tbody tr th:only-of-type {\n",
       "        vertical-align: middle;\n",
       "    }\n",
       "\n",
       "    .dataframe tbody tr th {\n",
       "        vertical-align: top;\n",
       "    }\n",
       "\n",
       "    .dataframe thead th {\n",
       "        text-align: right;\n",
       "    }\n",
       "</style>\n",
       "<table border=\"1\" class=\"dataframe\">\n",
       "  <thead>\n",
       "    <tr style=\"text-align: right;\">\n",
       "      <th></th>\n",
       "      <th>duration</th>\n",
       "      <th>total_fiat</th>\n",
       "      <th>total_biat</th>\n",
       "      <th>min_fiat</th>\n",
       "      <th>min_biat</th>\n",
       "      <th>max_fiat</th>\n",
       "      <th>max_biat</th>\n",
       "      <th>mean_fiat</th>\n",
       "      <th>mean_biat</th>\n",
       "      <th>flowPktsPerSecond</th>\n",
       "      <th>...</th>\n",
       "      <th>std_flowiat</th>\n",
       "      <th>min_active</th>\n",
       "      <th>mean_active</th>\n",
       "      <th>max_active</th>\n",
       "      <th>std_active</th>\n",
       "      <th>min_idle</th>\n",
       "      <th>mean_idle</th>\n",
       "      <th>max_idle</th>\n",
       "      <th>std_idle</th>\n",
       "      <th>encoded_class</th>\n",
       "    </tr>\n",
       "  </thead>\n",
       "  <tbody>\n",
       "    <tr>\n",
       "      <th>0</th>\n",
       "      <td>1.387643</td>\n",
       "      <td>-0.311477</td>\n",
       "      <td>-0.276861</td>\n",
       "      <td>0.628009</td>\n",
       "      <td>0.823722</td>\n",
       "      <td>-0.411613</td>\n",
       "      <td>-0.392982</td>\n",
       "      <td>-0.162273</td>\n",
       "      <td>-0.155449</td>\n",
       "      <td>0.649243</td>\n",
       "      <td>...</td>\n",
       "      <td>-0.355567</td>\n",
       "      <td>-0.378909</td>\n",
       "      <td>-0.325365</td>\n",
       "      <td>0.526630</td>\n",
       "      <td>0.521968</td>\n",
       "      <td>-0.381806</td>\n",
       "      <td>-0.351999</td>\n",
       "      <td>0.545133</td>\n",
       "      <td>0.554642</td>\n",
       "      <td>0</td>\n",
       "    </tr>\n",
       "    <tr>\n",
       "      <th>1</th>\n",
       "      <td>1.433055</td>\n",
       "      <td>-0.311477</td>\n",
       "      <td>-0.276861</td>\n",
       "      <td>0.628704</td>\n",
       "      <td>0.818574</td>\n",
       "      <td>-0.409091</td>\n",
       "      <td>-0.394245</td>\n",
       "      <td>-0.155295</td>\n",
       "      <td>-0.162247</td>\n",
       "      <td>0.607625</td>\n",
       "      <td>...</td>\n",
       "      <td>-0.354658</td>\n",
       "      <td>-0.376179</td>\n",
       "      <td>-0.345179</td>\n",
       "      <td>0.524956</td>\n",
       "      <td>0.468308</td>\n",
       "      <td>-0.382291</td>\n",
       "      <td>-0.360140</td>\n",
       "      <td>0.541502</td>\n",
       "      <td>0.495028</td>\n",
       "      <td>0</td>\n",
       "    </tr>\n",
       "    <tr>\n",
       "      <th>2</th>\n",
       "      <td>0.876661</td>\n",
       "      <td>-0.311476</td>\n",
       "      <td>-0.276861</td>\n",
       "      <td>0.261788</td>\n",
       "      <td>0.379124</td>\n",
       "      <td>-0.376589</td>\n",
       "      <td>-0.349008</td>\n",
       "      <td>-0.042972</td>\n",
       "      <td>0.009202</td>\n",
       "      <td>0.199013</td>\n",
       "      <td>...</td>\n",
       "      <td>-0.263476</td>\n",
       "      <td>-0.331239</td>\n",
       "      <td>-0.176311</td>\n",
       "      <td>0.190405</td>\n",
       "      <td>0.661566</td>\n",
       "      <td>-0.374314</td>\n",
       "      <td>-0.195001</td>\n",
       "      <td>0.200576</td>\n",
       "      <td>0.753111</td>\n",
       "      <td>0</td>\n",
       "    </tr>\n",
       "    <tr>\n",
       "      <th>3</th>\n",
       "      <td>0.396602</td>\n",
       "      <td>-0.311477</td>\n",
       "      <td>-0.276861</td>\n",
       "      <td>0.320534</td>\n",
       "      <td>0.449830</td>\n",
       "      <td>-0.396896</td>\n",
       "      <td>-0.378565</td>\n",
       "      <td>-0.100082</td>\n",
       "      <td>-0.083194</td>\n",
       "      <td>0.187662</td>\n",
       "      <td>...</td>\n",
       "      <td>-0.312051</td>\n",
       "      <td>-0.371975</td>\n",
       "      <td>-0.201415</td>\n",
       "      <td>0.239987</td>\n",
       "      <td>0.728475</td>\n",
       "      <td>-0.377779</td>\n",
       "      <td>-0.223393</td>\n",
       "      <td>0.255431</td>\n",
       "      <td>0.760556</td>\n",
       "      <td>0</td>\n",
       "    </tr>\n",
       "    <tr>\n",
       "      <th>4</th>\n",
       "      <td>1.441082</td>\n",
       "      <td>1.925923</td>\n",
       "      <td>2.154681</td>\n",
       "      <td>0.452196</td>\n",
       "      <td>0.613841</td>\n",
       "      <td>1.628258</td>\n",
       "      <td>1.811737</td>\n",
       "      <td>-0.381014</td>\n",
       "      <td>-0.464994</td>\n",
       "      <td>-0.058262</td>\n",
       "      <td>...</td>\n",
       "      <td>0.944604</td>\n",
       "      <td>0.600347</td>\n",
       "      <td>0.496862</td>\n",
       "      <td>0.359364</td>\n",
       "      <td>-0.368088</td>\n",
       "      <td>0.610032</td>\n",
       "      <td>0.508947</td>\n",
       "      <td>0.380876</td>\n",
       "      <td>-0.358025</td>\n",
       "      <td>0</td>\n",
       "    </tr>\n",
       "    <tr>\n",
       "      <th>...</th>\n",
       "      <td>...</td>\n",
       "      <td>...</td>\n",
       "      <td>...</td>\n",
       "      <td>...</td>\n",
       "      <td>...</td>\n",
       "      <td>...</td>\n",
       "      <td>...</td>\n",
       "      <td>...</td>\n",
       "      <td>...</td>\n",
       "      <td>...</td>\n",
       "      <td>...</td>\n",
       "      <td>...</td>\n",
       "      <td>...</td>\n",
       "      <td>...</td>\n",
       "      <td>...</td>\n",
       "      <td>...</td>\n",
       "      <td>...</td>\n",
       "      <td>...</td>\n",
       "      <td>...</td>\n",
       "      <td>...</td>\n",
       "      <td>...</td>\n",
       "    </tr>\n",
       "    <tr>\n",
       "      <th>10777</th>\n",
       "      <td>-0.849416</td>\n",
       "      <td>-0.311478</td>\n",
       "      <td>-0.276861</td>\n",
       "      <td>-0.564611</td>\n",
       "      <td>-0.609334</td>\n",
       "      <td>-0.444381</td>\n",
       "      <td>-0.434757</td>\n",
       "      <td>-0.381086</td>\n",
       "      <td>-0.465127</td>\n",
       "      <td>-0.077179</td>\n",
       "      <td>...</td>\n",
       "      <td>-0.524469</td>\n",
       "      <td>-0.425529</td>\n",
       "      <td>-0.512487</td>\n",
       "      <td>-0.581572</td>\n",
       "      <td>-0.368185</td>\n",
       "      <td>-0.418916</td>\n",
       "      <td>-0.501611</td>\n",
       "      <td>-0.566270</td>\n",
       "      <td>-0.358043</td>\n",
       "      <td>0</td>\n",
       "    </tr>\n",
       "    <tr>\n",
       "      <th>10778</th>\n",
       "      <td>-0.847825</td>\n",
       "      <td>-0.311478</td>\n",
       "      <td>-0.276861</td>\n",
       "      <td>-0.564611</td>\n",
       "      <td>-0.609334</td>\n",
       "      <td>-0.444381</td>\n",
       "      <td>-0.434757</td>\n",
       "      <td>-0.381086</td>\n",
       "      <td>-0.465127</td>\n",
       "      <td>-0.077179</td>\n",
       "      <td>...</td>\n",
       "      <td>-0.524469</td>\n",
       "      <td>-0.425529</td>\n",
       "      <td>-0.512487</td>\n",
       "      <td>-0.581572</td>\n",
       "      <td>-0.368185</td>\n",
       "      <td>-0.418916</td>\n",
       "      <td>-0.501611</td>\n",
       "      <td>-0.566270</td>\n",
       "      <td>-0.358043</td>\n",
       "      <td>0</td>\n",
       "    </tr>\n",
       "    <tr>\n",
       "      <th>10779</th>\n",
       "      <td>-0.450740</td>\n",
       "      <td>1.254690</td>\n",
       "      <td>-0.276861</td>\n",
       "      <td>0.147106</td>\n",
       "      <td>-0.609334</td>\n",
       "      <td>1.006467</td>\n",
       "      <td>-0.434757</td>\n",
       "      <td>-0.381086</td>\n",
       "      <td>-0.465127</td>\n",
       "      <td>-0.077179</td>\n",
       "      <td>...</td>\n",
       "      <td>0.650789</td>\n",
       "      <td>-0.376570</td>\n",
       "      <td>-0.159215</td>\n",
       "      <td>0.032137</td>\n",
       "      <td>1.133178</td>\n",
       "      <td>-0.369720</td>\n",
       "      <td>-0.146733</td>\n",
       "      <td>0.052654</td>\n",
       "      <td>1.177950</td>\n",
       "      <td>0</td>\n",
       "    </tr>\n",
       "    <tr>\n",
       "      <th>10780</th>\n",
       "      <td>-0.848151</td>\n",
       "      <td>-0.311467</td>\n",
       "      <td>-0.276861</td>\n",
       "      <td>-0.561198</td>\n",
       "      <td>-0.605174</td>\n",
       "      <td>-0.440898</td>\n",
       "      <td>-0.432209</td>\n",
       "      <td>-0.374869</td>\n",
       "      <td>-0.458354</td>\n",
       "      <td>-0.073396</td>\n",
       "      <td>...</td>\n",
       "      <td>-0.519675</td>\n",
       "      <td>-0.425529</td>\n",
       "      <td>-0.512487</td>\n",
       "      <td>-0.581572</td>\n",
       "      <td>-0.368185</td>\n",
       "      <td>-0.418916</td>\n",
       "      <td>-0.501611</td>\n",
       "      <td>-0.566270</td>\n",
       "      <td>-0.358043</td>\n",
       "      <td>0</td>\n",
       "    </tr>\n",
       "    <tr>\n",
       "      <th>10781</th>\n",
       "      <td>-0.848186</td>\n",
       "      <td>-0.311471</td>\n",
       "      <td>-0.276861</td>\n",
       "      <td>-0.561222</td>\n",
       "      <td>-0.605227</td>\n",
       "      <td>-0.440924</td>\n",
       "      <td>-0.432239</td>\n",
       "      <td>-0.374909</td>\n",
       "      <td>-0.458444</td>\n",
       "      <td>-0.073396</td>\n",
       "      <td>...</td>\n",
       "      <td>-0.519720</td>\n",
       "      <td>-0.425529</td>\n",
       "      <td>-0.512487</td>\n",
       "      <td>-0.581572</td>\n",
       "      <td>-0.368185</td>\n",
       "      <td>-0.418916</td>\n",
       "      <td>-0.501611</td>\n",
       "      <td>-0.566270</td>\n",
       "      <td>-0.358043</td>\n",
       "      <td>0</td>\n",
       "    </tr>\n",
       "  </tbody>\n",
       "</table>\n",
       "<p>10782 rows × 24 columns</p>\n",
       "</div>"
      ],
      "text/plain": [
       "       duration  total_fiat  total_biat  min_fiat  min_biat  max_fiat  \\\n",
       "0      1.387643   -0.311477   -0.276861  0.628009  0.823722 -0.411613   \n",
       "1      1.433055   -0.311477   -0.276861  0.628704  0.818574 -0.409091   \n",
       "2      0.876661   -0.311476   -0.276861  0.261788  0.379124 -0.376589   \n",
       "3      0.396602   -0.311477   -0.276861  0.320534  0.449830 -0.396896   \n",
       "4      1.441082    1.925923    2.154681  0.452196  0.613841  1.628258   \n",
       "...         ...         ...         ...       ...       ...       ...   \n",
       "10777 -0.849416   -0.311478   -0.276861 -0.564611 -0.609334 -0.444381   \n",
       "10778 -0.847825   -0.311478   -0.276861 -0.564611 -0.609334 -0.444381   \n",
       "10779 -0.450740    1.254690   -0.276861  0.147106 -0.609334  1.006467   \n",
       "10780 -0.848151   -0.311467   -0.276861 -0.561198 -0.605174 -0.440898   \n",
       "10781 -0.848186   -0.311471   -0.276861 -0.561222 -0.605227 -0.440924   \n",
       "\n",
       "       max_biat  mean_fiat  mean_biat  flowPktsPerSecond  ...  std_flowiat  \\\n",
       "0     -0.392982  -0.162273  -0.155449           0.649243  ...    -0.355567   \n",
       "1     -0.394245  -0.155295  -0.162247           0.607625  ...    -0.354658   \n",
       "2     -0.349008  -0.042972   0.009202           0.199013  ...    -0.263476   \n",
       "3     -0.378565  -0.100082  -0.083194           0.187662  ...    -0.312051   \n",
       "4      1.811737  -0.381014  -0.464994          -0.058262  ...     0.944604   \n",
       "...         ...        ...        ...                ...  ...          ...   \n",
       "10777 -0.434757  -0.381086  -0.465127          -0.077179  ...    -0.524469   \n",
       "10778 -0.434757  -0.381086  -0.465127          -0.077179  ...    -0.524469   \n",
       "10779 -0.434757  -0.381086  -0.465127          -0.077179  ...     0.650789   \n",
       "10780 -0.432209  -0.374869  -0.458354          -0.073396  ...    -0.519675   \n",
       "10781 -0.432239  -0.374909  -0.458444          -0.073396  ...    -0.519720   \n",
       "\n",
       "       min_active  mean_active  max_active  std_active  min_idle  mean_idle  \\\n",
       "0       -0.378909    -0.325365    0.526630    0.521968 -0.381806  -0.351999   \n",
       "1       -0.376179    -0.345179    0.524956    0.468308 -0.382291  -0.360140   \n",
       "2       -0.331239    -0.176311    0.190405    0.661566 -0.374314  -0.195001   \n",
       "3       -0.371975    -0.201415    0.239987    0.728475 -0.377779  -0.223393   \n",
       "4        0.600347     0.496862    0.359364   -0.368088  0.610032   0.508947   \n",
       "...           ...          ...         ...         ...       ...        ...   \n",
       "10777   -0.425529    -0.512487   -0.581572   -0.368185 -0.418916  -0.501611   \n",
       "10778   -0.425529    -0.512487   -0.581572   -0.368185 -0.418916  -0.501611   \n",
       "10779   -0.376570    -0.159215    0.032137    1.133178 -0.369720  -0.146733   \n",
       "10780   -0.425529    -0.512487   -0.581572   -0.368185 -0.418916  -0.501611   \n",
       "10781   -0.425529    -0.512487   -0.581572   -0.368185 -0.418916  -0.501611   \n",
       "\n",
       "       max_idle  std_idle  encoded_class  \n",
       "0      0.545133  0.554642              0  \n",
       "1      0.541502  0.495028              0  \n",
       "2      0.200576  0.753111              0  \n",
       "3      0.255431  0.760556              0  \n",
       "4      0.380876 -0.358025              0  \n",
       "...         ...       ...            ...  \n",
       "10777 -0.566270 -0.358043              0  \n",
       "10778 -0.566270 -0.358043              0  \n",
       "10779  0.052654  1.177950              0  \n",
       "10780 -0.566270 -0.358043              0  \n",
       "10781 -0.566270 -0.358043              0  \n",
       "\n",
       "[10782 rows x 24 columns]"
      ]
     },
     "execution_count": 12,
     "metadata": {},
     "output_type": "execute_result"
    }
   ],
   "source": [
    "datasetA120Norm"
   ]
  },
  {
   "cell_type": "code",
   "execution_count": 13,
   "id": "a0382ab3-308c-4dca-b69e-fac1acd2c5fd",
   "metadata": {
    "colab": {
     "base_uri": "https://localhost:8080/",
     "height": 395
    },
    "colab_type": "code",
    "executionInfo": {
     "elapsed": 699,
     "status": "ok",
     "timestamp": 1584766180715,
     "user": {
      "displayName": "MAJEED UMER[학생](대학원 컴퓨터공학과) ‍",
      "photoUrl": "",
      "userId": "09904507153320373005"
     },
     "user_tz": -540
    },
    "id": "6pDSFJ1GihCX",
    "outputId": "b454d81c-db03-43e0-f58a-99a296852037"
   },
   "outputs": [
    {
     "data": {
      "text/html": [
       "<div>\n",
       "<style scoped>\n",
       "    .dataframe tbody tr th:only-of-type {\n",
       "        vertical-align: middle;\n",
       "    }\n",
       "\n",
       "    .dataframe tbody tr th {\n",
       "        vertical-align: top;\n",
       "    }\n",
       "\n",
       "    .dataframe thead th {\n",
       "        text-align: right;\n",
       "    }\n",
       "</style>\n",
       "<table border=\"1\" class=\"dataframe\">\n",
       "  <thead>\n",
       "    <tr style=\"text-align: right;\">\n",
       "      <th></th>\n",
       "      <th>duration</th>\n",
       "      <th>total_fiat</th>\n",
       "      <th>total_biat</th>\n",
       "      <th>min_fiat</th>\n",
       "      <th>min_biat</th>\n",
       "      <th>max_fiat</th>\n",
       "      <th>max_biat</th>\n",
       "      <th>mean_fiat</th>\n",
       "      <th>mean_biat</th>\n",
       "      <th>flowPktsPerSecond</th>\n",
       "      <th>...</th>\n",
       "      <th>std_flowiat</th>\n",
       "      <th>min_active</th>\n",
       "      <th>mean_active</th>\n",
       "      <th>max_active</th>\n",
       "      <th>std_active</th>\n",
       "      <th>min_idle</th>\n",
       "      <th>mean_idle</th>\n",
       "      <th>max_idle</th>\n",
       "      <th>std_idle</th>\n",
       "      <th>encoded_class</th>\n",
       "    </tr>\n",
       "  </thead>\n",
       "  <tbody>\n",
       "    <tr>\n",
       "      <th>count</th>\n",
       "      <td>1.078200e+04</td>\n",
       "      <td>10782.000000</td>\n",
       "      <td>1.078200e+04</td>\n",
       "      <td>1.078200e+04</td>\n",
       "      <td>1.078200e+04</td>\n",
       "      <td>1.078200e+04</td>\n",
       "      <td>1.078200e+04</td>\n",
       "      <td>1.078200e+04</td>\n",
       "      <td>1.078200e+04</td>\n",
       "      <td>1.078200e+04</td>\n",
       "      <td>...</td>\n",
       "      <td>1.078200e+04</td>\n",
       "      <td>1.078200e+04</td>\n",
       "      <td>1.078200e+04</td>\n",
       "      <td>1.078200e+04</td>\n",
       "      <td>10782.000000</td>\n",
       "      <td>1.078200e+04</td>\n",
       "      <td>1.078200e+04</td>\n",
       "      <td>1.078200e+04</td>\n",
       "      <td>1.078200e+04</td>\n",
       "      <td>10782.000000</td>\n",
       "    </tr>\n",
       "    <tr>\n",
       "      <th>mean</th>\n",
       "      <td>-4.217653e-17</td>\n",
       "      <td>0.000000</td>\n",
       "      <td>-2.108827e-17</td>\n",
       "      <td>-1.054413e-17</td>\n",
       "      <td>2.636033e-17</td>\n",
       "      <td>-6.326480e-17</td>\n",
       "      <td>-6.326480e-17</td>\n",
       "      <td>1.054413e-17</td>\n",
       "      <td>9.489719e-17</td>\n",
       "      <td>-1.054413e-17</td>\n",
       "      <td>...</td>\n",
       "      <td>1.054413e-17</td>\n",
       "      <td>-1.054413e-17</td>\n",
       "      <td>1.581620e-17</td>\n",
       "      <td>-1.028053e-16</td>\n",
       "      <td>0.000000</td>\n",
       "      <td>-1.054413e-17</td>\n",
       "      <td>-3.690446e-17</td>\n",
       "      <td>-2.108827e-17</td>\n",
       "      <td>7.644496e-17</td>\n",
       "      <td>0.522259</td>\n",
       "    </tr>\n",
       "    <tr>\n",
       "      <th>std</th>\n",
       "      <td>1.000000e+00</td>\n",
       "      <td>1.000000</td>\n",
       "      <td>1.000000e+00</td>\n",
       "      <td>1.000000e+00</td>\n",
       "      <td>1.000000e+00</td>\n",
       "      <td>1.000000e+00</td>\n",
       "      <td>1.000000e+00</td>\n",
       "      <td>1.000000e+00</td>\n",
       "      <td>1.000000e+00</td>\n",
       "      <td>1.000000e+00</td>\n",
       "      <td>...</td>\n",
       "      <td>1.000000e+00</td>\n",
       "      <td>1.000000e+00</td>\n",
       "      <td>1.000000e+00</td>\n",
       "      <td>1.000000e+00</td>\n",
       "      <td>1.000000</td>\n",
       "      <td>1.000000e+00</td>\n",
       "      <td>1.000000e+00</td>\n",
       "      <td>1.000000e+00</td>\n",
       "      <td>1.000000e+00</td>\n",
       "      <td>0.499527</td>\n",
       "    </tr>\n",
       "    <tr>\n",
       "      <th>min</th>\n",
       "      <td>-8.520228e-01</td>\n",
       "      <td>-0.311478</td>\n",
       "      <td>-2.768612e-01</td>\n",
       "      <td>-5.646108e-01</td>\n",
       "      <td>-6.093342e-01</td>\n",
       "      <td>-4.443812e-01</td>\n",
       "      <td>-4.347565e-01</td>\n",
       "      <td>-3.810858e-01</td>\n",
       "      <td>-4.651273e-01</td>\n",
       "      <td>-7.717930e-02</td>\n",
       "      <td>...</td>\n",
       "      <td>-5.244692e-01</td>\n",
       "      <td>-4.255293e-01</td>\n",
       "      <td>-5.124872e-01</td>\n",
       "      <td>-5.815716e-01</td>\n",
       "      <td>-0.368185</td>\n",
       "      <td>-4.189158e-01</td>\n",
       "      <td>-5.016114e-01</td>\n",
       "      <td>-5.662702e-01</td>\n",
       "      <td>-3.580430e-01</td>\n",
       "      <td>0.000000</td>\n",
       "    </tr>\n",
       "    <tr>\n",
       "      <th>25%</th>\n",
       "      <td>-8.499366e-01</td>\n",
       "      <td>-0.311478</td>\n",
       "      <td>-2.768612e-01</td>\n",
       "      <td>-5.645392e-01</td>\n",
       "      <td>-6.093342e-01</td>\n",
       "      <td>-4.443383e-01</td>\n",
       "      <td>-4.347565e-01</td>\n",
       "      <td>-3.810858e-01</td>\n",
       "      <td>-4.651273e-01</td>\n",
       "      <td>-7.717930e-02</td>\n",
       "      <td>...</td>\n",
       "      <td>-5.244481e-01</td>\n",
       "      <td>-4.255293e-01</td>\n",
       "      <td>-5.124872e-01</td>\n",
       "      <td>-5.815716e-01</td>\n",
       "      <td>-0.368185</td>\n",
       "      <td>-4.189158e-01</td>\n",
       "      <td>-5.016114e-01</td>\n",
       "      <td>-5.662702e-01</td>\n",
       "      <td>-3.580430e-01</td>\n",
       "      <td>0.000000</td>\n",
       "    </tr>\n",
       "    <tr>\n",
       "      <th>50%</th>\n",
       "      <td>-6.552464e-01</td>\n",
       "      <td>-0.311474</td>\n",
       "      <td>-2.768599e-01</td>\n",
       "      <td>-5.387084e-01</td>\n",
       "      <td>-5.893271e-01</td>\n",
       "      <td>-4.337278e-01</td>\n",
       "      <td>-4.299450e-01</td>\n",
       "      <td>-3.787320e-01</td>\n",
       "      <td>-4.626343e-01</td>\n",
       "      <td>-7.339585e-02</td>\n",
       "      <td>...</td>\n",
       "      <td>-5.063638e-01</td>\n",
       "      <td>-3.887143e-01</td>\n",
       "      <td>-4.589017e-01</td>\n",
       "      <td>-5.311829e-01</td>\n",
       "      <td>-0.368185</td>\n",
       "      <td>-3.842974e-01</td>\n",
       "      <td>-4.574142e-01</td>\n",
       "      <td>-5.237783e-01</td>\n",
       "      <td>-3.580430e-01</td>\n",
       "      <td>1.000000</td>\n",
       "    </tr>\n",
       "    <tr>\n",
       "      <th>75%</th>\n",
       "      <td>1.006762e+00</td>\n",
       "      <td>-0.311365</td>\n",
       "      <td>-2.768483e-01</td>\n",
       "      <td>3.968268e-01</td>\n",
       "      <td>4.496270e-01</td>\n",
       "      <td>-7.288666e-02</td>\n",
       "      <td>-8.100856e-02</td>\n",
       "      <td>-1.451209e-01</td>\n",
       "      <td>-1.257931e-01</td>\n",
       "      <td>-5.826205e-02</td>\n",
       "      <td>...</td>\n",
       "      <td>2.079971e-01</td>\n",
       "      <td>-5.801428e-02</td>\n",
       "      <td>1.974218e-01</td>\n",
       "      <td>3.617373e-01</td>\n",
       "      <td>-0.309898</td>\n",
       "      <td>-7.499652e-02</td>\n",
       "      <td>1.743477e-01</td>\n",
       "      <td>3.768319e-01</td>\n",
       "      <td>-3.208709e-01</td>\n",
       "      <td>1.000000</td>\n",
       "    </tr>\n",
       "    <tr>\n",
       "      <th>max</th>\n",
       "      <td>1.064043e+01</td>\n",
       "      <td>8.638320</td>\n",
       "      <td>9.449509e+00</td>\n",
       "      <td>1.440668e+01</td>\n",
       "      <td>2.385758e+01</td>\n",
       "      <td>1.005699e+01</td>\n",
       "      <td>8.551218e+00</td>\n",
       "      <td>1.841982e+01</td>\n",
       "      <td>1.080186e+01</td>\n",
       "      <td>8.126701e+01</td>\n",
       "      <td>...</td>\n",
       "      <td>1.260537e+01</td>\n",
       "      <td>2.014053e+01</td>\n",
       "      <td>1.970814e+01</td>\n",
       "      <td>1.828056e+01</td>\n",
       "      <td>19.337203</td>\n",
       "      <td>2.020213e+01</td>\n",
       "      <td>1.977716e+01</td>\n",
       "      <td>1.841518e+01</td>\n",
       "      <td>1.980187e+01</td>\n",
       "      <td>1.000000</td>\n",
       "    </tr>\n",
       "  </tbody>\n",
       "</table>\n",
       "<p>8 rows × 24 columns</p>\n",
       "</div>"
      ],
      "text/plain": [
       "           duration    total_fiat    total_biat      min_fiat      min_biat  \\\n",
       "count  1.078200e+04  10782.000000  1.078200e+04  1.078200e+04  1.078200e+04   \n",
       "mean  -4.217653e-17      0.000000 -2.108827e-17 -1.054413e-17  2.636033e-17   \n",
       "std    1.000000e+00      1.000000  1.000000e+00  1.000000e+00  1.000000e+00   \n",
       "min   -8.520228e-01     -0.311478 -2.768612e-01 -5.646108e-01 -6.093342e-01   \n",
       "25%   -8.499366e-01     -0.311478 -2.768612e-01 -5.645392e-01 -6.093342e-01   \n",
       "50%   -6.552464e-01     -0.311474 -2.768599e-01 -5.387084e-01 -5.893271e-01   \n",
       "75%    1.006762e+00     -0.311365 -2.768483e-01  3.968268e-01  4.496270e-01   \n",
       "max    1.064043e+01      8.638320  9.449509e+00  1.440668e+01  2.385758e+01   \n",
       "\n",
       "           max_fiat      max_biat     mean_fiat     mean_biat  \\\n",
       "count  1.078200e+04  1.078200e+04  1.078200e+04  1.078200e+04   \n",
       "mean  -6.326480e-17 -6.326480e-17  1.054413e-17  9.489719e-17   \n",
       "std    1.000000e+00  1.000000e+00  1.000000e+00  1.000000e+00   \n",
       "min   -4.443812e-01 -4.347565e-01 -3.810858e-01 -4.651273e-01   \n",
       "25%   -4.443383e-01 -4.347565e-01 -3.810858e-01 -4.651273e-01   \n",
       "50%   -4.337278e-01 -4.299450e-01 -3.787320e-01 -4.626343e-01   \n",
       "75%   -7.288666e-02 -8.100856e-02 -1.451209e-01 -1.257931e-01   \n",
       "max    1.005699e+01  8.551218e+00  1.841982e+01  1.080186e+01   \n",
       "\n",
       "       flowPktsPerSecond  ...   std_flowiat    min_active   mean_active  \\\n",
       "count       1.078200e+04  ...  1.078200e+04  1.078200e+04  1.078200e+04   \n",
       "mean       -1.054413e-17  ...  1.054413e-17 -1.054413e-17  1.581620e-17   \n",
       "std         1.000000e+00  ...  1.000000e+00  1.000000e+00  1.000000e+00   \n",
       "min        -7.717930e-02  ... -5.244692e-01 -4.255293e-01 -5.124872e-01   \n",
       "25%        -7.717930e-02  ... -5.244481e-01 -4.255293e-01 -5.124872e-01   \n",
       "50%        -7.339585e-02  ... -5.063638e-01 -3.887143e-01 -4.589017e-01   \n",
       "75%        -5.826205e-02  ...  2.079971e-01 -5.801428e-02  1.974218e-01   \n",
       "max         8.126701e+01  ...  1.260537e+01  2.014053e+01  1.970814e+01   \n",
       "\n",
       "         max_active    std_active      min_idle     mean_idle      max_idle  \\\n",
       "count  1.078200e+04  10782.000000  1.078200e+04  1.078200e+04  1.078200e+04   \n",
       "mean  -1.028053e-16      0.000000 -1.054413e-17 -3.690446e-17 -2.108827e-17   \n",
       "std    1.000000e+00      1.000000  1.000000e+00  1.000000e+00  1.000000e+00   \n",
       "min   -5.815716e-01     -0.368185 -4.189158e-01 -5.016114e-01 -5.662702e-01   \n",
       "25%   -5.815716e-01     -0.368185 -4.189158e-01 -5.016114e-01 -5.662702e-01   \n",
       "50%   -5.311829e-01     -0.368185 -3.842974e-01 -4.574142e-01 -5.237783e-01   \n",
       "75%    3.617373e-01     -0.309898 -7.499652e-02  1.743477e-01  3.768319e-01   \n",
       "max    1.828056e+01     19.337203  2.020213e+01  1.977716e+01  1.841518e+01   \n",
       "\n",
       "           std_idle  encoded_class  \n",
       "count  1.078200e+04   10782.000000  \n",
       "mean   7.644496e-17       0.522259  \n",
       "std    1.000000e+00       0.499527  \n",
       "min   -3.580430e-01       0.000000  \n",
       "25%   -3.580430e-01       0.000000  \n",
       "50%   -3.580430e-01       1.000000  \n",
       "75%   -3.208709e-01       1.000000  \n",
       "max    1.980187e+01       1.000000  \n",
       "\n",
       "[8 rows x 24 columns]"
      ]
     },
     "execution_count": 13,
     "metadata": {},
     "output_type": "execute_result"
    }
   ],
   "source": [
    "datasetA120Norm.describe()"
   ]
  },
  {
   "cell_type": "code",
   "execution_count": 15,
   "id": "b69ae5fe-1479-4005-9665-c056a37b9650",
   "metadata": {
    "colab": {},
    "colab_type": "code",
    "id": "_E3-OvW-WBSw"
   },
   "outputs": [],
   "source": [
    "datasetScenearioA60 = pd.read_csv(\"datasetScenearioA60.csv\", header=None, \n",
    " names=['duration',\n",
    " 'total_fiat',\n",
    " 'total_biat',\n",
    " 'min_fiat',\n",
    " 'min_biat',\n",
    " 'max_fiat',\n",
    " 'max_biat',\n",
    " 'mean_fiat',\n",
    " 'mean_biat',\n",
    " 'flowPktsPerSecond',\n",
    " 'flowBytesPerSecond',\n",
    " 'min_flowiat',\n",
    " 'max_flowiat',\n",
    " 'mean_flowiat',\n",
    " 'std_flowiat',\n",
    " 'min_active',\n",
    " 'mean_active',\n",
    " 'max_active',\n",
    " 'std_active',\n",
    " 'min_idle',\n",
    " 'mean_idle',\n",
    " 'max_idle',\n",
    " 'std_idle',\n",
    " 'class'])"
   ]
  },
  {
   "cell_type": "code",
   "execution_count": 16,
   "id": "82bfd7b3-b808-47b4-84f9-0ab33f04ced2",
   "metadata": {
    "colab": {},
    "colab_type": "code",
    "id": "G3x4WDgQWJ40"
   },
   "outputs": [],
   "source": [
    "datasetScenearioA60['encoded_class']=le.fit_transform(datasetScenearioA60['class'])"
   ]
  },
  {
   "cell_type": "code",
   "execution_count": 17,
   "id": "c5848942-fd33-4eb0-8e7f-814c182efc40",
   "metadata": {
    "colab": {},
    "colab_type": "code",
    "id": "IxQdtOFCWlUI"
   },
   "outputs": [],
   "source": [
    "datasetScenearioA60=datasetScenearioA60.drop(columns=['class'])"
   ]
  },
  {
   "cell_type": "code",
   "execution_count": 18,
   "id": "b18793a2-82a7-4b0f-845b-b1c13801e845",
   "metadata": {
    "colab": {},
    "colab_type": "code",
    "id": "FVu6z9PhWp0E"
   },
   "outputs": [],
   "source": [
    "\n",
    "datasetA60Norm=((datasetScenearioA60-datasetScenearioA60.mean())/(datasetScenearioA60.std()))"
   ]
  },
  {
   "cell_type": "code",
   "execution_count": 19,
   "id": "81637701-2fc0-4990-8201-268d1a95a025",
   "metadata": {
    "colab": {},
    "colab_type": "code",
    "id": "Dwc3N4QiWwQ1"
   },
   "outputs": [],
   "source": [
    "datasetA60Norm['encoded_class']=datasetScenearioA60['encoded_class']"
   ]
  },
  {
   "cell_type": "code",
   "execution_count": 24,
   "id": "ff6e684c-4230-45de-8c13-5b0330a4a399",
   "metadata": {
    "colab": {},
    "colab_type": "code",
    "id": "o4xmhuQ0W3_o"
   },
   "outputs": [],
   "source": [
    "datasetScenearioA30 = pd.read_csv(\"datasetScenearioA30.csv\", header=None, \n",
    " names=['duration',\n",
    " 'total_fiat',\n",
    " 'total_biat',\n",
    " 'min_fiat',\n",
    " 'min_biat',\n",
    " 'max_fiat',\n",
    " 'max_biat',\n",
    " 'mean_fiat',\n",
    " 'mean_biat',\n",
    " 'flowPktsPerSecond',\n",
    " 'flowBytesPerSecond',\n",
    " 'min_flowiat',\n",
    " 'max_flowiat',\n",
    " 'mean_flowiat',\n",
    " 'std_flowiat',\n",
    " 'min_active',\n",
    " 'mean_active',\n",
    " 'max_active',\n",
    " 'std_active',\n",
    " 'min_idle',\n",
    " 'mean_idle',\n",
    " 'max_idle',\n",
    " 'std_idle',\n",
    " 'class'])"
   ]
  },
  {
   "cell_type": "code",
   "execution_count": 25,
   "id": "abc242eb-2ce4-4495-907c-aacfe3d42bc3",
   "metadata": {
    "colab": {},
    "colab_type": "code",
    "id": "XPRSAmyuXFg_"
   },
   "outputs": [],
   "source": [
    "datasetScenearioA30['encoded_class']=le.fit_transform(datasetScenearioA30['class'])"
   ]
  },
  {
   "cell_type": "code",
   "execution_count": 26,
   "id": "5d518367-3a78-4ba1-af68-a6b3dfa8a086",
   "metadata": {
    "colab": {},
    "colab_type": "code",
    "id": "TPyJkjikXFQt"
   },
   "outputs": [],
   "source": [
    "datasetScenearioA30=datasetScenearioA30.drop(columns=['class'])"
   ]
  },
  {
   "cell_type": "code",
   "execution_count": 27,
   "id": "e7705df6-d291-40f9-bae4-04bc28d50471",
   "metadata": {
    "colab": {},
    "colab_type": "code",
    "id": "8M2T5jzGXFF1"
   },
   "outputs": [],
   "source": [
    "datasetA30Norm=((datasetScenearioA30-datasetScenearioA30.mean())/(datasetScenearioA30.std()))"
   ]
  },
  {
   "cell_type": "code",
   "execution_count": 28,
   "id": "cca10866-892e-4009-9453-8e4e86118a0b",
   "metadata": {
    "colab": {},
    "colab_type": "code",
    "id": "nnGgAuwdXE4S"
   },
   "outputs": [],
   "source": [
    "datasetA30Norm['encoded_class']=datasetScenearioA30['encoded_class']"
   ]
  },
  {
   "cell_type": "code",
   "execution_count": 33,
   "id": "24308186-f588-4783-9863-87109a676b39",
   "metadata": {
    "colab": {},
    "colab_type": "code",
    "id": "1o-O1iDkX093"
   },
   "outputs": [],
   "source": [
    "datasetScenearioA15 = pd.read_csv(\"datasetScenearioA15.csv\", header=None, \n",
    " names=['duration',\n",
    " 'total_fiat',\n",
    " 'total_biat',\n",
    " 'min_fiat',\n",
    " 'min_biat',\n",
    " 'max_fiat',\n",
    " 'max_biat',\n",
    " 'mean_fiat',\n",
    " 'mean_biat',\n",
    " 'flowPktsPerSecond',\n",
    " 'flowBytesPerSecond',\n",
    " 'min_flowiat',\n",
    " 'max_flowiat',\n",
    " 'mean_flowiat',\n",
    " 'std_flowiat',\n",
    " 'min_active',\n",
    " 'mean_active',\n",
    " 'max_active',\n",
    " 'std_active',\n",
    " 'min_idle',\n",
    " 'mean_idle',\n",
    " 'max_idle',\n",
    " 'std_idle',\n",
    " 'class'])"
   ]
  },
  {
   "cell_type": "code",
   "execution_count": 34,
   "id": "13a734f1-29b4-4f08-adbf-ad12b3a9b24b",
   "metadata": {
    "colab": {},
    "colab_type": "code",
    "id": "fbyPFzXSX8WG"
   },
   "outputs": [],
   "source": [
    "datasetScenearioA15['encoded_class']=le.fit_transform(datasetScenearioA15['class'])"
   ]
  },
  {
   "cell_type": "code",
   "execution_count": 35,
   "id": "4be600e6-b4e5-470e-8621-031ad5cde2d7",
   "metadata": {
    "colab": {},
    "colab_type": "code",
    "id": "1bIzMpZbYGnI"
   },
   "outputs": [],
   "source": [
    "datasetScenearioA15=datasetScenearioA15.drop(columns=['class'])"
   ]
  },
  {
   "cell_type": "code",
   "execution_count": 36,
   "id": "a6f3ccaf-b5f7-4738-9f64-081f28fd6ecb",
   "metadata": {
    "colab": {},
    "colab_type": "code",
    "id": "w5iPvMn5YGae"
   },
   "outputs": [],
   "source": [
    "datasetA15Norm=((datasetScenearioA15-datasetScenearioA15.mean())/(datasetScenearioA15.std()))"
   ]
  },
  {
   "cell_type": "code",
   "execution_count": 37,
   "id": "5f72a382-0ff9-4a6f-88d2-eca1245d568e",
   "metadata": {
    "colab": {},
    "colab_type": "code",
    "id": "xUhxwroZYGO4"
   },
   "outputs": [],
   "source": [
    "datasetA15Norm['encoded_class']=datasetScenearioA15['encoded_class']"
   ]
  },
  {
   "cell_type": "code",
   "execution_count": 40,
   "id": "7d1ef1a2-de98-4164-ab20-06099e175bf6",
   "metadata": {
    "colab": {},
    "colab_type": "code",
    "id": "vU87N3UeYXrc"
   },
   "outputs": [],
   "source": [
    "dataNorm=datasetA120Norm"
   ]
  },
  {
   "cell_type": "code",
   "execution_count": 41,
   "id": "01df33bf-89fc-408e-9035-a6d52868b93f",
   "metadata": {
    "colab": {},
    "colab_type": "code",
    "id": "PqjfKx-SYlrV"
   },
   "outputs": [],
   "source": [
    "dataNorm=dataNorm.append(datasetA60Norm, ignore_index=True)\n",
    "dataNorm=dataNorm.append(datasetA30Norm, ignore_index=True)\n",
    "dataNorm=dataNorm.append(datasetA15Norm, ignore_index=True)"
   ]
  },
  {
   "cell_type": "code",
   "execution_count": 42,
   "id": "2f6fab53-0156-47ea-adb6-19fe4c6f5fa7",
   "metadata": {
    "colab": {
     "base_uri": "https://localhost:8080/",
     "height": 427
    },
    "colab_type": "code",
    "executionInfo": {
     "elapsed": 526,
     "status": "ok",
     "timestamp": 1584766257213,
     "user": {
      "displayName": "MAJEED UMER[학생](대학원 컴퓨터공학과) ‍",
      "photoUrl": "",
      "userId": "09904507153320373005"
     },
     "user_tz": -540
    },
    "id": "HN6ldxRS7dED",
    "outputId": "a559b978-27cb-4e20-ecd3-f31aa4e8f702"
   },
   "outputs": [
    {
     "data": {
      "text/html": [
       "<div>\n",
       "<style scoped>\n",
       "    .dataframe tbody tr th:only-of-type {\n",
       "        vertical-align: middle;\n",
       "    }\n",
       "\n",
       "    .dataframe tbody tr th {\n",
       "        vertical-align: top;\n",
       "    }\n",
       "\n",
       "    .dataframe thead th {\n",
       "        text-align: right;\n",
       "    }\n",
       "</style>\n",
       "<table border=\"1\" class=\"dataframe\">\n",
       "  <thead>\n",
       "    <tr style=\"text-align: right;\">\n",
       "      <th></th>\n",
       "      <th>duration</th>\n",
       "      <th>total_fiat</th>\n",
       "      <th>total_biat</th>\n",
       "      <th>min_fiat</th>\n",
       "      <th>min_biat</th>\n",
       "      <th>max_fiat</th>\n",
       "      <th>max_biat</th>\n",
       "      <th>mean_fiat</th>\n",
       "      <th>mean_biat</th>\n",
       "      <th>flowPktsPerSecond</th>\n",
       "      <th>...</th>\n",
       "      <th>std_flowiat</th>\n",
       "      <th>min_active</th>\n",
       "      <th>mean_active</th>\n",
       "      <th>max_active</th>\n",
       "      <th>std_active</th>\n",
       "      <th>min_idle</th>\n",
       "      <th>mean_idle</th>\n",
       "      <th>max_idle</th>\n",
       "      <th>std_idle</th>\n",
       "      <th>encoded_class</th>\n",
       "    </tr>\n",
       "  </thead>\n",
       "  <tbody>\n",
       "    <tr>\n",
       "      <th>0</th>\n",
       "      <td>1.387643</td>\n",
       "      <td>-0.311477</td>\n",
       "      <td>-0.276861</td>\n",
       "      <td>0.628009</td>\n",
       "      <td>0.823722</td>\n",
       "      <td>-0.411613</td>\n",
       "      <td>-0.392982</td>\n",
       "      <td>-0.162273</td>\n",
       "      <td>-0.155449</td>\n",
       "      <td>0.649243</td>\n",
       "      <td>...</td>\n",
       "      <td>-0.355567</td>\n",
       "      <td>-0.378909</td>\n",
       "      <td>-0.325365</td>\n",
       "      <td>0.526630</td>\n",
       "      <td>0.521968</td>\n",
       "      <td>-0.381806</td>\n",
       "      <td>-0.351999</td>\n",
       "      <td>0.545133</td>\n",
       "      <td>0.554642</td>\n",
       "      <td>0</td>\n",
       "    </tr>\n",
       "    <tr>\n",
       "      <th>1</th>\n",
       "      <td>1.433055</td>\n",
       "      <td>-0.311477</td>\n",
       "      <td>-0.276861</td>\n",
       "      <td>0.628704</td>\n",
       "      <td>0.818574</td>\n",
       "      <td>-0.409091</td>\n",
       "      <td>-0.394245</td>\n",
       "      <td>-0.155295</td>\n",
       "      <td>-0.162247</td>\n",
       "      <td>0.607625</td>\n",
       "      <td>...</td>\n",
       "      <td>-0.354658</td>\n",
       "      <td>-0.376179</td>\n",
       "      <td>-0.345179</td>\n",
       "      <td>0.524956</td>\n",
       "      <td>0.468308</td>\n",
       "      <td>-0.382291</td>\n",
       "      <td>-0.360140</td>\n",
       "      <td>0.541502</td>\n",
       "      <td>0.495028</td>\n",
       "      <td>0</td>\n",
       "    </tr>\n",
       "    <tr>\n",
       "      <th>2</th>\n",
       "      <td>0.876661</td>\n",
       "      <td>-0.311476</td>\n",
       "      <td>-0.276861</td>\n",
       "      <td>0.261788</td>\n",
       "      <td>0.379124</td>\n",
       "      <td>-0.376589</td>\n",
       "      <td>-0.349008</td>\n",
       "      <td>-0.042972</td>\n",
       "      <td>0.009202</td>\n",
       "      <td>0.199013</td>\n",
       "      <td>...</td>\n",
       "      <td>-0.263476</td>\n",
       "      <td>-0.331239</td>\n",
       "      <td>-0.176311</td>\n",
       "      <td>0.190405</td>\n",
       "      <td>0.661566</td>\n",
       "      <td>-0.374314</td>\n",
       "      <td>-0.195001</td>\n",
       "      <td>0.200576</td>\n",
       "      <td>0.753111</td>\n",
       "      <td>0</td>\n",
       "    </tr>\n",
       "    <tr>\n",
       "      <th>3</th>\n",
       "      <td>0.396602</td>\n",
       "      <td>-0.311477</td>\n",
       "      <td>-0.276861</td>\n",
       "      <td>0.320534</td>\n",
       "      <td>0.449830</td>\n",
       "      <td>-0.396896</td>\n",
       "      <td>-0.378565</td>\n",
       "      <td>-0.100082</td>\n",
       "      <td>-0.083194</td>\n",
       "      <td>0.187662</td>\n",
       "      <td>...</td>\n",
       "      <td>-0.312051</td>\n",
       "      <td>-0.371975</td>\n",
       "      <td>-0.201415</td>\n",
       "      <td>0.239987</td>\n",
       "      <td>0.728475</td>\n",
       "      <td>-0.377779</td>\n",
       "      <td>-0.223393</td>\n",
       "      <td>0.255431</td>\n",
       "      <td>0.760556</td>\n",
       "      <td>0</td>\n",
       "    </tr>\n",
       "    <tr>\n",
       "      <th>4</th>\n",
       "      <td>1.441082</td>\n",
       "      <td>1.925923</td>\n",
       "      <td>2.154681</td>\n",
       "      <td>0.452196</td>\n",
       "      <td>0.613841</td>\n",
       "      <td>1.628258</td>\n",
       "      <td>1.811737</td>\n",
       "      <td>-0.381014</td>\n",
       "      <td>-0.464994</td>\n",
       "      <td>-0.058262</td>\n",
       "      <td>...</td>\n",
       "      <td>0.944604</td>\n",
       "      <td>0.600347</td>\n",
       "      <td>0.496862</td>\n",
       "      <td>0.359364</td>\n",
       "      <td>-0.368088</td>\n",
       "      <td>0.610032</td>\n",
       "      <td>0.508947</td>\n",
       "      <td>0.380876</td>\n",
       "      <td>-0.358025</td>\n",
       "      <td>0</td>\n",
       "    </tr>\n",
       "    <tr>\n",
       "      <th>...</th>\n",
       "      <td>...</td>\n",
       "      <td>...</td>\n",
       "      <td>...</td>\n",
       "      <td>...</td>\n",
       "      <td>...</td>\n",
       "      <td>...</td>\n",
       "      <td>...</td>\n",
       "      <td>...</td>\n",
       "      <td>...</td>\n",
       "      <td>...</td>\n",
       "      <td>...</td>\n",
       "      <td>...</td>\n",
       "      <td>...</td>\n",
       "      <td>...</td>\n",
       "      <td>...</td>\n",
       "      <td>...</td>\n",
       "      <td>...</td>\n",
       "      <td>...</td>\n",
       "      <td>...</td>\n",
       "      <td>...</td>\n",
       "      <td>...</td>\n",
       "    </tr>\n",
       "    <tr>\n",
       "      <th>59701</th>\n",
       "      <td>-0.675617</td>\n",
       "      <td>-0.271345</td>\n",
       "      <td>-0.269416</td>\n",
       "      <td>-0.312038</td>\n",
       "      <td>-0.296472</td>\n",
       "      <td>-0.319534</td>\n",
       "      <td>-0.369323</td>\n",
       "      <td>-0.194815</td>\n",
       "      <td>-0.243745</td>\n",
       "      <td>-0.107057</td>\n",
       "      <td>...</td>\n",
       "      <td>-0.292869</td>\n",
       "      <td>-0.242290</td>\n",
       "      <td>-0.268084</td>\n",
       "      <td>-0.292185</td>\n",
       "      <td>-0.178574</td>\n",
       "      <td>-0.223616</td>\n",
       "      <td>-0.246777</td>\n",
       "      <td>-0.268493</td>\n",
       "      <td>-0.162674</td>\n",
       "      <td>0</td>\n",
       "    </tr>\n",
       "    <tr>\n",
       "      <th>59702</th>\n",
       "      <td>-0.677088</td>\n",
       "      <td>-0.271345</td>\n",
       "      <td>-0.269416</td>\n",
       "      <td>-0.312038</td>\n",
       "      <td>-0.296472</td>\n",
       "      <td>-0.319534</td>\n",
       "      <td>-0.369323</td>\n",
       "      <td>-0.194815</td>\n",
       "      <td>-0.243745</td>\n",
       "      <td>-0.106477</td>\n",
       "      <td>...</td>\n",
       "      <td>-0.292869</td>\n",
       "      <td>-0.242290</td>\n",
       "      <td>-0.268084</td>\n",
       "      <td>-0.292185</td>\n",
       "      <td>-0.178574</td>\n",
       "      <td>-0.223616</td>\n",
       "      <td>-0.246777</td>\n",
       "      <td>-0.268493</td>\n",
       "      <td>-0.162674</td>\n",
       "      <td>0</td>\n",
       "    </tr>\n",
       "    <tr>\n",
       "      <th>59703</th>\n",
       "      <td>-0.675986</td>\n",
       "      <td>-0.271345</td>\n",
       "      <td>-0.269416</td>\n",
       "      <td>-0.312038</td>\n",
       "      <td>-0.296472</td>\n",
       "      <td>-0.319534</td>\n",
       "      <td>-0.369323</td>\n",
       "      <td>-0.194815</td>\n",
       "      <td>-0.243745</td>\n",
       "      <td>-0.106945</td>\n",
       "      <td>...</td>\n",
       "      <td>-0.292869</td>\n",
       "      <td>-0.242290</td>\n",
       "      <td>-0.268084</td>\n",
       "      <td>-0.292185</td>\n",
       "      <td>-0.178574</td>\n",
       "      <td>-0.223616</td>\n",
       "      <td>-0.246777</td>\n",
       "      <td>-0.268493</td>\n",
       "      <td>-0.162674</td>\n",
       "      <td>0</td>\n",
       "    </tr>\n",
       "    <tr>\n",
       "      <th>59704</th>\n",
       "      <td>-0.658908</td>\n",
       "      <td>-0.271345</td>\n",
       "      <td>-0.269416</td>\n",
       "      <td>-0.312038</td>\n",
       "      <td>-0.296472</td>\n",
       "      <td>-0.319534</td>\n",
       "      <td>-0.369323</td>\n",
       "      <td>-0.194815</td>\n",
       "      <td>-0.243745</td>\n",
       "      <td>-0.108152</td>\n",
       "      <td>...</td>\n",
       "      <td>-0.292869</td>\n",
       "      <td>-0.242290</td>\n",
       "      <td>-0.268084</td>\n",
       "      <td>-0.292185</td>\n",
       "      <td>-0.178574</td>\n",
       "      <td>-0.223616</td>\n",
       "      <td>-0.246777</td>\n",
       "      <td>-0.268493</td>\n",
       "      <td>-0.162674</td>\n",
       "      <td>0</td>\n",
       "    </tr>\n",
       "    <tr>\n",
       "      <th>59705</th>\n",
       "      <td>-0.675398</td>\n",
       "      <td>-0.271345</td>\n",
       "      <td>-0.269416</td>\n",
       "      <td>-0.312038</td>\n",
       "      <td>-0.296472</td>\n",
       "      <td>-0.319534</td>\n",
       "      <td>-0.369323</td>\n",
       "      <td>-0.194815</td>\n",
       "      <td>-0.243745</td>\n",
       "      <td>-0.107116</td>\n",
       "      <td>...</td>\n",
       "      <td>-0.292869</td>\n",
       "      <td>-0.242290</td>\n",
       "      <td>-0.268084</td>\n",
       "      <td>-0.292185</td>\n",
       "      <td>-0.178574</td>\n",
       "      <td>-0.223616</td>\n",
       "      <td>-0.246777</td>\n",
       "      <td>-0.268493</td>\n",
       "      <td>-0.162674</td>\n",
       "      <td>0</td>\n",
       "    </tr>\n",
       "  </tbody>\n",
       "</table>\n",
       "<p>59706 rows × 24 columns</p>\n",
       "</div>"
      ],
      "text/plain": [
       "       duration  total_fiat  total_biat  min_fiat  min_biat  max_fiat  \\\n",
       "0      1.387643   -0.311477   -0.276861  0.628009  0.823722 -0.411613   \n",
       "1      1.433055   -0.311477   -0.276861  0.628704  0.818574 -0.409091   \n",
       "2      0.876661   -0.311476   -0.276861  0.261788  0.379124 -0.376589   \n",
       "3      0.396602   -0.311477   -0.276861  0.320534  0.449830 -0.396896   \n",
       "4      1.441082    1.925923    2.154681  0.452196  0.613841  1.628258   \n",
       "...         ...         ...         ...       ...       ...       ...   \n",
       "59701 -0.675617   -0.271345   -0.269416 -0.312038 -0.296472 -0.319534   \n",
       "59702 -0.677088   -0.271345   -0.269416 -0.312038 -0.296472 -0.319534   \n",
       "59703 -0.675986   -0.271345   -0.269416 -0.312038 -0.296472 -0.319534   \n",
       "59704 -0.658908   -0.271345   -0.269416 -0.312038 -0.296472 -0.319534   \n",
       "59705 -0.675398   -0.271345   -0.269416 -0.312038 -0.296472 -0.319534   \n",
       "\n",
       "       max_biat  mean_fiat  mean_biat  flowPktsPerSecond  ...  std_flowiat  \\\n",
       "0     -0.392982  -0.162273  -0.155449           0.649243  ...    -0.355567   \n",
       "1     -0.394245  -0.155295  -0.162247           0.607625  ...    -0.354658   \n",
       "2     -0.349008  -0.042972   0.009202           0.199013  ...    -0.263476   \n",
       "3     -0.378565  -0.100082  -0.083194           0.187662  ...    -0.312051   \n",
       "4      1.811737  -0.381014  -0.464994          -0.058262  ...     0.944604   \n",
       "...         ...        ...        ...                ...  ...          ...   \n",
       "59701 -0.369323  -0.194815  -0.243745          -0.107057  ...    -0.292869   \n",
       "59702 -0.369323  -0.194815  -0.243745          -0.106477  ...    -0.292869   \n",
       "59703 -0.369323  -0.194815  -0.243745          -0.106945  ...    -0.292869   \n",
       "59704 -0.369323  -0.194815  -0.243745          -0.108152  ...    -0.292869   \n",
       "59705 -0.369323  -0.194815  -0.243745          -0.107116  ...    -0.292869   \n",
       "\n",
       "       min_active  mean_active  max_active  std_active  min_idle  mean_idle  \\\n",
       "0       -0.378909    -0.325365    0.526630    0.521968 -0.381806  -0.351999   \n",
       "1       -0.376179    -0.345179    0.524956    0.468308 -0.382291  -0.360140   \n",
       "2       -0.331239    -0.176311    0.190405    0.661566 -0.374314  -0.195001   \n",
       "3       -0.371975    -0.201415    0.239987    0.728475 -0.377779  -0.223393   \n",
       "4        0.600347     0.496862    0.359364   -0.368088  0.610032   0.508947   \n",
       "...           ...          ...         ...         ...       ...        ...   \n",
       "59701   -0.242290    -0.268084   -0.292185   -0.178574 -0.223616  -0.246777   \n",
       "59702   -0.242290    -0.268084   -0.292185   -0.178574 -0.223616  -0.246777   \n",
       "59703   -0.242290    -0.268084   -0.292185   -0.178574 -0.223616  -0.246777   \n",
       "59704   -0.242290    -0.268084   -0.292185   -0.178574 -0.223616  -0.246777   \n",
       "59705   -0.242290    -0.268084   -0.292185   -0.178574 -0.223616  -0.246777   \n",
       "\n",
       "       max_idle  std_idle  encoded_class  \n",
       "0      0.545133  0.554642              0  \n",
       "1      0.541502  0.495028              0  \n",
       "2      0.200576  0.753111              0  \n",
       "3      0.255431  0.760556              0  \n",
       "4      0.380876 -0.358025              0  \n",
       "...         ...       ...            ...  \n",
       "59701 -0.268493 -0.162674              0  \n",
       "59702 -0.268493 -0.162674              0  \n",
       "59703 -0.268493 -0.162674              0  \n",
       "59704 -0.268493 -0.162674              0  \n",
       "59705 -0.268493 -0.162674              0  \n",
       "\n",
       "[59706 rows x 24 columns]"
      ]
     },
     "execution_count": 42,
     "metadata": {},
     "output_type": "execute_result"
    }
   ],
   "source": [
    "dataNorm"
   ]
  },
  {
   "cell_type": "code",
   "execution_count": 43,
   "id": "7c7f5c75-97d0-43e2-9531-29da0df2f319",
   "metadata": {
    "colab": {
     "base_uri": "https://localhost:8080/",
     "height": 472
    },
    "colab_type": "code",
    "executionInfo": {
     "elapsed": 793,
     "status": "ok",
     "timestamp": 1584766260190,
     "user": {
      "displayName": "MAJEED UMER[학생](대학원 컴퓨터공학과) ‍",
      "photoUrl": "",
      "userId": "09904507153320373005"
     },
     "user_tz": -540
    },
    "id": "cezWf-8wp-Uw",
    "outputId": "52a8e09b-4c33-44cc-ffff-cdb172be4254"
   },
   "outputs": [
    {
     "data": {
      "text/plain": [
       "duration              float64\n",
       "total_fiat            float64\n",
       "total_biat            float64\n",
       "min_fiat              float64\n",
       "min_biat              float64\n",
       "max_fiat              float64\n",
       "max_biat              float64\n",
       "mean_fiat             float64\n",
       "mean_biat             float64\n",
       "flowPktsPerSecond     float64\n",
       "flowBytesPerSecond    float64\n",
       "min_flowiat           float64\n",
       "max_flowiat           float64\n",
       "mean_flowiat          float64\n",
       "std_flowiat           float64\n",
       "min_active            float64\n",
       "mean_active           float64\n",
       "max_active            float64\n",
       "std_active            float64\n",
       "min_idle              float64\n",
       "mean_idle             float64\n",
       "max_idle              float64\n",
       "std_idle              float64\n",
       "encoded_class           int32\n",
       "dtype: object"
      ]
     },
     "execution_count": 43,
     "metadata": {},
     "output_type": "execute_result"
    }
   ],
   "source": [
    "dataNorm.dtypes"
   ]
  },
  {
   "cell_type": "code",
   "execution_count": 44,
   "id": "fec95319-8399-4ec4-9c11-546866dd30f4",
   "metadata": {
    "colab": {
     "base_uri": "https://localhost:8080/",
     "height": 427
    },
    "colab_type": "code",
    "executionInfo": {
     "elapsed": 613,
     "status": "ok",
     "timestamp": 1584766261730,
     "user": {
      "displayName": "MAJEED UMER[학생](대학원 컴퓨터공학과) ‍",
      "photoUrl": "",
      "userId": "09904507153320373005"
     },
     "user_tz": -540
    },
    "id": "YSpuy-M5Y1WT",
    "outputId": "abf008bc-0eaa-4da8-b1f1-596838033edd"
   },
   "outputs": [
    {
     "data": {
      "text/html": [
       "<div>\n",
       "<style scoped>\n",
       "    .dataframe tbody tr th:only-of-type {\n",
       "        vertical-align: middle;\n",
       "    }\n",
       "\n",
       "    .dataframe tbody tr th {\n",
       "        vertical-align: top;\n",
       "    }\n",
       "\n",
       "    .dataframe thead th {\n",
       "        text-align: right;\n",
       "    }\n",
       "</style>\n",
       "<table border=\"1\" class=\"dataframe\">\n",
       "  <thead>\n",
       "    <tr style=\"text-align: right;\">\n",
       "      <th></th>\n",
       "      <th>duration</th>\n",
       "      <th>total_fiat</th>\n",
       "      <th>total_biat</th>\n",
       "      <th>min_fiat</th>\n",
       "      <th>min_biat</th>\n",
       "      <th>max_fiat</th>\n",
       "      <th>max_biat</th>\n",
       "      <th>mean_fiat</th>\n",
       "      <th>mean_biat</th>\n",
       "      <th>flowPktsPerSecond</th>\n",
       "      <th>...</th>\n",
       "      <th>std_flowiat</th>\n",
       "      <th>min_active</th>\n",
       "      <th>mean_active</th>\n",
       "      <th>max_active</th>\n",
       "      <th>std_active</th>\n",
       "      <th>min_idle</th>\n",
       "      <th>mean_idle</th>\n",
       "      <th>max_idle</th>\n",
       "      <th>std_idle</th>\n",
       "      <th>encoded_class</th>\n",
       "    </tr>\n",
       "  </thead>\n",
       "  <tbody>\n",
       "    <tr>\n",
       "      <th>0</th>\n",
       "      <td>1.387643</td>\n",
       "      <td>-0.311477</td>\n",
       "      <td>-0.276861</td>\n",
       "      <td>0.628009</td>\n",
       "      <td>0.823722</td>\n",
       "      <td>-0.411613</td>\n",
       "      <td>-0.392982</td>\n",
       "      <td>-0.162273</td>\n",
       "      <td>-0.155449</td>\n",
       "      <td>0.649243</td>\n",
       "      <td>...</td>\n",
       "      <td>-0.355567</td>\n",
       "      <td>-0.378909</td>\n",
       "      <td>-0.325365</td>\n",
       "      <td>0.526630</td>\n",
       "      <td>0.521968</td>\n",
       "      <td>-0.381806</td>\n",
       "      <td>-0.351999</td>\n",
       "      <td>0.545133</td>\n",
       "      <td>0.554642</td>\n",
       "      <td>0</td>\n",
       "    </tr>\n",
       "    <tr>\n",
       "      <th>1</th>\n",
       "      <td>1.433055</td>\n",
       "      <td>-0.311477</td>\n",
       "      <td>-0.276861</td>\n",
       "      <td>0.628704</td>\n",
       "      <td>0.818574</td>\n",
       "      <td>-0.409091</td>\n",
       "      <td>-0.394245</td>\n",
       "      <td>-0.155295</td>\n",
       "      <td>-0.162247</td>\n",
       "      <td>0.607625</td>\n",
       "      <td>...</td>\n",
       "      <td>-0.354658</td>\n",
       "      <td>-0.376179</td>\n",
       "      <td>-0.345179</td>\n",
       "      <td>0.524956</td>\n",
       "      <td>0.468308</td>\n",
       "      <td>-0.382291</td>\n",
       "      <td>-0.360140</td>\n",
       "      <td>0.541502</td>\n",
       "      <td>0.495028</td>\n",
       "      <td>0</td>\n",
       "    </tr>\n",
       "    <tr>\n",
       "      <th>2</th>\n",
       "      <td>0.876661</td>\n",
       "      <td>-0.311476</td>\n",
       "      <td>-0.276861</td>\n",
       "      <td>0.261788</td>\n",
       "      <td>0.379124</td>\n",
       "      <td>-0.376589</td>\n",
       "      <td>-0.349008</td>\n",
       "      <td>-0.042972</td>\n",
       "      <td>0.009202</td>\n",
       "      <td>0.199013</td>\n",
       "      <td>...</td>\n",
       "      <td>-0.263476</td>\n",
       "      <td>-0.331239</td>\n",
       "      <td>-0.176311</td>\n",
       "      <td>0.190405</td>\n",
       "      <td>0.661566</td>\n",
       "      <td>-0.374314</td>\n",
       "      <td>-0.195001</td>\n",
       "      <td>0.200576</td>\n",
       "      <td>0.753111</td>\n",
       "      <td>0</td>\n",
       "    </tr>\n",
       "    <tr>\n",
       "      <th>3</th>\n",
       "      <td>0.396602</td>\n",
       "      <td>-0.311477</td>\n",
       "      <td>-0.276861</td>\n",
       "      <td>0.320534</td>\n",
       "      <td>0.449830</td>\n",
       "      <td>-0.396896</td>\n",
       "      <td>-0.378565</td>\n",
       "      <td>-0.100082</td>\n",
       "      <td>-0.083194</td>\n",
       "      <td>0.187662</td>\n",
       "      <td>...</td>\n",
       "      <td>-0.312051</td>\n",
       "      <td>-0.371975</td>\n",
       "      <td>-0.201415</td>\n",
       "      <td>0.239987</td>\n",
       "      <td>0.728475</td>\n",
       "      <td>-0.377779</td>\n",
       "      <td>-0.223393</td>\n",
       "      <td>0.255431</td>\n",
       "      <td>0.760556</td>\n",
       "      <td>0</td>\n",
       "    </tr>\n",
       "    <tr>\n",
       "      <th>4</th>\n",
       "      <td>1.441082</td>\n",
       "      <td>1.925923</td>\n",
       "      <td>2.154681</td>\n",
       "      <td>0.452196</td>\n",
       "      <td>0.613841</td>\n",
       "      <td>1.628258</td>\n",
       "      <td>1.811737</td>\n",
       "      <td>-0.381014</td>\n",
       "      <td>-0.464994</td>\n",
       "      <td>-0.058262</td>\n",
       "      <td>...</td>\n",
       "      <td>0.944604</td>\n",
       "      <td>0.600347</td>\n",
       "      <td>0.496862</td>\n",
       "      <td>0.359364</td>\n",
       "      <td>-0.368088</td>\n",
       "      <td>0.610032</td>\n",
       "      <td>0.508947</td>\n",
       "      <td>0.380876</td>\n",
       "      <td>-0.358025</td>\n",
       "      <td>0</td>\n",
       "    </tr>\n",
       "    <tr>\n",
       "      <th>...</th>\n",
       "      <td>...</td>\n",
       "      <td>...</td>\n",
       "      <td>...</td>\n",
       "      <td>...</td>\n",
       "      <td>...</td>\n",
       "      <td>...</td>\n",
       "      <td>...</td>\n",
       "      <td>...</td>\n",
       "      <td>...</td>\n",
       "      <td>...</td>\n",
       "      <td>...</td>\n",
       "      <td>...</td>\n",
       "      <td>...</td>\n",
       "      <td>...</td>\n",
       "      <td>...</td>\n",
       "      <td>...</td>\n",
       "      <td>...</td>\n",
       "      <td>...</td>\n",
       "      <td>...</td>\n",
       "      <td>...</td>\n",
       "      <td>...</td>\n",
       "    </tr>\n",
       "    <tr>\n",
       "      <th>59701</th>\n",
       "      <td>-0.675617</td>\n",
       "      <td>-0.271345</td>\n",
       "      <td>-0.269416</td>\n",
       "      <td>-0.312038</td>\n",
       "      <td>-0.296472</td>\n",
       "      <td>-0.319534</td>\n",
       "      <td>-0.369323</td>\n",
       "      <td>-0.194815</td>\n",
       "      <td>-0.243745</td>\n",
       "      <td>-0.107057</td>\n",
       "      <td>...</td>\n",
       "      <td>-0.292869</td>\n",
       "      <td>-0.242290</td>\n",
       "      <td>-0.268084</td>\n",
       "      <td>-0.292185</td>\n",
       "      <td>-0.178574</td>\n",
       "      <td>-0.223616</td>\n",
       "      <td>-0.246777</td>\n",
       "      <td>-0.268493</td>\n",
       "      <td>-0.162674</td>\n",
       "      <td>0</td>\n",
       "    </tr>\n",
       "    <tr>\n",
       "      <th>59702</th>\n",
       "      <td>-0.677088</td>\n",
       "      <td>-0.271345</td>\n",
       "      <td>-0.269416</td>\n",
       "      <td>-0.312038</td>\n",
       "      <td>-0.296472</td>\n",
       "      <td>-0.319534</td>\n",
       "      <td>-0.369323</td>\n",
       "      <td>-0.194815</td>\n",
       "      <td>-0.243745</td>\n",
       "      <td>-0.106477</td>\n",
       "      <td>...</td>\n",
       "      <td>-0.292869</td>\n",
       "      <td>-0.242290</td>\n",
       "      <td>-0.268084</td>\n",
       "      <td>-0.292185</td>\n",
       "      <td>-0.178574</td>\n",
       "      <td>-0.223616</td>\n",
       "      <td>-0.246777</td>\n",
       "      <td>-0.268493</td>\n",
       "      <td>-0.162674</td>\n",
       "      <td>0</td>\n",
       "    </tr>\n",
       "    <tr>\n",
       "      <th>59703</th>\n",
       "      <td>-0.675986</td>\n",
       "      <td>-0.271345</td>\n",
       "      <td>-0.269416</td>\n",
       "      <td>-0.312038</td>\n",
       "      <td>-0.296472</td>\n",
       "      <td>-0.319534</td>\n",
       "      <td>-0.369323</td>\n",
       "      <td>-0.194815</td>\n",
       "      <td>-0.243745</td>\n",
       "      <td>-0.106945</td>\n",
       "      <td>...</td>\n",
       "      <td>-0.292869</td>\n",
       "      <td>-0.242290</td>\n",
       "      <td>-0.268084</td>\n",
       "      <td>-0.292185</td>\n",
       "      <td>-0.178574</td>\n",
       "      <td>-0.223616</td>\n",
       "      <td>-0.246777</td>\n",
       "      <td>-0.268493</td>\n",
       "      <td>-0.162674</td>\n",
       "      <td>0</td>\n",
       "    </tr>\n",
       "    <tr>\n",
       "      <th>59704</th>\n",
       "      <td>-0.658908</td>\n",
       "      <td>-0.271345</td>\n",
       "      <td>-0.269416</td>\n",
       "      <td>-0.312038</td>\n",
       "      <td>-0.296472</td>\n",
       "      <td>-0.319534</td>\n",
       "      <td>-0.369323</td>\n",
       "      <td>-0.194815</td>\n",
       "      <td>-0.243745</td>\n",
       "      <td>-0.108152</td>\n",
       "      <td>...</td>\n",
       "      <td>-0.292869</td>\n",
       "      <td>-0.242290</td>\n",
       "      <td>-0.268084</td>\n",
       "      <td>-0.292185</td>\n",
       "      <td>-0.178574</td>\n",
       "      <td>-0.223616</td>\n",
       "      <td>-0.246777</td>\n",
       "      <td>-0.268493</td>\n",
       "      <td>-0.162674</td>\n",
       "      <td>0</td>\n",
       "    </tr>\n",
       "    <tr>\n",
       "      <th>59705</th>\n",
       "      <td>-0.675398</td>\n",
       "      <td>-0.271345</td>\n",
       "      <td>-0.269416</td>\n",
       "      <td>-0.312038</td>\n",
       "      <td>-0.296472</td>\n",
       "      <td>-0.319534</td>\n",
       "      <td>-0.369323</td>\n",
       "      <td>-0.194815</td>\n",
       "      <td>-0.243745</td>\n",
       "      <td>-0.107116</td>\n",
       "      <td>...</td>\n",
       "      <td>-0.292869</td>\n",
       "      <td>-0.242290</td>\n",
       "      <td>-0.268084</td>\n",
       "      <td>-0.292185</td>\n",
       "      <td>-0.178574</td>\n",
       "      <td>-0.223616</td>\n",
       "      <td>-0.246777</td>\n",
       "      <td>-0.268493</td>\n",
       "      <td>-0.162674</td>\n",
       "      <td>0</td>\n",
       "    </tr>\n",
       "  </tbody>\n",
       "</table>\n",
       "<p>59706 rows × 24 columns</p>\n",
       "</div>"
      ],
      "text/plain": [
       "       duration  total_fiat  total_biat  min_fiat  min_biat  max_fiat  \\\n",
       "0      1.387643   -0.311477   -0.276861  0.628009  0.823722 -0.411613   \n",
       "1      1.433055   -0.311477   -0.276861  0.628704  0.818574 -0.409091   \n",
       "2      0.876661   -0.311476   -0.276861  0.261788  0.379124 -0.376589   \n",
       "3      0.396602   -0.311477   -0.276861  0.320534  0.449830 -0.396896   \n",
       "4      1.441082    1.925923    2.154681  0.452196  0.613841  1.628258   \n",
       "...         ...         ...         ...       ...       ...       ...   \n",
       "59701 -0.675617   -0.271345   -0.269416 -0.312038 -0.296472 -0.319534   \n",
       "59702 -0.677088   -0.271345   -0.269416 -0.312038 -0.296472 -0.319534   \n",
       "59703 -0.675986   -0.271345   -0.269416 -0.312038 -0.296472 -0.319534   \n",
       "59704 -0.658908   -0.271345   -0.269416 -0.312038 -0.296472 -0.319534   \n",
       "59705 -0.675398   -0.271345   -0.269416 -0.312038 -0.296472 -0.319534   \n",
       "\n",
       "       max_biat  mean_fiat  mean_biat  flowPktsPerSecond  ...  std_flowiat  \\\n",
       "0     -0.392982  -0.162273  -0.155449           0.649243  ...    -0.355567   \n",
       "1     -0.394245  -0.155295  -0.162247           0.607625  ...    -0.354658   \n",
       "2     -0.349008  -0.042972   0.009202           0.199013  ...    -0.263476   \n",
       "3     -0.378565  -0.100082  -0.083194           0.187662  ...    -0.312051   \n",
       "4      1.811737  -0.381014  -0.464994          -0.058262  ...     0.944604   \n",
       "...         ...        ...        ...                ...  ...          ...   \n",
       "59701 -0.369323  -0.194815  -0.243745          -0.107057  ...    -0.292869   \n",
       "59702 -0.369323  -0.194815  -0.243745          -0.106477  ...    -0.292869   \n",
       "59703 -0.369323  -0.194815  -0.243745          -0.106945  ...    -0.292869   \n",
       "59704 -0.369323  -0.194815  -0.243745          -0.108152  ...    -0.292869   \n",
       "59705 -0.369323  -0.194815  -0.243745          -0.107116  ...    -0.292869   \n",
       "\n",
       "       min_active  mean_active  max_active  std_active  min_idle  mean_idle  \\\n",
       "0       -0.378909    -0.325365    0.526630    0.521968 -0.381806  -0.351999   \n",
       "1       -0.376179    -0.345179    0.524956    0.468308 -0.382291  -0.360140   \n",
       "2       -0.331239    -0.176311    0.190405    0.661566 -0.374314  -0.195001   \n",
       "3       -0.371975    -0.201415    0.239987    0.728475 -0.377779  -0.223393   \n",
       "4        0.600347     0.496862    0.359364   -0.368088  0.610032   0.508947   \n",
       "...           ...          ...         ...         ...       ...        ...   \n",
       "59701   -0.242290    -0.268084   -0.292185   -0.178574 -0.223616  -0.246777   \n",
       "59702   -0.242290    -0.268084   -0.292185   -0.178574 -0.223616  -0.246777   \n",
       "59703   -0.242290    -0.268084   -0.292185   -0.178574 -0.223616  -0.246777   \n",
       "59704   -0.242290    -0.268084   -0.292185   -0.178574 -0.223616  -0.246777   \n",
       "59705   -0.242290    -0.268084   -0.292185   -0.178574 -0.223616  -0.246777   \n",
       "\n",
       "       max_idle  std_idle  encoded_class  \n",
       "0      0.545133  0.554642              0  \n",
       "1      0.541502  0.495028              0  \n",
       "2      0.200576  0.753111              0  \n",
       "3      0.255431  0.760556              0  \n",
       "4      0.380876 -0.358025              0  \n",
       "...         ...       ...            ...  \n",
       "59701 -0.268493 -0.162674              0  \n",
       "59702 -0.268493 -0.162674              0  \n",
       "59703 -0.268493 -0.162674              0  \n",
       "59704 -0.268493 -0.162674              0  \n",
       "59705 -0.268493 -0.162674              0  \n",
       "\n",
       "[59706 rows x 24 columns]"
      ]
     },
     "execution_count": 44,
     "metadata": {},
     "output_type": "execute_result"
    }
   ],
   "source": [
    "dataNorm"
   ]
  },
  {
   "cell_type": "code",
   "execution_count": 51,
   "id": "c461dde7-e889-4075-9f29-ce9979951e67",
   "metadata": {
    "colab": {
     "base_uri": "https://localhost:8080/",
     "height": 72
    },
    "colab_type": "code",
    "executionInfo": {
     "elapsed": 542,
     "status": "ok",
     "timestamp": 1584766264859,
     "user": {
      "displayName": "MAJEED UMER[학생](대학원 컴퓨터공학과) ‍",
      "photoUrl": "",
      "userId": "09904507153320373005"
     },
     "user_tz": -540
    },
    "id": "OPPEJFcccXOh",
    "outputId": "a40856d4-80ae-449a-90c5-17486bd81e48"
   },
   "outputs": [
    {
     "data": {
      "text/plain": [
       "1    30093\n",
       "0    29613\n",
       "Name: encoded_class, dtype: int64"
      ]
     },
     "execution_count": 51,
     "metadata": {},
     "output_type": "execute_result"
    }
   ],
   "source": [
    "dataNorm['encoded_class'].value_counts()"
   ]
  },
  {
   "cell_type": "code",
   "execution_count": 48,
   "id": "bbd9593f-3b35-4908-b6da-3619c42eab4d",
   "metadata": {
    "colab": {},
    "colab_type": "code",
    "id": "x3QlnCR4xZem"
   },
   "outputs": [],
   "source": [
    "df_total_numeric_features=dataNorm[['duration',\n",
    " 'total_fiat',\n",
    " 'total_biat',\n",
    " 'min_fiat',\n",
    " 'min_biat',\n",
    " 'max_fiat',\n",
    " 'max_biat',\n",
    " 'mean_fiat',\n",
    " 'mean_biat',\n",
    " 'flowPktsPerSecond',\n",
    " 'flowBytesPerSecond',\n",
    " 'min_flowiat',\n",
    " 'max_flowiat',\n",
    " 'mean_flowiat',\n",
    " 'std_flowiat',\n",
    " 'min_active',\n",
    " 'mean_active',\n",
    " 'max_active',\n",
    " 'std_active',\n",
    " 'min_idle',\n",
    " 'mean_idle',\n",
    " 'max_idle',\n",
    " 'std_idle']].to_numpy()"
   ]
  },
  {
   "cell_type": "code",
   "execution_count": 49,
   "id": "2b039031-242a-4b46-a4d4-e6df700d9df6",
   "metadata": {
    "colab": {},
    "colab_type": "code",
    "id": "n5eo6zN6xdb8"
   },
   "outputs": [],
   "source": [
    "df_total_numeric_label=dataNorm[['encoded_class']].to_numpy()"
   ]
  },
  {
   "cell_type": "code",
   "execution_count": 50,
   "id": "b1bbe0b4-53b3-4023-be0a-1bf44fd6bb39",
   "metadata": {
    "colab": {},
    "colab_type": "code",
    "id": "caGQHbrDCgYl"
   },
   "outputs": [],
   "source": [
    "ohe_label = to_categorical(df_total_numeric_label)"
   ]
  },
  {
   "cell_type": "code",
   "execution_count": 51,
   "id": "2c2de892-d3ab-487d-b865-1d863f32aaf6",
   "metadata": {
    "colab": {
     "base_uri": "https://localhost:8080/",
     "height": 35
    },
    "colab_type": "code",
    "executionInfo": {
     "elapsed": 1086,
     "status": "ok",
     "timestamp": 1584665894271,
     "user": {
      "displayName": "MAJEED UMER[학생](대학원 컴퓨터공학과) ‍",
      "photoUrl": "",
      "userId": "09904507153320373005"
     },
     "user_tz": -540
    },
    "id": "jFNmfBKtCqZa",
    "outputId": "6511f51c-a90d-4b95-c33a-7371095aac1a"
   },
   "outputs": [
    {
     "data": {
      "text/plain": [
       "array([0., 1.], dtype=float32)"
      ]
     },
     "execution_count": 51,
     "metadata": {},
     "output_type": "execute_result"
    }
   ],
   "source": [
    "ohe_label[30000]"
   ]
  },
  {
   "cell_type": "code",
   "execution_count": 52,
   "id": "d7b753f7-b905-4abd-8449-a643680a5cfb",
   "metadata": {
    "colab": {
     "base_uri": "https://localhost:8080/",
     "height": 35
    },
    "colab_type": "code",
    "executionInfo": {
     "elapsed": 478,
     "status": "ok",
     "timestamp": 1584665894272,
     "user": {
      "displayName": "MAJEED UMER[학생](대학원 컴퓨터공학과) ‍",
      "photoUrl": "",
      "userId": "09904507153320373005"
     },
     "user_tz": -540
    },
    "id": "7aYstsa4Crpm",
    "outputId": "64a16169-3c8d-4552-8e00-086cdc293937"
   },
   "outputs": [
    {
     "data": {
      "text/plain": [
       "array([1])"
      ]
     },
     "execution_count": 52,
     "metadata": {},
     "output_type": "execute_result"
    }
   ],
   "source": [
    "df_total_numeric_label[30000]"
   ]
  },
  {
   "cell_type": "code",
   "execution_count": 53,
   "id": "b4a7379f-62b1-4acf-9ef1-4fdcce974690",
   "metadata": {
    "colab": {},
    "colab_type": "code",
    "id": "VzbTo7ZHxgQc"
   },
   "outputs": [],
   "source": [
    "X_train, X_test, y_train, y_test = train_test_split(df_total_numeric_features, ohe_label,\n",
    "                                                    stratify=ohe_label, \n",
    "                                                    test_size=0.2)"
   ]
  },
  {
   "cell_type": "code",
   "execution_count": 54,
   "id": "759faf96-ef85-4ca2-8e76-1a0b81532fc3",
   "metadata": {
    "colab": {},
    "colab_type": "code",
    "id": "4LFgh2dL3d_P"
   },
   "outputs": [],
   "source": [
    "\n",
    "(unique, counts) = np.unique(y_train, return_counts=True,axis=0)"
   ]
  },
  {
   "cell_type": "code",
   "execution_count": 55,
   "id": "80e65c1a-690c-439c-9b1a-c39ae94e46f4",
   "metadata": {
    "colab": {
     "base_uri": "https://localhost:8080/",
     "height": 54
    },
    "colab_type": "code",
    "executionInfo": {
     "elapsed": 955,
     "status": "ok",
     "timestamp": 1584665897880,
     "user": {
      "displayName": "MAJEED UMER[학생](대학원 컴퓨터공학과) ‍",
      "photoUrl": "",
      "userId": "09904507153320373005"
     },
     "user_tz": -540
    },
    "id": "AQw1TBLI4FLM",
    "outputId": "6b3dd293-b561-413f-d4c3-821e43dfc7e5"
   },
   "outputs": [
    {
     "data": {
      "text/plain": [
       "array([[0., 1.],\n",
       "       [1., 0.]], dtype=float32)"
      ]
     },
     "execution_count": 55,
     "metadata": {},
     "output_type": "execute_result"
    }
   ],
   "source": [
    "unique"
   ]
  },
  {
   "cell_type": "code",
   "execution_count": 56,
   "id": "96fdb9f8-a7c9-4b3e-bdc1-295dc8c97aec",
   "metadata": {
    "colab": {
     "base_uri": "https://localhost:8080/",
     "height": 35
    },
    "colab_type": "code",
    "executionInfo": {
     "elapsed": 1046,
     "status": "ok",
     "timestamp": 1584665898674,
     "user": {
      "displayName": "MAJEED UMER[학생](대학원 컴퓨터공학과) ‍",
      "photoUrl": "",
      "userId": "09904507153320373005"
     },
     "user_tz": -540
    },
    "id": "N6Yih1lg4VpQ",
    "outputId": "14ce958d-d686-4ad5-c4f5-7fffc0618e8d"
   },
   "outputs": [
    {
     "data": {
      "text/plain": [
       "array([24074, 23690], dtype=int64)"
      ]
     },
     "execution_count": 56,
     "metadata": {},
     "output_type": "execute_result"
    }
   ],
   "source": [
    "counts"
   ]
  },
  {
   "cell_type": "code",
   "execution_count": 57,
   "id": "a6be3568-ef55-4cb4-ba54-5cdd49ae8e68",
   "metadata": {
    "colab": {},
    "colab_type": "code",
    "id": "s2EcMIO0sclI"
   },
   "outputs": [],
   "source": [
    "\n",
    "(unique, counts) = np.unique(y_test, return_counts=True,axis=0)"
   ]
  },
  {
   "cell_type": "code",
   "execution_count": 58,
   "id": "017d7b50-dc58-4c9d-a9e8-900b7028d000",
   "metadata": {
    "colab": {
     "base_uri": "https://localhost:8080/",
     "height": 54
    },
    "colab_type": "code",
    "executionInfo": {
     "elapsed": 605,
     "status": "ok",
     "timestamp": 1584670057728,
     "user": {
      "displayName": "MAJEED UMER[학생](대학원 컴퓨터공학과) ‍",
      "photoUrl": "",
      "userId": "09904507153320373005"
     },
     "user_tz": -540
    },
    "id": "g9EVVhCqsclM",
    "outputId": "cc11d497-f710-4e17-a1cf-e59137d452eb"
   },
   "outputs": [
    {
     "data": {
      "text/plain": [
       "array([[0., 1.],\n",
       "       [1., 0.]], dtype=float32)"
      ]
     },
     "execution_count": 58,
     "metadata": {},
     "output_type": "execute_result"
    }
   ],
   "source": [
    "unique"
   ]
  },
  {
   "cell_type": "code",
   "execution_count": 59,
   "id": "4971949a-64bb-4ef5-a932-57bc1aa1447d",
   "metadata": {
    "colab": {
     "base_uri": "https://localhost:8080/",
     "height": 35
    },
    "colab_type": "code",
    "executionInfo": {
     "elapsed": 567,
     "status": "ok",
     "timestamp": 1584670059877,
     "user": {
      "displayName": "MAJEED UMER[학생](대학원 컴퓨터공학과) ‍",
      "photoUrl": "",
      "userId": "09904507153320373005"
     },
     "user_tz": -540
    },
    "id": "gJr_Q94VsclO",
    "outputId": "13e5111d-da8d-46f7-838c-b06a04dbb98a"
   },
   "outputs": [
    {
     "data": {
      "text/plain": [
       "array([6019, 5923], dtype=int64)"
      ]
     },
     "execution_count": 59,
     "metadata": {},
     "output_type": "execute_result"
    }
   ],
   "source": [
    "counts"
   ]
  },
  {
   "cell_type": "code",
   "execution_count": 60,
   "id": "fc7b5131-d69b-4f44-9f2d-98d467d302df",
   "metadata": {
    "colab": {
     "base_uri": "https://localhost:8080/",
     "height": 35
    },
    "colab_type": "code",
    "executionInfo": {
     "elapsed": 15563,
     "status": "ok",
     "timestamp": 1584766302027,
     "user": {
      "displayName": "MAJEED UMER[학생](대학원 컴퓨터공학과) ‍",
      "photoUrl": "",
      "userId": "09904507153320373005"
     },
     "user_tz": -540
    },
    "id": "8Z32Ll4gx_rY",
    "outputId": "3c996480-bb04-46cb-adaf-06542b304174"
   },
   "outputs": [
    {
     "data": {
      "text/plain": [
       "11942"
      ]
     },
     "execution_count": 60,
     "metadata": {},
     "output_type": "execute_result"
    }
   ],
   "source": [
    "total_test=len(X_test)\n",
    "total_test"
   ]
  },
  {
   "cell_type": "code",
   "execution_count": 61,
   "id": "f47ef756-99d7-4107-9411-088a348814fb",
   "metadata": {
    "colab": {
     "base_uri": "https://localhost:8080/",
     "height": 35
    },
    "colab_type": "code",
    "executionInfo": {
     "elapsed": 14563,
     "status": "ok",
     "timestamp": 1584766302028,
     "user": {
      "displayName": "MAJEED UMER[학생](대학원 컴퓨터공학과) ‍",
      "photoUrl": "",
      "userId": "09904507153320373005"
     },
     "user_tz": -540
    },
    "id": "afJBCAtlyEat",
    "outputId": "9eeb564f-df4b-48e4-a6a0-f13f3fabb9f1"
   },
   "outputs": [
    {
     "data": {
      "text/plain": [
       "47764"
      ]
     },
     "execution_count": 61,
     "metadata": {},
     "output_type": "execute_result"
    }
   ],
   "source": [
    "total_train=len(X_train)\n",
    "total_train"
   ]
  },
  {
   "cell_type": "code",
   "execution_count": 62,
   "id": "878173a8-8160-4425-a436-c25c5827aa21",
   "metadata": {
    "colab": {},
    "colab_type": "code",
    "id": "xYdieMyzxrTb"
   },
   "outputs": [],
   "source": [
    "\n",
    "\n",
    "np.random.seed(1000)"
   ]
  },
  {
   "cell_type": "code",
   "execution_count": 63,
   "id": "230c9e9f-9fe1-4f26-ac0b-0ee7de2c9b22",
   "metadata": {
    "colab": {},
    "colab_type": "code",
    "id": "vbRm893Qyw3I"
   },
   "outputs": [],
   "source": [
    "x_train, y_train = shuffle(X_train, y_train, random_state=1000)\n",
    "x_test, y_test = shuffle(X_test, y_test, random_state=1000)"
   ]
  },
  {
   "cell_type": "code",
   "execution_count": 64,
   "id": "8a6aef00-7735-4298-917a-e77e5bbb9fdd",
   "metadata": {
    "colab": {
     "base_uri": "https://localhost:8080/",
     "height": 35
    },
    "colab_type": "code",
    "executionInfo": {
     "elapsed": 1228,
     "status": "ok",
     "timestamp": 1584665927313,
     "user": {
      "displayName": "MAJEED UMER[학생](대학원 컴퓨터공학과) ‍",
      "photoUrl": "",
      "userId": "09904507153320373005"
     },
     "user_tz": -540
    },
    "id": "Nu_tlPlmzB14",
    "outputId": "d8f240f7-7b97-4744-b5c6-b01f3886ad1c"
   },
   "outputs": [
    {
     "data": {
      "text/plain": [
       "47764"
      ]
     },
     "execution_count": 64,
     "metadata": {},
     "output_type": "execute_result"
    }
   ],
   "source": [
    "len(x_train)"
   ]
  },
  {
   "cell_type": "code",
   "execution_count": 65,
   "id": "7a688178-4ce1-49ba-805e-e6f53ef3e08c",
   "metadata": {
    "colab": {
     "base_uri": "https://localhost:8080/",
     "height": 35
    },
    "colab_type": "code",
    "executionInfo": {
     "elapsed": 1009,
     "status": "ok",
     "timestamp": 1584665928909,
     "user": {
      "displayName": "MAJEED UMER[학생](대학원 컴퓨터공학과) ‍",
      "photoUrl": "",
      "userId": "09904507153320373005"
     },
     "user_tz": -540
    },
    "id": "HtRWg0qfzGq4",
    "outputId": "5ccfbede-710d-47e8-a4f5-57551f6ccc8a"
   },
   "outputs": [
    {
     "data": {
      "text/plain": [
       "11942"
      ]
     },
     "execution_count": 65,
     "metadata": {},
     "output_type": "execute_result"
    }
   ],
   "source": [
    "len(x_test)"
   ]
  },
  {
   "cell_type": "code",
   "execution_count": 67,
   "id": "00d33929-7cdf-4789-8ba2-e116c6a276ce",
   "metadata": {
    "colab": {},
    "colab_type": "code",
    "id": "uYFk6NO70hmT"
   },
   "outputs": [],
   "source": [
    "y_train=y_train.astype('int32')"
   ]
  },
  {
   "cell_type": "code",
   "execution_count": 68,
   "id": "8e5b6929-2fd2-4d7d-8ef4-abfd436637ab",
   "metadata": {
    "colab": {},
    "colab_type": "code",
    "id": "5i3ovhxv0vFS"
   },
   "outputs": [],
   "source": [
    "x_train=x_train.astype('float32')"
   ]
  },
  {
   "cell_type": "code",
   "execution_count": 69,
   "id": "5c17bb0e-cac2-4450-ac90-82c73f9c60c5",
   "metadata": {
    "colab": {
     "base_uri": "https://localhost:8080/",
     "height": 35
    },
    "colab_type": "code",
    "executionInfo": {
     "elapsed": 889,
     "status": "ok",
     "timestamp": 1584665932767,
     "user": {
      "displayName": "MAJEED UMER[학생](대학원 컴퓨터공학과) ‍",
      "photoUrl": "",
      "userId": "09904507153320373005"
     },
     "user_tz": -540
    },
    "id": "Jnj2pPzP00f5",
    "outputId": "987728d1-35a3-485a-aec1-d50cb039e6b2"
   },
   "outputs": [
    {
     "data": {
      "text/plain": [
       "(23,)"
      ]
     },
     "execution_count": 69,
     "metadata": {},
     "output_type": "execute_result"
    }
   ],
   "source": [
    "x_train[1].shape"
   ]
  },
  {
   "cell_type": "code",
   "execution_count": 70,
   "id": "6d666bf0-2023-4bbf-9756-1358f938581a",
   "metadata": {
    "colab": {
     "base_uri": "https://localhost:8080/",
     "height": 108
    },
    "colab_type": "code",
    "executionInfo": {
     "elapsed": 515,
     "status": "ok",
     "timestamp": 1584665933150,
     "user": {
      "displayName": "MAJEED UMER[학생](대학원 컴퓨터공학과) ‍",
      "photoUrl": "",
      "userId": "09904507153320373005"
     },
     "user_tz": -540
    },
    "id": "S1xCaVI9i9hA",
    "outputId": "d50a9294-518a-4f73-a24a-4d18b5db4f21"
   },
   "outputs": [
    {
     "data": {
      "text/plain": [
       "array([-0.46668154, -0.27131087, -0.2693655 , -0.16912448, -0.13390942,\n",
       "       -0.27053908, -0.29352883, -0.11285513, -0.08152592, -0.10783993,\n",
       "       -0.05051036, -0.09378807, -0.16857561, -0.28026292, -0.21702717,\n",
       "       -0.08585092, -0.11316845, -0.14214267, -0.17857406, -0.1098569 ,\n",
       "       -0.13412452, -0.15930304, -0.16267352], dtype=float32)"
      ]
     },
     "execution_count": 70,
     "metadata": {},
     "output_type": "execute_result"
    }
   ],
   "source": [
    "x_train[1]"
   ]
  },
  {
   "cell_type": "code",
   "execution_count": 73,
   "id": "962344e2-0c4f-408e-b0f2-4ea2486334ed",
   "metadata": {
    "colab": {},
    "colab_type": "code",
    "id": "6NwYTmJH03Sp"
   },
   "outputs": [],
   "source": [
    "y_test=y_test.astype('int32')"
   ]
  },
  {
   "cell_type": "code",
   "execution_count": 74,
   "id": "e1825fa8-06f9-4580-a8c7-bfe059873cf2",
   "metadata": {
    "colab": {},
    "colab_type": "code",
    "id": "O_QZzXj71NGn"
   },
   "outputs": [],
   "source": [
    "x_test=x_test.astype('float32')"
   ]
  },
  {
   "cell_type": "code",
   "execution_count": 75,
   "id": "fcb3a53f-202e-43a8-9e46-87928fd77880",
   "metadata": {
    "colab": {},
    "colab_type": "code",
    "id": "5x1Geuc640_H"
   },
   "outputs": [],
   "source": [
    "Epochs=600"
   ]
  },
  {
   "cell_type": "code",
   "execution_count": 77,
   "id": "4741bbce-370b-437c-9eb7-fa15f7f2ef4b",
   "metadata": {},
   "outputs": [],
   "source": [
    " model_1 = tf.keras.models.Sequential([\n",
    "    tf.keras.layers.Input(shape=(23,)), \n",
    "\n",
    "    tf.keras.layers.Dense(512, activation='relu'),\n",
    "    tf.keras.layers.Dense(512, activation='relu'),\n",
    "    tf.keras.layers.Dense(512, activation='relu'),\n",
    "\n",
    "    tf.keras.layers.Dropout(0.2),\n",
    "\n",
    "    tf.keras.layers.Dense(512, activation='relu'),\n",
    "    tf.keras.layers.Dense(512, activation='relu'),\n",
    "    tf.keras.layers.Dense(512, activation='relu'),\n",
    "    \n",
    "    tf.keras.layers.Dropout(0.2),\n",
    "\n",
    "    tf.keras.layers.Dense(512, activation='relu'),\n",
    "    tf.keras.layers.Dense(512, activation='relu'),\n",
    "    tf.keras.layers.Dense(512, activation='relu'),\n",
    "    tf.keras.layers.Dense(14, activation='softmax')\n",
    "      \n",
    "    ])"
   ]
  },
  {
   "cell_type": "code",
   "execution_count": 78,
   "id": "c8380436-dd86-4d28-876f-6bda9665e713",
   "metadata": {},
   "outputs": [],
   "source": [
    "model_1.load_weights('ScenarioB-weights-best.hdf5')"
   ]
  },
  {
   "cell_type": "code",
   "execution_count": 79,
   "id": "ab2f8abd-09ab-4164-b339-6456b5a606c3",
   "metadata": {
    "colab": {},
    "colab_type": "code",
    "id": "nkiSQ-2S49el"
   },
   "outputs": [],
   "source": [
    "model_2 = tf.keras.models.Sequential([\n",
    "                                           \n",
    "    tf.keras.layers.Input(shape=(23,)), \n",
    "\n",
    "    tf.keras.layers.Dense(512, activation='relu',trainable=False),\n",
    "    tf.keras.layers.Dense(512, activation='relu',trainable=False),\n",
    "    tf.keras.layers.Dense(512, activation='relu',trainable=False),\n",
    "\n",
    "    tf.keras.layers.Dropout(0.2),\n",
    "\n",
    "    tf.keras.layers.Dense(512, activation='relu',trainable=False),\n",
    "    tf.keras.layers.Dense(512, activation='relu',trainable=False),\n",
    "    tf.keras.layers.Dense(512, activation='relu',trainable=False),\n",
    "    \n",
    "    tf.keras.layers.Dropout(0.2),\n",
    "\n",
    "    tf.keras.layers.Dense(512, activation='relu'),\n",
    "    tf.keras.layers.Dense(512, activation='relu'),\n",
    "    tf.keras.layers.Dense(512, activation='relu'),\n",
    "    tf.keras.layers.Dense(2, activation='softmax')\n",
    "\n",
    "])\n",
    "\n"
   ]
  },
  {
   "cell_type": "code",
   "execution_count": 80,
   "id": "49eb9809-e48d-4c51-950d-875763509b39",
   "metadata": {},
   "outputs": [],
   "source": [
    "model_2_baseline = tf.keras.models.Sequential([\n",
    "                                           \n",
    "    tf.keras.layers.Input(shape=(23,)), \n",
    "\n",
    "    tf.keras.layers.Dense(512, activation='relu'),\n",
    "    tf.keras.layers.Dense(512, activation='relu'),\n",
    "    tf.keras.layers.Dense(512, activation='relu'),\n",
    "\n",
    "    tf.keras.layers.Dropout(0.2),\n",
    "\n",
    "    tf.keras.layers.Dense(512, activation='relu'),\n",
    "    tf.keras.layers.Dense(512, activation='relu'),\n",
    "    tf.keras.layers.Dense(512, activation='relu'),\n",
    "    \n",
    "    tf.keras.layers.Dropout(0.2),\n",
    "\n",
    "    tf.keras.layers.Dense(512, activation='relu'),\n",
    "    tf.keras.layers.Dense(512, activation='relu'),\n",
    "    tf.keras.layers.Dense(512, activation='relu'),\n",
    "    tf.keras.layers.Dense(2, activation='softmax')\n",
    "\n",
    "])"
   ]
  },
  {
   "cell_type": "code",
   "execution_count": 81,
   "id": "84633a7d-7065-4b6c-b239-d63280a261ff",
   "metadata": {},
   "outputs": [
    {
     "name": "stdout",
     "output_type": "stream",
     "text": [
      "Model: \"sequential_1\"\n",
      "_________________________________________________________________\n",
      "Layer (type)                 Output Shape              Param #   \n",
      "=================================================================\n",
      "dense_10 (Dense)             (None, 512)               12288     \n",
      "_________________________________________________________________\n",
      "dense_11 (Dense)             (None, 512)               262656    \n",
      "_________________________________________________________________\n",
      "dense_12 (Dense)             (None, 512)               262656    \n",
      "_________________________________________________________________\n",
      "dropout_2 (Dropout)          (None, 512)               0         \n",
      "_________________________________________________________________\n",
      "dense_13 (Dense)             (None, 512)               262656    \n",
      "_________________________________________________________________\n",
      "dense_14 (Dense)             (None, 512)               262656    \n",
      "_________________________________________________________________\n",
      "dense_15 (Dense)             (None, 512)               262656    \n",
      "_________________________________________________________________\n",
      "dropout_3 (Dropout)          (None, 512)               0         \n",
      "_________________________________________________________________\n",
      "dense_16 (Dense)             (None, 512)               262656    \n",
      "_________________________________________________________________\n",
      "dense_17 (Dense)             (None, 512)               262656    \n",
      "_________________________________________________________________\n",
      "dense_18 (Dense)             (None, 512)               262656    \n",
      "_________________________________________________________________\n",
      "dense_19 (Dense)             (None, 2)                 1026      \n",
      "=================================================================\n",
      "Total params: 2,114,562\n",
      "Trainable params: 788,994\n",
      "Non-trainable params: 1,325,568\n",
      "_________________________________________________________________\n"
     ]
    }
   ],
   "source": [
    "model_2.summary()"
   ]
  },
  {
   "cell_type": "code",
   "execution_count": 82,
   "id": "62048827-43b5-403b-9c7c-2c59eebd367a",
   "metadata": {},
   "outputs": [
    {
     "name": "stdout",
     "output_type": "stream",
     "text": [
      "Model: \"sequential_2\"\n",
      "_________________________________________________________________\n",
      "Layer (type)                 Output Shape              Param #   \n",
      "=================================================================\n",
      "dense_20 (Dense)             (None, 512)               12288     \n",
      "_________________________________________________________________\n",
      "dense_21 (Dense)             (None, 512)               262656    \n",
      "_________________________________________________________________\n",
      "dense_22 (Dense)             (None, 512)               262656    \n",
      "_________________________________________________________________\n",
      "dropout_4 (Dropout)          (None, 512)               0         \n",
      "_________________________________________________________________\n",
      "dense_23 (Dense)             (None, 512)               262656    \n",
      "_________________________________________________________________\n",
      "dense_24 (Dense)             (None, 512)               262656    \n",
      "_________________________________________________________________\n",
      "dense_25 (Dense)             (None, 512)               262656    \n",
      "_________________________________________________________________\n",
      "dropout_5 (Dropout)          (None, 512)               0         \n",
      "_________________________________________________________________\n",
      "dense_26 (Dense)             (None, 512)               262656    \n",
      "_________________________________________________________________\n",
      "dense_27 (Dense)             (None, 512)               262656    \n",
      "_________________________________________________________________\n",
      "dense_28 (Dense)             (None, 512)               262656    \n",
      "_________________________________________________________________\n",
      "dense_29 (Dense)             (None, 2)                 1026      \n",
      "=================================================================\n",
      "Total params: 2,114,562\n",
      "Trainable params: 2,114,562\n",
      "Non-trainable params: 0\n",
      "_________________________________________________________________\n"
     ]
    }
   ],
   "source": [
    "model_2_baseline.summary()"
   ]
  },
  {
   "cell_type": "code",
   "execution_count": 83,
   "id": "e4dd845c-c3f3-44d7-9d86-816116a15bc5",
   "metadata": {},
   "outputs": [],
   "source": [
    "for i in [0,1,2,4,5,6]:\n",
    "    model_2.layers[i].set_weights(model_1.layers[i].get_weights())\n"
   ]
  },
  {
   "cell_type": "code",
   "execution_count": null,
   "id": "ad0c5bbf-c2c7-4c84-b8ac-c79b51ce57a3",
   "metadata": {},
   "outputs": [],
   "source": [
    "model_2.get_weights()"
   ]
  },
  {
   "cell_type": "code",
   "execution_count": 84,
   "id": "d30ca342-f9a9-4618-95ae-11fec771ccc2",
   "metadata": {},
   "outputs": [],
   "source": [
    "loss_fn=tf.keras.losses.CategoricalCrossentropy()"
   ]
  },
  {
   "cell_type": "code",
   "execution_count": 85,
   "id": "ceee3796-9cfb-4c40-9b81-634cc6c9f3ca",
   "metadata": {},
   "outputs": [],
   "source": [
    "model_2.compile(optimizer='sgd',\n",
    "              loss=loss_fn,\n",
    "              metrics=[tf.keras.metrics.CategoricalAccuracy()])"
   ]
  },
  {
   "cell_type": "code",
   "execution_count": 86,
   "id": "b97ee16c-42ed-4da4-8f07-d52ea7c81720",
   "metadata": {},
   "outputs": [],
   "source": [
    "model_2_baseline.compile(optimizer='sgd',\n",
    "              loss=loss_fn,\n",
    "              metrics=[tf.keras.metrics.CategoricalAccuracy()])"
   ]
  },
  {
   "cell_type": "code",
   "execution_count": 88,
   "id": "b14c0292-4afd-4937-99ec-9ac1b074f24b",
   "metadata": {},
   "outputs": [],
   "source": [
    "from tensorflow.keras.callbacks import ModelCheckpoint "
   ]
  },
  {
   "cell_type": "code",
   "execution_count": 89,
   "id": "ad3f1120-87f9-4928-9dc6-1bfca0f2d8f7",
   "metadata": {},
   "outputs": [],
   "source": [
    "filepath=\"ScenarioAmt-weights-best.hdf5\""
   ]
  },
  {
   "cell_type": "code",
   "execution_count": 91,
   "id": "652ac484-6365-430a-844b-12094857a0b1",
   "metadata": {},
   "outputs": [],
   "source": [
    "checkpoint = ModelCheckpoint(filepath, monitor='val_categorical_accuracy', verbose=1, save_best_only=True, mode='max')\n",
    "callbacks_list = [checkpoint]"
   ]
  },
  {
   "cell_type": "code",
   "execution_count": null,
   "id": "e8fcf184-d35e-4c09-937c-9b6b95534636",
   "metadata": {},
   "outputs": [],
   "source": [
    "start = time.time()\n",
    "model_2_fitted=model_2.fit(x_train, y_train, batch_size=100, epochs=Epochs, validation_data=(x_test, y_test), callbacks=callbacks_list, verbose=0)\n",
    "end = time.time()\n",
    "print(end - start)\n",
    "model2_trainig_time=end - start"
   ]
  },
  {
   "cell_type": "markdown",
   "id": "4e0665b8-1a0a-4760-97fa-faa5a71c22d5",
   "metadata": {},
   "source": [
    "Epoch 00001: val_categorical_accuracy improved from -inf to 0.xxx, saving model to ScenarioAmt-weights-best.hdf5\n",
    "\n",
    "Epoch 00002: val_categorical_accuracy improved from 0.xxx to 0.xxx, saving model to ScenarioAmt-weights-best.hdf5\n",
    "\n",
    "Epoch 00003: val_categorical_accuracy improved from 0.xxx to 0.xxx, saving model to ScenarioAmt-weights-best.hdf5\n",
    "\n",
    "Epoch 00004: val_categorical_accuracy improved from 0.xxx to 0.xxx, saving model to ScenarioAmt-weights-best.hdf5"
   ]
  },
  {
   "cell_type": "code",
   "execution_count": 102,
   "id": "3f7eb4e1-0a11-4e00-8a29-acd2c69ddf0c",
   "metadata": {},
   "outputs": [],
   "source": [
    "filepath=\"ScenarioAmb-weights-best.hdf5\""
   ]
  },
  {
   "cell_type": "code",
   "execution_count": 103,
   "id": "62c3e966-8488-4d36-b25c-4599fba3c316",
   "metadata": {},
   "outputs": [],
   "source": [
    "checkpoint = ModelCheckpoint(filepath, monitor='val_categorical_accuracy', verbose=1, save_best_only=True, mode='max')\n",
    "callbacks_list = [checkpoint]"
   ]
  },
  {
   "cell_type": "code",
   "execution_count": null,
   "id": "653ebccd-da33-403f-89cb-0261d6fd1533",
   "metadata": {},
   "outputs": [],
   "source": [
    "start = time.time()\n",
    "model_2_baseline_fitted=model_2_baseline.fit(x_train, y_train, batch_size=100, epochs=Epochs, validation_data=(x_test, y_test), callbacks=callbacks_list, verbose=0)\n",
    "end = time.time()\n",
    "print(end - start)\n",
    "model2_base_trainig_time= end - start"
   ]
  },
  {
   "cell_type": "markdown",
   "id": "1331a859-fd6b-4af7-ba61-13712e177963",
   "metadata": {},
   "source": [
    "Epoch 00001: val_categorical_accuracy improved from -inf to 0.xxx, saving model to ScenarioAmb-weights-best.hdf5\n",
    "\n",
    "Epoch 00002: val_categorical_accuracy improved from 0.xxx to 0.xxx, saving model to ScenarioAmb-weights-best.hdf5\n",
    "\n",
    "Epoch 00003: val_categorical_accuracy did not improve from 0.xxx\n",
    "\n",
    "Epoch 00004: val_categorical_accuracy improved from 0.xxx to 0.xxx, saving model to ScenarioAmb-weights-best.hdf5\n",
    "\n",
    "Epoch 00005: val_categorical_accuracy improved from 0.xxx to 0.xxx, saving model to ScenarioAmb-weights-best.hdf5"
   ]
  },
  {
   "cell_type": "code",
   "execution_count": 97,
   "id": "f691b429-8029-4195-99a3-3d8b05a05cc1",
   "metadata": {},
   "outputs": [],
   "source": [
    "from sklearn.metrics import classification_report"
   ]
  },
  {
   "cell_type": "code",
   "execution_count": 98,
   "id": "45eb3a2f-c126-4493-be28-cd21a73c7d61",
   "metadata": {},
   "outputs": [],
   "source": [
    "y_pred = model_2.predict(x_test)"
   ]
  },
  {
   "cell_type": "code",
   "execution_count": 99,
   "id": "ef6369f3-c3cb-47f0-84dd-46de2dcf8710",
   "metadata": {},
   "outputs": [],
   "source": [
    "y_pred_bool = np.argmax(y_pred, axis=1)"
   ]
  },
  {
   "cell_type": "code",
   "execution_count": 100,
   "id": "c703279f-a401-46e8-909b-d3badb69ca43",
   "metadata": {},
   "outputs": [],
   "source": [
    "y_test_bool = np.argmax(y_test, axis=1)"
   ]
  },
  {
   "cell_type": "code",
   "execution_count": null,
   "id": "79e6ba7f-638a-4175-9260-bca2c283d4be",
   "metadata": {},
   "outputs": [],
   "source": [
    "print(classification_report(y_test_bool, y_pred_bool))"
   ]
  },
  {
   "cell_type": "markdown",
   "id": "2a36bd00-5cbf-4dec-b9ba-4cecae68708e",
   "metadata": {},
   "source": [
    "```\n",
    "                precision    recall  f1-score   support\n",
    "\n",
    "           0       0.92      0.89      0.91      5923\n",
    "           1       0.90      0.93      0.91      6019\n",
    "\n",
    "    accuracy                           0.91     11942\n",
    "   macro avg       0.91      0.91      0.91     11942\n",
    "weighted avg       0.91      0.91      0.91     11942\n",
    "```"
   ]
  },
  {
   "cell_type": "code",
   "execution_count": 112,
   "id": "693676ec-2463-4dc9-92fc-029820ff2336",
   "metadata": {},
   "outputs": [],
   "source": [
    "y_pred = model_2_baseline.predict(x_test)"
   ]
  },
  {
   "cell_type": "code",
   "execution_count": 113,
   "id": "8903a0df-fdd9-4140-9807-daa6b696ec69",
   "metadata": {},
   "outputs": [],
   "source": [
    "y_pred_bool = np.argmax(y_pred, axis=1)"
   ]
  },
  {
   "cell_type": "code",
   "execution_count": 114,
   "id": "55430584-8d45-4935-908d-ab122e572eb7",
   "metadata": {},
   "outputs": [],
   "source": [
    "y_test_bool = np.argmax(y_test, axis=1)"
   ]
  },
  {
   "cell_type": "code",
   "execution_count": null,
   "id": "cfe17b1c-e478-40dd-8f19-4efa7f80b998",
   "metadata": {},
   "outputs": [],
   "source": [
    "print(classification_report(y_test_bool, y_pred_bool))"
   ]
  },
  {
   "cell_type": "markdown",
   "id": "dd8dc797-f7d9-4cb0-98ea-7f9c31dd447c",
   "metadata": {},
   "source": [
    "```\n",
    "                precision    recall  f1-score   support\n",
    "\n",
    "           0       0.82      0.88      0.85      5923\n",
    "           1       0.87      0.80      0.83      6019\n",
    "\n",
    "    accuracy                           0.84     11942\n",
    "   macro avg       0.84      0.84      0.84     11942\n",
    "weighted avg       0.84      0.84      0.84     11942\n",
    "```"
   ]
  },
  {
   "cell_type": "markdown",
   "id": "2d28dc1b-1606-4f7a-bd24-8ddbbbdc8a09",
   "metadata": {},
   "source": [
    "``` python\n",
    "import matplotlib.pyplot as plt\n",
    "\n",
    "plt.figure(figsize=(7,5))\n",
    "plt.plot(t, model_2_fitted.history['val_categorical_accuracy'][:display_epoch], 'r',t, model_2_fitted.history['categorical_accuracy'][:display_epoch], 'g', t, model_2_baseline_fitted.history['val_categorical_accuracy'][:display_epoch], 'b',t, model_2_baseline_fitted.history['categorical_accuracy'][:display_epoch], 'k',)\n",
    "plt.ylabel('Categorical Accuracy')\n",
    "plt.xticks(np.arange(0, display_epoch+1, 100))\n",
    "plt.legend([r'Training Accuracy $M_T$',r'Validation Accuracy $M_T$', r'Training Accuracy $M_B$',r'Validation Accuracy $M_B$'])\n",
    "plt.show()\n",
    "```"
   ]
  },
  {
   "cell_type": "markdown",
   "id": "a4534a1c-0784-4a6f-ad34-a2603baf145b",
   "metadata": {},
   "source": [
    "<p style=\"text-align:center\">\n",
    "    \"    <img src=\"ScenarioA.png\" width=\"600\">\n",
    "</p>\n"
   ]
  },
  {
   "cell_type": "code",
   "execution_count": null,
   "id": "f858e951-0da7-4505-9101-466a02d8711f",
   "metadata": {},
   "outputs": [],
   "source": []
  }
 ],
 "metadata": {
  "kernelspec": {
   "display_name": "dle",
   "language": "python",
   "name": "dle"
  },
  "language_info": {
   "codemirror_mode": {
    "name": "ipython",
    "version": 3
   },
   "file_extension": ".py",
   "mimetype": "text/x-python",
   "name": "python",
   "nbconvert_exporter": "python",
   "pygments_lexer": "ipython3",
   "version": "3.10.12"
  }
 },
 "nbformat": 4,
 "nbformat_minor": 5
}
