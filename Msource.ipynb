{
 "cells": [
  {
   "cell_type": "code",
   "execution_count": null,
   "id": "35fbfdd1-be77-42c9-b4d7-e06c2db5e4df",
   "metadata": {},
   "outputs": [],
   "source": [
    "pip install tensorflow==2.1.0 pandas sklearn keras matplotlib"
   ]
  },
  {
   "cell_type": "code",
   "execution_count": 1,
   "id": "1cd7314f-4e88-4928-a2ca-cee80854b515",
   "metadata": {
    "colab": {},
    "colab_type": "code",
    "id": "riNTxZEtvMcS"
   },
   "outputs": [],
   "source": [
    "import pandas as pd\n",
    "import numpy as np\n",
    "from sklearn.preprocessing import LabelEncoder\n",
    "from py_session import py_session\n",
    "import matplotlib.pyplot as plt\n",
    "from sklearn.model_selection import train_test_split\n",
    "\n",
    "try:\n",
    "  # Use the %tensorflow_version magic if in colab.\n",
    "  %tensorflow_version 2.x\n",
    "except Exception:\n",
    "  pass\n",
    "\n",
    "import tensorflow as tf\n",
    "import collections\n",
    "from tensorflow.keras.utils import to_categorical\n",
    "from sklearn.utils import shuffle\n",
    "from unittest.mock import Mock\n",
    "import time\n",
    "\n",
    "\n"
   ]
  },
  {
   "cell_type": "code",
   "execution_count": 9,
   "id": "8238fbbe-5ed9-48be-ae94-fbef6a4d80e9",
   "metadata": {
    "colab": {},
    "colab_type": "code",
    "id": "DirUarD3w_vI"
   },
   "outputs": [],
   "source": [
    "le= LabelEncoder()"
   ]
  },
  {
   "cell_type": "code",
   "execution_count": 10,
   "id": "b3fc838a-e065-40fe-8765-f7c4d7b105c6",
   "metadata": {
    "colab": {},
    "colab_type": "code",
    "id": "bSiY5E8Evsj0"
   },
   "outputs": [],
   "source": [
    "datasetScenearioB120 = pd.read_csv(\"datasetScenearioB120.csv\", header=None, \n",
    " names=['duration',\n",
    " 'total_fiat',\n",
    " 'total_biat',\n",
    " 'min_fiat',\n",
    " 'min_biat',\n",
    " 'max_fiat',\n",
    " 'max_biat',\n",
    " 'mean_fiat',\n",
    " 'mean_biat',\n",
    " 'flowPktsPerSecond',\n",
    " 'flowBytesPerSecond',\n",
    " 'min_flowiat',\n",
    " 'max_flowiat',\n",
    " 'mean_flowiat',\n",
    " 'std_flowiat',\n",
    " 'min_active',\n",
    " 'mean_active',\n",
    " 'max_active',\n",
    " 'std_active',\n",
    " 'min_idle',\n",
    " 'mean_idle',\n",
    " 'max_idle',\n",
    " 'std_idle',\n",
    " 'class'])"
   ]
  },
  {
   "cell_type": "code",
   "execution_count": 11,
   "id": "d43b2764-569c-4535-9680-97cf1cd503b8",
   "metadata": {
    "colab": {},
    "colab_type": "code",
    "id": "t6kv-BFExE4d"
   },
   "outputs": [],
   "source": [
    "datasetScenearioB120['encoded_class']=le.fit_transform(datasetScenearioB120['class'])"
   ]
  },
  {
   "cell_type": "code",
   "execution_count": 12,
   "id": "146573e3-04c4-4c5d-8ac7-34b507cffb1b",
   "metadata": {
    "colab": {
     "base_uri": "https://localhost:8080/",
     "height": 72
    },
    "colab_type": "code",
    "executionInfo": {
     "elapsed": 1337,
     "status": "ok",
     "timestamp": 1585033473270,
     "user": {
      "displayName": "MAJEED UMER[학생](대학원 컴퓨터공학과) ‍",
      "photoUrl": "",
      "userId": "09904507153320373005"
     },
     "user_tz": -540
    },
    "id": "HH5f2hJrxHYN",
    "outputId": "9d4e6a2a-0ee8-44e6-b4ab-c41cbe168d81"
   },
   "outputs": [
    {
     "data": {
      "text/plain": [
       "array(['BROWSING', 'CHAT', 'FT', 'MAIL', 'P2P', 'STREAMING', 'VOIP',\n",
       "       'VPN-BROWSING', 'VPN-CHAT', 'VPN-FT', 'VPN-MAIL', 'VPN-P2P',\n",
       "       'VPN-STREAMING', 'VPN-VOIP'], dtype=object)"
      ]
     },
     "execution_count": 12,
     "metadata": {},
     "output_type": "execute_result"
    }
   ],
   "source": [
    "le.classes_"
   ]
  },
  {
   "cell_type": "code",
   "execution_count": 13,
   "id": "cf4fc4c0-a31e-4488-8f79-9fbc2319e508",
   "metadata": {
    "colab": {
     "base_uri": "https://localhost:8080/",
     "height": 55
    },
    "colab_type": "code",
    "executionInfo": {
     "elapsed": 1490,
     "status": "ok",
     "timestamp": 1585033475644,
     "user": {
      "displayName": "MAJEED UMER[학생](대학원 컴퓨터공학과) ‍",
      "photoUrl": "",
      "userId": "09904507153320373005"
     },
     "user_tz": -540
    },
    "id": "6Eb4YKy9xJhp",
    "outputId": "cbc1c2f7-249c-4fdf-a303-98a6c7a3a97f"
   },
   "outputs": [
    {
     "name": "stdout",
     "output_type": "stream",
     "text": [
      "{'BROWSING': 0, 'CHAT': 1, 'FT': 2, 'MAIL': 3, 'P2P': 4, 'STREAMING': 5, 'VOIP': 6, 'VPN-BROWSING': 7, 'VPN-CHAT': 8, 'VPN-FT': 9, 'VPN-MAIL': 10, 'VPN-P2P': 11, 'VPN-STREAMING': 12, 'VPN-VOIP': 13}\n"
     ]
    }
   ],
   "source": [
    "le_name_mapping = dict(zip(le.classes_, le.transform(le.classes_)))\n",
    "print(le_name_mapping)"
   ]
  },
  {
   "cell_type": "code",
   "execution_count": 14,
   "id": "d86e659f-cbd9-485e-a117-1b598bc4731f",
   "metadata": {},
   "outputs": [
    {
     "data": {
      "text/plain": [
       "array([ 0,  1,  2,  3,  4,  5,  6,  7,  8,  9, 10, 11, 12, 13])"
      ]
     },
     "execution_count": 14,
     "metadata": {},
     "output_type": "execute_result"
    }
   ],
   "source": [
    "np.unique(datasetScenearioB120['encoded_class'])"
   ]
  },
  {
   "cell_type": "code",
   "execution_count": 15,
   "id": "6d11a266-cc55-4cda-955f-daaf4e7f36ea",
   "metadata": {
    "colab": {},
    "colab_type": "code",
    "id": "uGgmwSh-vomf"
   },
   "outputs": [],
   "source": [
    "datasetScenearioB120=datasetScenearioB120.drop(columns=['class'])"
   ]
  },
  {
   "cell_type": "code",
   "execution_count": 16,
   "id": "ef97ad0b-47a8-43d7-86c3-5c61c5d8a29d",
   "metadata": {
    "colab": {},
    "colab_type": "code",
    "id": "5xEeH0I0Mw7S"
   },
   "outputs": [],
   "source": [
    "datasetB120Norm=((datasetScenearioB120-datasetScenearioB120.mean())/(datasetScenearioB120.std()))"
   ]
  },
  {
   "cell_type": "code",
   "execution_count": 17,
   "id": "17fd2dac-0f8e-4696-942a-b62b18cc5f09",
   "metadata": {
    "colab": {},
    "colab_type": "code",
    "id": "EoBpo8VynCZG"
   },
   "outputs": [],
   "source": [
    "datasetB120Norm['encoded_class']=datasetScenearioB120['encoded_class']"
   ]
  },
  {
   "cell_type": "code",
   "execution_count": 19,
   "id": "15f0cb51-8b05-468f-8841-809ef4641f3c",
   "metadata": {
    "colab": {
     "base_uri": "https://localhost:8080/",
     "height": 427
    },
    "colab_type": "code",
    "executionInfo": {
     "elapsed": 840,
     "status": "ok",
     "timestamp": 1585033481350,
     "user": {
      "displayName": "MAJEED UMER[학생](대학원 컴퓨터공학과) ‍",
      "photoUrl": "",
      "userId": "09904507153320373005"
     },
     "user_tz": -540
    },
    "id": "-MwnQzAixJ89",
    "outputId": "a774ce8b-41b1-4b8e-e68e-d296a382ab3f"
   },
   "outputs": [
    {
     "data": {
      "text/html": [
       "<div>\n",
       "<style scoped>\n",
       "    .dataframe tbody tr th:only-of-type {\n",
       "        vertical-align: middle;\n",
       "    }\n",
       "\n",
       "    .dataframe tbody tr th {\n",
       "        vertical-align: top;\n",
       "    }\n",
       "\n",
       "    .dataframe thead th {\n",
       "        text-align: right;\n",
       "    }\n",
       "</style>\n",
       "<table border=\"1\" class=\"dataframe\">\n",
       "  <thead>\n",
       "    <tr style=\"text-align: right;\">\n",
       "      <th></th>\n",
       "      <th>duration</th>\n",
       "      <th>total_fiat</th>\n",
       "      <th>total_biat</th>\n",
       "      <th>min_fiat</th>\n",
       "      <th>min_biat</th>\n",
       "      <th>max_fiat</th>\n",
       "      <th>max_biat</th>\n",
       "      <th>mean_fiat</th>\n",
       "      <th>mean_biat</th>\n",
       "      <th>flowPktsPerSecond</th>\n",
       "      <th>...</th>\n",
       "      <th>std_flowiat</th>\n",
       "      <th>min_active</th>\n",
       "      <th>mean_active</th>\n",
       "      <th>max_active</th>\n",
       "      <th>std_active</th>\n",
       "      <th>min_idle</th>\n",
       "      <th>mean_idle</th>\n",
       "      <th>max_idle</th>\n",
       "      <th>std_idle</th>\n",
       "      <th>encoded_class</th>\n",
       "    </tr>\n",
       "  </thead>\n",
       "  <tbody>\n",
       "    <tr>\n",
       "      <th>0</th>\n",
       "      <td>1.387643</td>\n",
       "      <td>-0.311477</td>\n",
       "      <td>-0.276861</td>\n",
       "      <td>0.628009</td>\n",
       "      <td>0.823722</td>\n",
       "      <td>-0.411613</td>\n",
       "      <td>-0.392982</td>\n",
       "      <td>-0.162273</td>\n",
       "      <td>-0.155449</td>\n",
       "      <td>-0.211480</td>\n",
       "      <td>...</td>\n",
       "      <td>-0.355567</td>\n",
       "      <td>-0.378909</td>\n",
       "      <td>-0.325365</td>\n",
       "      <td>0.526630</td>\n",
       "      <td>0.521968</td>\n",
       "      <td>-0.381806</td>\n",
       "      <td>-0.351999</td>\n",
       "      <td>0.545133</td>\n",
       "      <td>0.554642</td>\n",
       "      <td>1</td>\n",
       "    </tr>\n",
       "    <tr>\n",
       "      <th>1</th>\n",
       "      <td>1.433055</td>\n",
       "      <td>-0.311477</td>\n",
       "      <td>-0.276861</td>\n",
       "      <td>0.628704</td>\n",
       "      <td>0.818574</td>\n",
       "      <td>-0.409091</td>\n",
       "      <td>-0.394245</td>\n",
       "      <td>-0.155295</td>\n",
       "      <td>-0.162247</td>\n",
       "      <td>-0.211482</td>\n",
       "      <td>...</td>\n",
       "      <td>-0.354658</td>\n",
       "      <td>-0.376179</td>\n",
       "      <td>-0.345179</td>\n",
       "      <td>0.524956</td>\n",
       "      <td>0.468308</td>\n",
       "      <td>-0.382291</td>\n",
       "      <td>-0.360140</td>\n",
       "      <td>0.541502</td>\n",
       "      <td>0.495028</td>\n",
       "      <td>1</td>\n",
       "    </tr>\n",
       "    <tr>\n",
       "      <th>2</th>\n",
       "      <td>0.876661</td>\n",
       "      <td>-0.311476</td>\n",
       "      <td>-0.276861</td>\n",
       "      <td>0.261788</td>\n",
       "      <td>0.379124</td>\n",
       "      <td>-0.376589</td>\n",
       "      <td>-0.349008</td>\n",
       "      <td>-0.042972</td>\n",
       "      <td>0.009202</td>\n",
       "      <td>-0.211525</td>\n",
       "      <td>...</td>\n",
       "      <td>-0.263476</td>\n",
       "      <td>-0.331239</td>\n",
       "      <td>-0.176311</td>\n",
       "      <td>0.190405</td>\n",
       "      <td>0.661566</td>\n",
       "      <td>-0.374314</td>\n",
       "      <td>-0.195001</td>\n",
       "      <td>0.200576</td>\n",
       "      <td>0.753111</td>\n",
       "      <td>1</td>\n",
       "    </tr>\n",
       "    <tr>\n",
       "      <th>3</th>\n",
       "      <td>0.396602</td>\n",
       "      <td>-0.311477</td>\n",
       "      <td>-0.276861</td>\n",
       "      <td>0.320534</td>\n",
       "      <td>0.449830</td>\n",
       "      <td>-0.396896</td>\n",
       "      <td>-0.378565</td>\n",
       "      <td>-0.100082</td>\n",
       "      <td>-0.083194</td>\n",
       "      <td>-0.211505</td>\n",
       "      <td>...</td>\n",
       "      <td>-0.312051</td>\n",
       "      <td>-0.371975</td>\n",
       "      <td>-0.201415</td>\n",
       "      <td>0.239987</td>\n",
       "      <td>0.728475</td>\n",
       "      <td>-0.377779</td>\n",
       "      <td>-0.223393</td>\n",
       "      <td>0.255431</td>\n",
       "      <td>0.760556</td>\n",
       "      <td>1</td>\n",
       "    </tr>\n",
       "    <tr>\n",
       "      <th>4</th>\n",
       "      <td>1.441082</td>\n",
       "      <td>1.925923</td>\n",
       "      <td>2.154681</td>\n",
       "      <td>0.452196</td>\n",
       "      <td>0.613841</td>\n",
       "      <td>1.628258</td>\n",
       "      <td>1.811737</td>\n",
       "      <td>-0.381014</td>\n",
       "      <td>-0.464994</td>\n",
       "      <td>-0.211567</td>\n",
       "      <td>...</td>\n",
       "      <td>0.944604</td>\n",
       "      <td>0.600347</td>\n",
       "      <td>0.496862</td>\n",
       "      <td>0.359364</td>\n",
       "      <td>-0.368088</td>\n",
       "      <td>0.610032</td>\n",
       "      <td>0.508947</td>\n",
       "      <td>0.380876</td>\n",
       "      <td>-0.358025</td>\n",
       "      <td>1</td>\n",
       "    </tr>\n",
       "    <tr>\n",
       "      <th>...</th>\n",
       "      <td>...</td>\n",
       "      <td>...</td>\n",
       "      <td>...</td>\n",
       "      <td>...</td>\n",
       "      <td>...</td>\n",
       "      <td>...</td>\n",
       "      <td>...</td>\n",
       "      <td>...</td>\n",
       "      <td>...</td>\n",
       "      <td>...</td>\n",
       "      <td>...</td>\n",
       "      <td>...</td>\n",
       "      <td>...</td>\n",
       "      <td>...</td>\n",
       "      <td>...</td>\n",
       "      <td>...</td>\n",
       "      <td>...</td>\n",
       "      <td>...</td>\n",
       "      <td>...</td>\n",
       "      <td>...</td>\n",
       "      <td>...</td>\n",
       "    </tr>\n",
       "    <tr>\n",
       "      <th>10777</th>\n",
       "      <td>-0.849416</td>\n",
       "      <td>-0.311478</td>\n",
       "      <td>-0.276861</td>\n",
       "      <td>-0.564611</td>\n",
       "      <td>-0.609334</td>\n",
       "      <td>-0.444381</td>\n",
       "      <td>-0.434757</td>\n",
       "      <td>-0.381086</td>\n",
       "      <td>-0.465127</td>\n",
       "      <td>-0.211236</td>\n",
       "      <td>...</td>\n",
       "      <td>-0.524469</td>\n",
       "      <td>-0.425529</td>\n",
       "      <td>-0.512487</td>\n",
       "      <td>-0.581572</td>\n",
       "      <td>-0.368185</td>\n",
       "      <td>-0.418916</td>\n",
       "      <td>-0.501611</td>\n",
       "      <td>-0.566270</td>\n",
       "      <td>-0.358043</td>\n",
       "      <td>4</td>\n",
       "    </tr>\n",
       "    <tr>\n",
       "      <th>10778</th>\n",
       "      <td>-0.847825</td>\n",
       "      <td>-0.311478</td>\n",
       "      <td>-0.276861</td>\n",
       "      <td>-0.564611</td>\n",
       "      <td>-0.609334</td>\n",
       "      <td>-0.444381</td>\n",
       "      <td>-0.434757</td>\n",
       "      <td>-0.381086</td>\n",
       "      <td>-0.465127</td>\n",
       "      <td>-0.211362</td>\n",
       "      <td>...</td>\n",
       "      <td>-0.524469</td>\n",
       "      <td>-0.425529</td>\n",
       "      <td>-0.512487</td>\n",
       "      <td>-0.581572</td>\n",
       "      <td>-0.368185</td>\n",
       "      <td>-0.418916</td>\n",
       "      <td>-0.501611</td>\n",
       "      <td>-0.566270</td>\n",
       "      <td>-0.358043</td>\n",
       "      <td>4</td>\n",
       "    </tr>\n",
       "    <tr>\n",
       "      <th>10779</th>\n",
       "      <td>-0.450740</td>\n",
       "      <td>1.254690</td>\n",
       "      <td>-0.276861</td>\n",
       "      <td>0.147106</td>\n",
       "      <td>-0.609334</td>\n",
       "      <td>1.006467</td>\n",
       "      <td>-0.434757</td>\n",
       "      <td>-0.381086</td>\n",
       "      <td>-0.465127</td>\n",
       "      <td>-0.211566</td>\n",
       "      <td>...</td>\n",
       "      <td>0.650789</td>\n",
       "      <td>-0.376570</td>\n",
       "      <td>-0.159215</td>\n",
       "      <td>0.032137</td>\n",
       "      <td>1.133178</td>\n",
       "      <td>-0.369720</td>\n",
       "      <td>-0.146733</td>\n",
       "      <td>0.052654</td>\n",
       "      <td>1.177950</td>\n",
       "      <td>4</td>\n",
       "    </tr>\n",
       "    <tr>\n",
       "      <th>10780</th>\n",
       "      <td>-0.848151</td>\n",
       "      <td>-0.311467</td>\n",
       "      <td>-0.276861</td>\n",
       "      <td>-0.561198</td>\n",
       "      <td>-0.605174</td>\n",
       "      <td>-0.440898</td>\n",
       "      <td>-0.432209</td>\n",
       "      <td>-0.374869</td>\n",
       "      <td>-0.458354</td>\n",
       "      <td>-0.210785</td>\n",
       "      <td>...</td>\n",
       "      <td>-0.519675</td>\n",
       "      <td>-0.425529</td>\n",
       "      <td>-0.512487</td>\n",
       "      <td>-0.581572</td>\n",
       "      <td>-0.368185</td>\n",
       "      <td>-0.418916</td>\n",
       "      <td>-0.501611</td>\n",
       "      <td>-0.566270</td>\n",
       "      <td>-0.358043</td>\n",
       "      <td>4</td>\n",
       "    </tr>\n",
       "    <tr>\n",
       "      <th>10781</th>\n",
       "      <td>-0.848186</td>\n",
       "      <td>-0.311471</td>\n",
       "      <td>-0.276861</td>\n",
       "      <td>-0.561222</td>\n",
       "      <td>-0.605227</td>\n",
       "      <td>-0.440924</td>\n",
       "      <td>-0.432239</td>\n",
       "      <td>-0.374909</td>\n",
       "      <td>-0.458444</td>\n",
       "      <td>-0.210778</td>\n",
       "      <td>...</td>\n",
       "      <td>-0.519720</td>\n",
       "      <td>-0.425529</td>\n",
       "      <td>-0.512487</td>\n",
       "      <td>-0.581572</td>\n",
       "      <td>-0.368185</td>\n",
       "      <td>-0.418916</td>\n",
       "      <td>-0.501611</td>\n",
       "      <td>-0.566270</td>\n",
       "      <td>-0.358043</td>\n",
       "      <td>4</td>\n",
       "    </tr>\n",
       "  </tbody>\n",
       "</table>\n",
       "<p>10782 rows × 24 columns</p>\n",
       "</div>"
      ],
      "text/plain": [
       "       duration  total_fiat  total_biat  min_fiat  min_biat  max_fiat  \\\n",
       "0      1.387643   -0.311477   -0.276861  0.628009  0.823722 -0.411613   \n",
       "1      1.433055   -0.311477   -0.276861  0.628704  0.818574 -0.409091   \n",
       "2      0.876661   -0.311476   -0.276861  0.261788  0.379124 -0.376589   \n",
       "3      0.396602   -0.311477   -0.276861  0.320534  0.449830 -0.396896   \n",
       "4      1.441082    1.925923    2.154681  0.452196  0.613841  1.628258   \n",
       "...         ...         ...         ...       ...       ...       ...   \n",
       "10777 -0.849416   -0.311478   -0.276861 -0.564611 -0.609334 -0.444381   \n",
       "10778 -0.847825   -0.311478   -0.276861 -0.564611 -0.609334 -0.444381   \n",
       "10779 -0.450740    1.254690   -0.276861  0.147106 -0.609334  1.006467   \n",
       "10780 -0.848151   -0.311467   -0.276861 -0.561198 -0.605174 -0.440898   \n",
       "10781 -0.848186   -0.311471   -0.276861 -0.561222 -0.605227 -0.440924   \n",
       "\n",
       "       max_biat  mean_fiat  mean_biat  flowPktsPerSecond  ...  std_flowiat  \\\n",
       "0     -0.392982  -0.162273  -0.155449          -0.211480  ...    -0.355567   \n",
       "1     -0.394245  -0.155295  -0.162247          -0.211482  ...    -0.354658   \n",
       "2     -0.349008  -0.042972   0.009202          -0.211525  ...    -0.263476   \n",
       "3     -0.378565  -0.100082  -0.083194          -0.211505  ...    -0.312051   \n",
       "4      1.811737  -0.381014  -0.464994          -0.211567  ...     0.944604   \n",
       "...         ...        ...        ...                ...  ...          ...   \n",
       "10777 -0.434757  -0.381086  -0.465127          -0.211236  ...    -0.524469   \n",
       "10778 -0.434757  -0.381086  -0.465127          -0.211362  ...    -0.524469   \n",
       "10779 -0.434757  -0.381086  -0.465127          -0.211566  ...     0.650789   \n",
       "10780 -0.432209  -0.374869  -0.458354          -0.210785  ...    -0.519675   \n",
       "10781 -0.432239  -0.374909  -0.458444          -0.210778  ...    -0.519720   \n",
       "\n",
       "       min_active  mean_active  max_active  std_active  min_idle  mean_idle  \\\n",
       "0       -0.378909    -0.325365    0.526630    0.521968 -0.381806  -0.351999   \n",
       "1       -0.376179    -0.345179    0.524956    0.468308 -0.382291  -0.360140   \n",
       "2       -0.331239    -0.176311    0.190405    0.661566 -0.374314  -0.195001   \n",
       "3       -0.371975    -0.201415    0.239987    0.728475 -0.377779  -0.223393   \n",
       "4        0.600347     0.496862    0.359364   -0.368088  0.610032   0.508947   \n",
       "...           ...          ...         ...         ...       ...        ...   \n",
       "10777   -0.425529    -0.512487   -0.581572   -0.368185 -0.418916  -0.501611   \n",
       "10778   -0.425529    -0.512487   -0.581572   -0.368185 -0.418916  -0.501611   \n",
       "10779   -0.376570    -0.159215    0.032137    1.133178 -0.369720  -0.146733   \n",
       "10780   -0.425529    -0.512487   -0.581572   -0.368185 -0.418916  -0.501611   \n",
       "10781   -0.425529    -0.512487   -0.581572   -0.368185 -0.418916  -0.501611   \n",
       "\n",
       "       max_idle  std_idle  encoded_class  \n",
       "0      0.545133  0.554642              1  \n",
       "1      0.541502  0.495028              1  \n",
       "2      0.200576  0.753111              1  \n",
       "3      0.255431  0.760556              1  \n",
       "4      0.380876 -0.358025              1  \n",
       "...         ...       ...            ...  \n",
       "10777 -0.566270 -0.358043              4  \n",
       "10778 -0.566270 -0.358043              4  \n",
       "10779  0.052654  1.177950              4  \n",
       "10780 -0.566270 -0.358043              4  \n",
       "10781 -0.566270 -0.358043              4  \n",
       "\n",
       "[10782 rows x 24 columns]"
      ]
     },
     "execution_count": 19,
     "metadata": {},
     "output_type": "execute_result"
    }
   ],
   "source": [
    "datasetB120Norm"
   ]
  },
  {
   "cell_type": "code",
   "execution_count": 20,
   "id": "c32d1b6f-14fc-420f-84b5-5fd6a6e3d9cb",
   "metadata": {
    "colab": {
     "base_uri": "https://localhost:8080/",
     "height": 395
    },
    "colab_type": "code",
    "executionInfo": {
     "elapsed": 1044,
     "status": "ok",
     "timestamp": 1585033483619,
     "user": {
      "displayName": "MAJEED UMER[학생](대학원 컴퓨터공학과) ‍",
      "photoUrl": "",
      "userId": "09904507153320373005"
     },
     "user_tz": -540
    },
    "id": "6pDSFJ1GihCX",
    "outputId": "db6ec05a-2709-4886-c0fe-6b255476a09d"
   },
   "outputs": [
    {
     "data": {
      "text/html": [
       "<div>\n",
       "<style scoped>\n",
       "    .dataframe tbody tr th:only-of-type {\n",
       "        vertical-align: middle;\n",
       "    }\n",
       "\n",
       "    .dataframe tbody tr th {\n",
       "        vertical-align: top;\n",
       "    }\n",
       "\n",
       "    .dataframe thead th {\n",
       "        text-align: right;\n",
       "    }\n",
       "</style>\n",
       "<table border=\"1\" class=\"dataframe\">\n",
       "  <thead>\n",
       "    <tr style=\"text-align: right;\">\n",
       "      <th></th>\n",
       "      <th>duration</th>\n",
       "      <th>total_fiat</th>\n",
       "      <th>total_biat</th>\n",
       "      <th>min_fiat</th>\n",
       "      <th>min_biat</th>\n",
       "      <th>max_fiat</th>\n",
       "      <th>max_biat</th>\n",
       "      <th>mean_fiat</th>\n",
       "      <th>mean_biat</th>\n",
       "      <th>flowPktsPerSecond</th>\n",
       "      <th>...</th>\n",
       "      <th>std_flowiat</th>\n",
       "      <th>min_active</th>\n",
       "      <th>mean_active</th>\n",
       "      <th>max_active</th>\n",
       "      <th>std_active</th>\n",
       "      <th>min_idle</th>\n",
       "      <th>mean_idle</th>\n",
       "      <th>max_idle</th>\n",
       "      <th>std_idle</th>\n",
       "      <th>encoded_class</th>\n",
       "    </tr>\n",
       "  </thead>\n",
       "  <tbody>\n",
       "    <tr>\n",
       "      <th>count</th>\n",
       "      <td>1.078200e+04</td>\n",
       "      <td>10782.000000</td>\n",
       "      <td>1.078200e+04</td>\n",
       "      <td>1.078200e+04</td>\n",
       "      <td>1.078200e+04</td>\n",
       "      <td>1.078200e+04</td>\n",
       "      <td>1.078200e+04</td>\n",
       "      <td>1.078200e+04</td>\n",
       "      <td>1.078200e+04</td>\n",
       "      <td>1.078200e+04</td>\n",
       "      <td>...</td>\n",
       "      <td>1.078200e+04</td>\n",
       "      <td>1.078200e+04</td>\n",
       "      <td>1.078200e+04</td>\n",
       "      <td>1.078200e+04</td>\n",
       "      <td>10782.000000</td>\n",
       "      <td>1.078200e+04</td>\n",
       "      <td>1.078200e+04</td>\n",
       "      <td>1.078200e+04</td>\n",
       "      <td>1.078200e+04</td>\n",
       "      <td>10782.000000</td>\n",
       "    </tr>\n",
       "    <tr>\n",
       "      <th>mean</th>\n",
       "      <td>-4.217653e-17</td>\n",
       "      <td>0.000000</td>\n",
       "      <td>-2.108827e-17</td>\n",
       "      <td>-1.054413e-17</td>\n",
       "      <td>2.636033e-17</td>\n",
       "      <td>-6.326480e-17</td>\n",
       "      <td>-6.326480e-17</td>\n",
       "      <td>1.054413e-17</td>\n",
       "      <td>9.489719e-17</td>\n",
       "      <td>1.054413e-17</td>\n",
       "      <td>...</td>\n",
       "      <td>1.054413e-17</td>\n",
       "      <td>-1.054413e-17</td>\n",
       "      <td>1.581620e-17</td>\n",
       "      <td>-1.028053e-16</td>\n",
       "      <td>0.000000</td>\n",
       "      <td>-1.054413e-17</td>\n",
       "      <td>-3.690446e-17</td>\n",
       "      <td>-2.108827e-17</td>\n",
       "      <td>7.644496e-17</td>\n",
       "      <td>5.480801</td>\n",
       "    </tr>\n",
       "    <tr>\n",
       "      <th>std</th>\n",
       "      <td>1.000000e+00</td>\n",
       "      <td>1.000000</td>\n",
       "      <td>1.000000e+00</td>\n",
       "      <td>1.000000e+00</td>\n",
       "      <td>1.000000e+00</td>\n",
       "      <td>1.000000e+00</td>\n",
       "      <td>1.000000e+00</td>\n",
       "      <td>1.000000e+00</td>\n",
       "      <td>1.000000e+00</td>\n",
       "      <td>1.000000e+00</td>\n",
       "      <td>...</td>\n",
       "      <td>1.000000e+00</td>\n",
       "      <td>1.000000e+00</td>\n",
       "      <td>1.000000e+00</td>\n",
       "      <td>1.000000e+00</td>\n",
       "      <td>1.000000</td>\n",
       "      <td>1.000000e+00</td>\n",
       "      <td>1.000000e+00</td>\n",
       "      <td>1.000000e+00</td>\n",
       "      <td>1.000000e+00</td>\n",
       "      <td>4.032972</td>\n",
       "    </tr>\n",
       "    <tr>\n",
       "      <th>min</th>\n",
       "      <td>-8.520228e-01</td>\n",
       "      <td>-0.311478</td>\n",
       "      <td>-2.768612e-01</td>\n",
       "      <td>-5.646108e-01</td>\n",
       "      <td>-6.093342e-01</td>\n",
       "      <td>-4.443812e-01</td>\n",
       "      <td>-4.347565e-01</td>\n",
       "      <td>-3.810858e-01</td>\n",
       "      <td>-4.651273e-01</td>\n",
       "      <td>-2.115688e-01</td>\n",
       "      <td>...</td>\n",
       "      <td>-5.244692e-01</td>\n",
       "      <td>-4.255293e-01</td>\n",
       "      <td>-5.124872e-01</td>\n",
       "      <td>-5.815716e-01</td>\n",
       "      <td>-0.368185</td>\n",
       "      <td>-4.189158e-01</td>\n",
       "      <td>-5.016114e-01</td>\n",
       "      <td>-5.662702e-01</td>\n",
       "      <td>-3.580430e-01</td>\n",
       "      <td>0.000000</td>\n",
       "    </tr>\n",
       "    <tr>\n",
       "      <th>25%</th>\n",
       "      <td>-8.499366e-01</td>\n",
       "      <td>-0.311478</td>\n",
       "      <td>-2.768612e-01</td>\n",
       "      <td>-5.645392e-01</td>\n",
       "      <td>-6.093342e-01</td>\n",
       "      <td>-4.443383e-01</td>\n",
       "      <td>-4.347565e-01</td>\n",
       "      <td>-3.810858e-01</td>\n",
       "      <td>-4.651273e-01</td>\n",
       "      <td>-2.115625e-01</td>\n",
       "      <td>...</td>\n",
       "      <td>-5.244481e-01</td>\n",
       "      <td>-4.255293e-01</td>\n",
       "      <td>-5.124872e-01</td>\n",
       "      <td>-5.815716e-01</td>\n",
       "      <td>-0.368185</td>\n",
       "      <td>-4.189158e-01</td>\n",
       "      <td>-5.016114e-01</td>\n",
       "      <td>-5.662702e-01</td>\n",
       "      <td>-3.580430e-01</td>\n",
       "      <td>1.000000</td>\n",
       "    </tr>\n",
       "    <tr>\n",
       "      <th>50%</th>\n",
       "      <td>-6.552464e-01</td>\n",
       "      <td>-0.311474</td>\n",
       "      <td>-2.768599e-01</td>\n",
       "      <td>-5.387084e-01</td>\n",
       "      <td>-5.893271e-01</td>\n",
       "      <td>-4.337278e-01</td>\n",
       "      <td>-4.299450e-01</td>\n",
       "      <td>-3.787320e-01</td>\n",
       "      <td>-4.626343e-01</td>\n",
       "      <td>-2.114707e-01</td>\n",
       "      <td>...</td>\n",
       "      <td>-5.063638e-01</td>\n",
       "      <td>-3.887143e-01</td>\n",
       "      <td>-4.589017e-01</td>\n",
       "      <td>-5.311829e-01</td>\n",
       "      <td>-0.368185</td>\n",
       "      <td>-3.842974e-01</td>\n",
       "      <td>-4.574142e-01</td>\n",
       "      <td>-5.237783e-01</td>\n",
       "      <td>-3.580430e-01</td>\n",
       "      <td>7.000000</td>\n",
       "    </tr>\n",
       "    <tr>\n",
       "      <th>75%</th>\n",
       "      <td>1.006762e+00</td>\n",
       "      <td>-0.311365</td>\n",
       "      <td>-2.768483e-01</td>\n",
       "      <td>3.968268e-01</td>\n",
       "      <td>4.496270e-01</td>\n",
       "      <td>-7.288666e-02</td>\n",
       "      <td>-8.100856e-02</td>\n",
       "      <td>-1.451209e-01</td>\n",
       "      <td>-1.257931e-01</td>\n",
       "      <td>-2.091966e-01</td>\n",
       "      <td>...</td>\n",
       "      <td>2.079971e-01</td>\n",
       "      <td>-5.801428e-02</td>\n",
       "      <td>1.974218e-01</td>\n",
       "      <td>3.617373e-01</td>\n",
       "      <td>-0.309898</td>\n",
       "      <td>-7.499652e-02</td>\n",
       "      <td>1.743477e-01</td>\n",
       "      <td>3.768319e-01</td>\n",
       "      <td>-3.208709e-01</td>\n",
       "      <td>9.000000</td>\n",
       "    </tr>\n",
       "    <tr>\n",
       "      <th>max</th>\n",
       "      <td>1.064043e+01</td>\n",
       "      <td>8.638320</td>\n",
       "      <td>9.449509e+00</td>\n",
       "      <td>1.440668e+01</td>\n",
       "      <td>2.385758e+01</td>\n",
       "      <td>1.005699e+01</td>\n",
       "      <td>8.551218e+00</td>\n",
       "      <td>1.841982e+01</td>\n",
       "      <td>1.080186e+01</td>\n",
       "      <td>4.516321e+01</td>\n",
       "      <td>...</td>\n",
       "      <td>1.260537e+01</td>\n",
       "      <td>2.014053e+01</td>\n",
       "      <td>1.970814e+01</td>\n",
       "      <td>1.828056e+01</td>\n",
       "      <td>19.337203</td>\n",
       "      <td>2.020213e+01</td>\n",
       "      <td>1.977716e+01</td>\n",
       "      <td>1.841518e+01</td>\n",
       "      <td>1.980187e+01</td>\n",
       "      <td>13.000000</td>\n",
       "    </tr>\n",
       "  </tbody>\n",
       "</table>\n",
       "<p>8 rows × 24 columns</p>\n",
       "</div>"
      ],
      "text/plain": [
       "           duration    total_fiat    total_biat      min_fiat      min_biat  \\\n",
       "count  1.078200e+04  10782.000000  1.078200e+04  1.078200e+04  1.078200e+04   \n",
       "mean  -4.217653e-17      0.000000 -2.108827e-17 -1.054413e-17  2.636033e-17   \n",
       "std    1.000000e+00      1.000000  1.000000e+00  1.000000e+00  1.000000e+00   \n",
       "min   -8.520228e-01     -0.311478 -2.768612e-01 -5.646108e-01 -6.093342e-01   \n",
       "25%   -8.499366e-01     -0.311478 -2.768612e-01 -5.645392e-01 -6.093342e-01   \n",
       "50%   -6.552464e-01     -0.311474 -2.768599e-01 -5.387084e-01 -5.893271e-01   \n",
       "75%    1.006762e+00     -0.311365 -2.768483e-01  3.968268e-01  4.496270e-01   \n",
       "max    1.064043e+01      8.638320  9.449509e+00  1.440668e+01  2.385758e+01   \n",
       "\n",
       "           max_fiat      max_biat     mean_fiat     mean_biat  \\\n",
       "count  1.078200e+04  1.078200e+04  1.078200e+04  1.078200e+04   \n",
       "mean  -6.326480e-17 -6.326480e-17  1.054413e-17  9.489719e-17   \n",
       "std    1.000000e+00  1.000000e+00  1.000000e+00  1.000000e+00   \n",
       "min   -4.443812e-01 -4.347565e-01 -3.810858e-01 -4.651273e-01   \n",
       "25%   -4.443383e-01 -4.347565e-01 -3.810858e-01 -4.651273e-01   \n",
       "50%   -4.337278e-01 -4.299450e-01 -3.787320e-01 -4.626343e-01   \n",
       "75%   -7.288666e-02 -8.100856e-02 -1.451209e-01 -1.257931e-01   \n",
       "max    1.005699e+01  8.551218e+00  1.841982e+01  1.080186e+01   \n",
       "\n",
       "       flowPktsPerSecond  ...   std_flowiat    min_active   mean_active  \\\n",
       "count       1.078200e+04  ...  1.078200e+04  1.078200e+04  1.078200e+04   \n",
       "mean        1.054413e-17  ...  1.054413e-17 -1.054413e-17  1.581620e-17   \n",
       "std         1.000000e+00  ...  1.000000e+00  1.000000e+00  1.000000e+00   \n",
       "min        -2.115688e-01  ... -5.244692e-01 -4.255293e-01 -5.124872e-01   \n",
       "25%        -2.115625e-01  ... -5.244481e-01 -4.255293e-01 -5.124872e-01   \n",
       "50%        -2.114707e-01  ... -5.063638e-01 -3.887143e-01 -4.589017e-01   \n",
       "75%        -2.091966e-01  ...  2.079971e-01 -5.801428e-02  1.974218e-01   \n",
       "max         4.516321e+01  ...  1.260537e+01  2.014053e+01  1.970814e+01   \n",
       "\n",
       "         max_active    std_active      min_idle     mean_idle      max_idle  \\\n",
       "count  1.078200e+04  10782.000000  1.078200e+04  1.078200e+04  1.078200e+04   \n",
       "mean  -1.028053e-16      0.000000 -1.054413e-17 -3.690446e-17 -2.108827e-17   \n",
       "std    1.000000e+00      1.000000  1.000000e+00  1.000000e+00  1.000000e+00   \n",
       "min   -5.815716e-01     -0.368185 -4.189158e-01 -5.016114e-01 -5.662702e-01   \n",
       "25%   -5.815716e-01     -0.368185 -4.189158e-01 -5.016114e-01 -5.662702e-01   \n",
       "50%   -5.311829e-01     -0.368185 -3.842974e-01 -4.574142e-01 -5.237783e-01   \n",
       "75%    3.617373e-01     -0.309898 -7.499652e-02  1.743477e-01  3.768319e-01   \n",
       "max    1.828056e+01     19.337203  2.020213e+01  1.977716e+01  1.841518e+01   \n",
       "\n",
       "           std_idle  encoded_class  \n",
       "count  1.078200e+04   10782.000000  \n",
       "mean   7.644496e-17       5.480801  \n",
       "std    1.000000e+00       4.032972  \n",
       "min   -3.580430e-01       0.000000  \n",
       "25%   -3.580430e-01       1.000000  \n",
       "50%   -3.580430e-01       7.000000  \n",
       "75%   -3.208709e-01       9.000000  \n",
       "max    1.980187e+01      13.000000  \n",
       "\n",
       "[8 rows x 24 columns]"
      ]
     },
     "execution_count": 20,
     "metadata": {},
     "output_type": "execute_result"
    }
   ],
   "source": [
    "datasetB120Norm.describe()"
   ]
  },
  {
   "cell_type": "code",
   "execution_count": 22,
   "id": "b899dab0-2ea6-4dc7-8370-8c065194c4aa",
   "metadata": {
    "colab": {},
    "colab_type": "code",
    "id": "_E3-OvW-WBSw"
   },
   "outputs": [],
   "source": [
    "datasetScenearioB60 = pd.read_csv(\"datasetScenearioB60.csv\", header=None, \n",
    " names=['duration',\n",
    " 'total_fiat',\n",
    " 'total_biat',\n",
    " 'min_fiat',\n",
    " 'min_biat',\n",
    " 'max_fiat',\n",
    " 'max_biat',\n",
    " 'mean_fiat',\n",
    " 'mean_biat',\n",
    " 'flowPktsPerSecond',\n",
    " 'flowBytesPerSecond',\n",
    " 'min_flowiat',\n",
    " 'max_flowiat',\n",
    " 'mean_flowiat',\n",
    " 'std_flowiat',\n",
    " 'min_active',\n",
    " 'mean_active',\n",
    " 'max_active',\n",
    " 'std_active',\n",
    " 'min_idle',\n",
    " 'mean_idle',\n",
    " 'max_idle',\n",
    " 'std_idle',\n",
    " 'class'])"
   ]
  },
  {
   "cell_type": "code",
   "execution_count": 23,
   "id": "b6046844-649f-47aa-8210-01d71d8675fc",
   "metadata": {
    "colab": {},
    "colab_type": "code",
    "id": "G3x4WDgQWJ40"
   },
   "outputs": [],
   "source": [
    "datasetScenearioB60['encoded_class']=le.fit_transform(datasetScenearioB60['class'])"
   ]
  },
  {
   "cell_type": "code",
   "execution_count": 26,
   "id": "ba337640-467c-4cca-8cbd-a3b5c9f9e787",
   "metadata": {
    "colab": {},
    "colab_type": "code",
    "id": "IxQdtOFCWlUI"
   },
   "outputs": [],
   "source": [
    "datasetScenearioB60=datasetScenearioB60.drop(columns=['class'])"
   ]
  },
  {
   "cell_type": "code",
   "execution_count": 27,
   "id": "956382ce-b0aa-42b4-b45c-67a609e94e60",
   "metadata": {
    "colab": {},
    "colab_type": "code",
    "id": "FVu6z9PhWp0E"
   },
   "outputs": [],
   "source": [
    "datasetB60Norm=((datasetScenearioB60-datasetScenearioB60.mean())/(datasetScenearioB60.std()))"
   ]
  },
  {
   "cell_type": "code",
   "execution_count": 28,
   "id": "ad19fe0d-e509-41b4-ad48-380845522a48",
   "metadata": {
    "colab": {},
    "colab_type": "code",
    "id": "Dwc3N4QiWwQ1"
   },
   "outputs": [],
   "source": [
    "datasetB60Norm['encoded_class']=datasetScenearioB60['encoded_class']"
   ]
  },
  {
   "cell_type": "code",
   "execution_count": 33,
   "id": "76063cbe-5442-4a40-a17a-baf8fd036d66",
   "metadata": {
    "colab": {},
    "colab_type": "code",
    "id": "o4xmhuQ0W3_o"
   },
   "outputs": [],
   "source": [
    "datasetScenearioB30 = pd.read_csv(\"datasetScenearioB30.csv\", header=None, \n",
    " names=['duration',\n",
    " 'total_fiat',\n",
    " 'total_biat',\n",
    " 'min_fiat',\n",
    " 'min_biat',\n",
    " 'max_fiat',\n",
    " 'max_biat',\n",
    " 'mean_fiat',\n",
    " 'mean_biat',\n",
    " 'flowPktsPerSecond',\n",
    " 'flowBytesPerSecond',\n",
    " 'min_flowiat',\n",
    " 'max_flowiat',\n",
    " 'mean_flowiat',\n",
    " 'std_flowiat',\n",
    " 'min_active',\n",
    " 'mean_active',\n",
    " 'max_active',\n",
    " 'std_active',\n",
    " 'min_idle',\n",
    " 'mean_idle',\n",
    " 'max_idle',\n",
    " 'std_idle',\n",
    " 'class'])"
   ]
  },
  {
   "cell_type": "code",
   "execution_count": 34,
   "id": "ca16cf41-2dbc-417f-a83e-77e6337284f7",
   "metadata": {
    "colab": {},
    "colab_type": "code",
    "id": "XPRSAmyuXFg_"
   },
   "outputs": [],
   "source": [
    "datasetScenearioB30['encoded_class']=le.fit_transform(datasetScenearioB30['class'])"
   ]
  },
  {
   "cell_type": "code",
   "execution_count": 37,
   "id": "4ac66cbd-6de1-4aff-9157-62a62e5e60b8",
   "metadata": {
    "colab": {},
    "colab_type": "code",
    "id": "TPyJkjikXFQt"
   },
   "outputs": [],
   "source": [
    "datasetScenearioB30=datasetScenearioB30.drop(columns=['class'])"
   ]
  },
  {
   "cell_type": "code",
   "execution_count": 38,
   "id": "d1fde710-d6f7-4154-8ef5-13cf848eb773",
   "metadata": {
    "colab": {},
    "colab_type": "code",
    "id": "8M2T5jzGXFF1"
   },
   "outputs": [],
   "source": [
    "datasetB30Norm=((datasetScenearioB30-datasetScenearioB30.mean())/(datasetScenearioB30.std()))"
   ]
  },
  {
   "cell_type": "code",
   "execution_count": 39,
   "id": "8508876b-d4e4-4c3b-bfc6-96f6ff065241",
   "metadata": {
    "colab": {},
    "colab_type": "code",
    "id": "nnGgAuwdXE4S"
   },
   "outputs": [],
   "source": [
    "datasetB30Norm['encoded_class']=datasetScenearioB30['encoded_class']"
   ]
  },
  {
   "cell_type": "code",
   "execution_count": 44,
   "id": "27fa746a-3e4b-4404-a5b7-6423a290eaf0",
   "metadata": {
    "colab": {},
    "colab_type": "code",
    "id": "1o-O1iDkX093"
   },
   "outputs": [],
   "source": [
    "datasetScenearioB15 = pd.read_csv(\"datasetScenearioB15.csv\", header=None, \n",
    " names=['duration',\n",
    " 'total_fiat',\n",
    " 'total_biat',\n",
    " 'min_fiat',\n",
    " 'min_biat',\n",
    " 'max_fiat',\n",
    " 'max_biat',\n",
    " 'mean_fiat',\n",
    " 'mean_biat',\n",
    " 'flowPktsPerSecond',\n",
    " 'flowBytesPerSecond',\n",
    " 'min_flowiat',\n",
    " 'max_flowiat',\n",
    " 'mean_flowiat',\n",
    " 'std_flowiat',\n",
    " 'min_active',\n",
    " 'mean_active',\n",
    " 'max_active',\n",
    " 'std_active',\n",
    " 'min_idle',\n",
    " 'mean_idle',\n",
    " 'max_idle',\n",
    " 'std_idle',\n",
    " 'class'])"
   ]
  },
  {
   "cell_type": "code",
   "execution_count": 45,
   "id": "1c3a6b24-2dc0-47f2-82e9-f68578327502",
   "metadata": {
    "colab": {},
    "colab_type": "code",
    "id": "fbyPFzXSX8WG"
   },
   "outputs": [],
   "source": [
    "datasetScenearioB15['encoded_class']=le.fit_transform(datasetScenearioB15['class'])"
   ]
  },
  {
   "cell_type": "code",
   "execution_count": 49,
   "id": "0d88dddf-859f-4761-91be-15b79e183f86",
   "metadata": {
    "colab": {},
    "colab_type": "code",
    "id": "w5iPvMn5YGae"
   },
   "outputs": [],
   "source": [
    "datasetB15Norm=((datasetScenearioB15-datasetScenearioB15.mean())/(datasetScenearioB15.std()))"
   ]
  },
  {
   "cell_type": "code",
   "execution_count": 50,
   "id": "bd5d820c-6855-4e6f-8f97-9fbba0f6155e",
   "metadata": {
    "colab": {},
    "colab_type": "code",
    "id": "xUhxwroZYGO4"
   },
   "outputs": [],
   "source": [
    "datasetB15Norm['encoded_class']=datasetScenearioB15['encoded_class']"
   ]
  },
  {
   "cell_type": "code",
   "execution_count": 53,
   "id": "645a1539-fc49-4850-8106-86487fbab05c",
   "metadata": {
    "colab": {},
    "colab_type": "code",
    "id": "vU87N3UeYXrc"
   },
   "outputs": [],
   "source": [
    "dataNorm=datasetB120Norm"
   ]
  },
  {
   "cell_type": "code",
   "execution_count": 54,
   "id": "1dffeab6-0bec-40d0-88a6-5e32336cdc54",
   "metadata": {
    "colab": {},
    "colab_type": "code",
    "id": "PqjfKx-SYlrV"
   },
   "outputs": [],
   "source": [
    "dataNorm=dataNorm.append(datasetB60Norm, ignore_index=True)\n",
    "dataNorm=dataNorm.append(datasetB30Norm, ignore_index=True)\n",
    "dataNorm=dataNorm.append(datasetB15Norm, ignore_index=True)"
   ]
  },
  {
   "cell_type": "code",
   "execution_count": 55,
   "id": "d7f0ab57-9ffb-4e5a-aa32-30cc17b5b3bc",
   "metadata": {
    "colab": {
     "base_uri": "https://localhost:8080/",
     "height": 472
    },
    "colab_type": "code",
    "executionInfo": {
     "elapsed": 127,
     "status": "ok",
     "timestamp": 1585023201038,
     "user": {
      "displayName": "MAJEED UMER[학생](대학원 컴퓨터공학과) ‍",
      "photoUrl": "",
      "userId": "09904507153320373005"
     },
     "user_tz": -540
    },
    "id": "cdLNGFa97u9b",
    "outputId": "e75d1a99-69db-492e-9a0b-66af5dd9cc00"
   },
   "outputs": [
    {
     "data": {
      "text/plain": [
       "duration              float64\n",
       "total_fiat            float64\n",
       "total_biat            float64\n",
       "min_fiat              float64\n",
       "min_biat              float64\n",
       "max_fiat              float64\n",
       "max_biat              float64\n",
       "mean_fiat             float64\n",
       "mean_biat             float64\n",
       "flowPktsPerSecond     float64\n",
       "flowBytesPerSecond    float64\n",
       "min_flowiat           float64\n",
       "max_flowiat           float64\n",
       "mean_flowiat          float64\n",
       "std_flowiat           float64\n",
       "min_active            float64\n",
       "mean_active           float64\n",
       "max_active            float64\n",
       "std_active            float64\n",
       "min_idle              float64\n",
       "mean_idle             float64\n",
       "max_idle              float64\n",
       "std_idle              float64\n",
       "encoded_class           int32\n",
       "dtype: object"
      ]
     },
     "execution_count": 55,
     "metadata": {},
     "output_type": "execute_result"
    }
   ],
   "source": [
    "dataNorm.dtypes"
   ]
  },
  {
   "cell_type": "code",
   "execution_count": 60,
   "id": "b8e4d4c3-0750-4d1c-9db6-e5481e6788c0",
   "metadata": {
    "colab": {},
    "colab_type": "code",
    "id": "x3QlnCR4xZem"
   },
   "outputs": [],
   "source": [
    "df_total_numeric_features=dataNorm[['duration',\n",
    " 'total_fiat',\n",
    " 'total_biat',\n",
    " 'min_fiat',\n",
    " 'min_biat',\n",
    " 'max_fiat',\n",
    " 'max_biat',\n",
    " 'mean_fiat',\n",
    " 'mean_biat',\n",
    " 'flowPktsPerSecond',\n",
    " 'flowBytesPerSecond',\n",
    " 'min_flowiat',\n",
    " 'max_flowiat',\n",
    " 'mean_flowiat',\n",
    " 'std_flowiat',\n",
    " 'min_active',\n",
    " 'mean_active',\n",
    " 'max_active',\n",
    " 'std_active',\n",
    " 'min_idle',\n",
    " 'mean_idle',\n",
    " 'max_idle',\n",
    " 'std_idle']].to_numpy()"
   ]
  },
  {
   "cell_type": "code",
   "execution_count": 61,
   "id": "6f4e5d81-a4f6-4e88-b76b-ff746ba77f5e",
   "metadata": {
    "colab": {},
    "colab_type": "code",
    "id": "n5eo6zN6xdb8"
   },
   "outputs": [],
   "source": [
    "df_total_numeric_label=dataNorm[['encoded_class']].to_numpy()"
   ]
  },
  {
   "cell_type": "code",
   "execution_count": 62,
   "id": "5f1691a6-eef9-4550-bff9-a70d21e7ba50",
   "metadata": {
    "colab": {},
    "colab_type": "code",
    "id": "yBC3PdSYA627"
   },
   "outputs": [],
   "source": [
    "ohe_label = to_categorical(df_total_numeric_label)"
   ]
  },
  {
   "cell_type": "code",
   "execution_count": 63,
   "id": "8b5be145-4209-4ada-96da-6e96b7201ca2",
   "metadata": {
    "colab": {
     "base_uri": "https://localhost:8080/",
     "height": 54
    },
    "colab_type": "code",
    "executionInfo": {
     "elapsed": 1160,
     "status": "ok",
     "timestamp": 1584954128574,
     "user": {
      "displayName": "MAJEED UMER[학생](대학원 컴퓨터공학과) ‍",
      "photoUrl": "",
      "userId": "09904507153320373005"
     },
     "user_tz": -540
    },
    "id": "N0kmeCD8BKna",
    "outputId": "8cbc4bd0-35d0-4c14-a412-a31b7df0eca3"
   },
   "outputs": [
    {
     "data": {
      "text/plain": [
       "array([0., 0., 0., 0., 0., 0., 0., 0., 0., 1., 0., 0., 0., 0.],\n",
       "      dtype=float32)"
      ]
     },
     "execution_count": 63,
     "metadata": {},
     "output_type": "execute_result"
    }
   ],
   "source": [
    "ohe_label[3000]"
   ]
  },
  {
   "cell_type": "code",
   "execution_count": 64,
   "id": "984fdadf-de7a-4df3-b5c7-d0cc3f5ff6d4",
   "metadata": {
    "colab": {},
    "colab_type": "code",
    "id": "VzbTo7ZHxgQc"
   },
   "outputs": [],
   "source": [
    "X_train, X_test, y_train, y_test = train_test_split(df_total_numeric_features, ohe_label,\n",
    "                                                    stratify=ohe_label, \n",
    "                                                    test_size=0.2)"
   ]
  },
  {
   "cell_type": "code",
   "execution_count": 65,
   "id": "8e00f641-9b3b-4323-b469-109ee7e4f0bc",
   "metadata": {
    "colab": {},
    "colab_type": "code",
    "id": "kdpHDTkg9n9N"
   },
   "outputs": [],
   "source": [
    "\n",
    "(unique, counts) = np.unique(y_train, return_counts=True,axis=0)"
   ]
  },
  {
   "cell_type": "code",
   "execution_count": 66,
   "id": "253e92a5-e71d-49b2-b2f6-b93580bdaa4b",
   "metadata": {
    "colab": {
     "base_uri": "https://localhost:8080/",
     "height": 290
    },
    "colab_type": "code",
    "executionInfo": {
     "elapsed": 1314,
     "status": "ok",
     "timestamp": 1585034024141,
     "user": {
      "displayName": "MAJEED UMER[학생](대학원 컴퓨터공학과) ‍",
      "photoUrl": "",
      "userId": "09904507153320373005"
     },
     "user_tz": -540
    },
    "id": "C9tzkIQZ9uAY",
    "outputId": "c4e18b8f-84e3-428a-bd8b-0a447a0da5ec",
    "scrolled": true
   },
   "outputs": [
    {
     "data": {
      "text/plain": [
       "array([[0., 0., 0., 0., 0., 0., 0., 0., 0., 0., 0., 0., 0., 1.],\n",
       "       [0., 0., 0., 0., 0., 0., 0., 0., 0., 0., 0., 0., 1., 0.],\n",
       "       [0., 0., 0., 0., 0., 0., 0., 0., 0., 0., 0., 1., 0., 0.],\n",
       "       [0., 0., 0., 0., 0., 0., 0., 0., 0., 0., 1., 0., 0., 0.],\n",
       "       [0., 0., 0., 0., 0., 0., 0., 0., 0., 1., 0., 0., 0., 0.],\n",
       "       [0., 0., 0., 0., 0., 0., 0., 0., 1., 0., 0., 0., 0., 0.],\n",
       "       [0., 0., 0., 0., 0., 0., 0., 1., 0., 0., 0., 0., 0., 0.],\n",
       "       [0., 0., 0., 0., 0., 0., 1., 0., 0., 0., 0., 0., 0., 0.],\n",
       "       [0., 0., 0., 0., 0., 1., 0., 0., 0., 0., 0., 0., 0., 0.],\n",
       "       [0., 0., 0., 0., 1., 0., 0., 0., 0., 0., 0., 0., 0., 0.],\n",
       "       [0., 0., 0., 1., 0., 0., 0., 0., 0., 0., 0., 0., 0., 0.],\n",
       "       [0., 0., 1., 0., 0., 0., 0., 0., 0., 0., 0., 0., 0., 0.],\n",
       "       [0., 1., 0., 0., 0., 0., 0., 0., 0., 0., 0., 0., 0., 0.],\n",
       "       [1., 0., 0., 0., 0., 0., 0., 0., 0., 0., 0., 0., 0., 0.]],\n",
       "      dtype=float32)"
      ]
     },
     "execution_count": 66,
     "metadata": {},
     "output_type": "execute_result"
    }
   ],
   "source": [
    "unique"
   ]
  },
  {
   "cell_type": "code",
   "execution_count": 67,
   "id": "005b46aa-f501-4841-a53a-cbb679b61500",
   "metadata": {
    "colab": {
     "base_uri": "https://localhost:8080/",
     "height": 54
    },
    "colab_type": "code",
    "executionInfo": {
     "elapsed": 1683,
     "status": "ok",
     "timestamp": 1585034026240,
     "user": {
      "displayName": "MAJEED UMER[학생](대학원 컴퓨터공학과) ‍",
      "photoUrl": "",
      "userId": "09904507153320373005"
     },
     "user_tz": -540
    },
    "id": "rYiCW0zw9_Zh",
    "outputId": "43767489-6593-4523-c48c-920f2d5dcb3d"
   },
   "outputs": [
    {
     "data": {
      "text/plain": [
       "array([4461,  892, 2732, 1955, 3763, 2271, 8000, 5188, 1027, 3200, 1091,\n",
       "       3180, 2004, 8000], dtype=int64)"
      ]
     },
     "execution_count": 67,
     "metadata": {},
     "output_type": "execute_result"
    }
   ],
   "source": [
    "counts"
   ]
  },
  {
   "cell_type": "code",
   "execution_count": 68,
   "id": "343a65ab-b131-414a-967b-4d78ab1d7e6f",
   "metadata": {
    "colab": {},
    "colab_type": "code",
    "id": "ARx2jZ3e-R9T"
   },
   "outputs": [],
   "source": [
    "\n",
    "(unique, counts) = np.unique(y_test, return_counts=True,axis=0)"
   ]
  },
  {
   "cell_type": "code",
   "execution_count": 70,
   "id": "e6b57d30-53c0-40f7-86d5-a19141682dc8",
   "metadata": {
    "colab": {
     "base_uri": "https://localhost:8080/",
     "height": 54
    },
    "colab_type": "code",
    "executionInfo": {
     "elapsed": 869,
     "status": "ok",
     "timestamp": 1585034030194,
     "user": {
      "displayName": "MAJEED UMER[학생](대학원 컴퓨터공학과) ‍",
      "photoUrl": "",
      "userId": "09904507153320373005"
     },
     "user_tz": -540
    },
    "id": "ylNDG66n-R9f",
    "outputId": "e2b08440-826e-4f87-a081-ecc6b9b00878"
   },
   "outputs": [
    {
     "data": {
      "text/plain": [
       "array([1115,  223,  683,  489,  941,  568, 2000, 1297,  257,  800,  273,\n",
       "        795,  501, 2000], dtype=int64)"
      ]
     },
     "execution_count": 70,
     "metadata": {},
     "output_type": "execute_result"
    }
   ],
   "source": [
    "counts"
   ]
  },
  {
   "cell_type": "code",
   "execution_count": 71,
   "id": "0e59ffed-5349-4c5a-816b-cd3a617f5b4d",
   "metadata": {
    "colab": {
     "base_uri": "https://localhost:8080/",
     "height": 35
    },
    "colab_type": "code",
    "executionInfo": {
     "elapsed": 1109,
     "status": "ok",
     "timestamp": 1585034032899,
     "user": {
      "displayName": "MAJEED UMER[학생](대학원 컴퓨터공학과) ‍",
      "photoUrl": "",
      "userId": "09904507153320373005"
     },
     "user_tz": -540
    },
    "id": "8Z32Ll4gx_rY",
    "outputId": "ce2905d3-7fd2-4683-90b1-0c8c53a4a4e2"
   },
   "outputs": [
    {
     "data": {
      "text/plain": [
       "11942"
      ]
     },
     "execution_count": 71,
     "metadata": {},
     "output_type": "execute_result"
    }
   ],
   "source": [
    "total_test=len(X_test)\n",
    "total_test"
   ]
  },
  {
   "cell_type": "code",
   "execution_count": 72,
   "id": "0c451e22-cb84-4103-8a81-ce1397a4eb7d",
   "metadata": {
    "colab": {
     "base_uri": "https://localhost:8080/",
     "height": 35
    },
    "colab_type": "code",
    "executionInfo": {
     "elapsed": 1200,
     "status": "ok",
     "timestamp": 1585034033782,
     "user": {
      "displayName": "MAJEED UMER[학생](대학원 컴퓨터공학과) ‍",
      "photoUrl": "",
      "userId": "09904507153320373005"
     },
     "user_tz": -540
    },
    "id": "afJBCAtlyEat",
    "outputId": "8db2df87-4789-4fe2-f072-1a41a52e3c8a"
   },
   "outputs": [
    {
     "data": {
      "text/plain": [
       "47764"
      ]
     },
     "execution_count": 72,
     "metadata": {},
     "output_type": "execute_result"
    }
   ],
   "source": [
    "total_train=len(X_train)\n",
    "total_train"
   ]
  },
  {
   "cell_type": "code",
   "execution_count": 73,
   "id": "8f1f1829-af57-4aa1-b858-3101c44e40a1",
   "metadata": {
    "colab": {},
    "colab_type": "code",
    "id": "xYdieMyzxrTb"
   },
   "outputs": [],
   "source": [
    "np.random.seed(1000)"
   ]
  },
  {
   "cell_type": "code",
   "execution_count": 74,
   "id": "3619ca07-6edd-45f0-a984-9abe248b9e9e",
   "metadata": {
    "colab": {},
    "colab_type": "code",
    "id": "vbRm893Qyw3I"
   },
   "outputs": [],
   "source": [
    "x_train, y_train = shuffle(X_train, y_train, random_state=1000)\n",
    "x_test, y_test = shuffle(X_test, y_test, random_state=1000)"
   ]
  },
  {
   "cell_type": "code",
   "execution_count": 75,
   "id": "01004297-6dfc-43bf-b99a-2d7ca5d618fd",
   "metadata": {
    "colab": {
     "base_uri": "https://localhost:8080/",
     "height": 35
    },
    "colab_type": "code",
    "executionInfo": {
     "elapsed": 1106,
     "status": "ok",
     "timestamp": 1585034041296,
     "user": {
      "displayName": "MAJEED UMER[학생](대학원 컴퓨터공학과) ‍",
      "photoUrl": "",
      "userId": "09904507153320373005"
     },
     "user_tz": -540
    },
    "id": "Nu_tlPlmzB14",
    "outputId": "0b2af41a-afdb-4118-8a15-fddf2e3efde6"
   },
   "outputs": [
    {
     "data": {
      "text/plain": [
       "47764"
      ]
     },
     "execution_count": 75,
     "metadata": {},
     "output_type": "execute_result"
    }
   ],
   "source": [
    "len(x_train)"
   ]
  },
  {
   "cell_type": "code",
   "execution_count": 76,
   "id": "3345fd97-174a-497b-a3d5-cc146b1fdece",
   "metadata": {
    "colab": {
     "base_uri": "https://localhost:8080/",
     "height": 35
    },
    "colab_type": "code",
    "executionInfo": {
     "elapsed": 907,
     "status": "ok",
     "timestamp": 1585034041941,
     "user": {
      "displayName": "MAJEED UMER[학생](대학원 컴퓨터공학과) ‍",
      "photoUrl": "",
      "userId": "09904507153320373005"
     },
     "user_tz": -540
    },
    "id": "HtRWg0qfzGq4",
    "outputId": "c59b5d59-a5a2-4165-ab77-08edd3cd16b2"
   },
   "outputs": [
    {
     "data": {
      "text/plain": [
       "11942"
      ]
     },
     "execution_count": 76,
     "metadata": {},
     "output_type": "execute_result"
    }
   ],
   "source": [
    "len(x_test)"
   ]
  },
  {
   "cell_type": "code",
   "execution_count": 78,
   "id": "47998f04-df4b-427e-8ad1-70d676e49df0",
   "metadata": {
    "colab": {},
    "colab_type": "code",
    "id": "uYFk6NO70hmT"
   },
   "outputs": [],
   "source": [
    "y_train=y_train.astype('int32')"
   ]
  },
  {
   "cell_type": "code",
   "execution_count": 79,
   "id": "8d8352db-2169-4f50-8ddc-bb46e7c1da86",
   "metadata": {
    "colab": {},
    "colab_type": "code",
    "id": "5i3ovhxv0vFS"
   },
   "outputs": [],
   "source": [
    "x_train=x_train.astype('float32')"
   ]
  },
  {
   "cell_type": "code",
   "execution_count": 80,
   "id": "ad87116f-ffd3-4dd8-94eb-5b9121c34535",
   "metadata": {
    "colab": {
     "base_uri": "https://localhost:8080/",
     "height": 35
    },
    "colab_type": "code",
    "executionInfo": {
     "elapsed": 1034,
     "status": "ok",
     "timestamp": 1585034048090,
     "user": {
      "displayName": "MAJEED UMER[학생](대학원 컴퓨터공학과) ‍",
      "photoUrl": "",
      "userId": "09904507153320373005"
     },
     "user_tz": -540
    },
    "id": "Jnj2pPzP00f5",
    "outputId": "626822de-6b4f-473a-be45-88efac31e027"
   },
   "outputs": [
    {
     "data": {
      "text/plain": [
       "(23,)"
      ]
     },
     "execution_count": 80,
     "metadata": {},
     "output_type": "execute_result"
    }
   ],
   "source": [
    "x_train[1].shape"
   ]
  },
  {
   "cell_type": "code",
   "execution_count": 81,
   "id": "235dd7d9-0f55-408a-9b8d-b6fa7236d2b9",
   "metadata": {
    "colab": {
     "base_uri": "https://localhost:8080/",
     "height": 108
    },
    "colab_type": "code",
    "executionInfo": {
     "elapsed": 589,
     "status": "ok",
     "timestamp": 1585034048451,
     "user": {
      "displayName": "MAJEED UMER[학생](대학원 컴퓨터공학과) ‍",
      "photoUrl": "",
      "userId": "09904507153320373005"
     },
     "user_tz": -540
    },
    "id": "S1xCaVI9i9hA",
    "outputId": "35a753ea-c54f-4a99-9628-c96975da5727"
   },
   "outputs": [
    {
     "data": {
      "text/plain": [
       "array([ 0.641562  ,  1.8092009 , -0.2944038 ,  0.16366076, -0.5367779 ,\n",
       "        1.3609217 , -0.41253585, -0.24421988, -0.3913783 , -0.12530112,\n",
       "       -0.05348335, -0.08167353, -0.36572957, -0.41074598, -0.3564173 ,\n",
       "       -0.30285597, -0.33993265, -0.38531542, -0.30919954, -0.2946835 ,\n",
       "       -0.32876176, -0.3698325 , -0.292495  ], dtype=float32)"
      ]
     },
     "execution_count": 81,
     "metadata": {},
     "output_type": "execute_result"
    }
   ],
   "source": [
    "x_train[1]"
   ]
  },
  {
   "cell_type": "code",
   "execution_count": 84,
   "id": "f03c3fa5-d00d-48c2-b57e-ce7f525016e2",
   "metadata": {
    "colab": {},
    "colab_type": "code",
    "id": "6NwYTmJH03Sp"
   },
   "outputs": [],
   "source": [
    "y_test=y_test.astype('int32')"
   ]
  },
  {
   "cell_type": "code",
   "execution_count": 85,
   "id": "6541cf61-d0e5-4b16-8102-5f08566e9215",
   "metadata": {
    "colab": {},
    "colab_type": "code",
    "id": "O_QZzXj71NGn"
   },
   "outputs": [],
   "source": [
    "x_test=x_test.astype('float32')"
   ]
  },
  {
   "cell_type": "code",
   "execution_count": 87,
   "id": "18c89012-8af3-45c1-bc7a-922508e00023",
   "metadata": {
    "colab": {},
    "colab_type": "code",
    "id": "5x1Geuc640_H"
   },
   "outputs": [],
   "source": [
    "Epochs=1000"
   ]
  },
  {
   "cell_type": "code",
   "execution_count": 89,
   "id": "da7ca5af-362c-46ea-b440-d2df0f32bf60",
   "metadata": {},
   "outputs": [],
   "source": [
    " model_1 = tf.keras.models.Sequential([\n",
    "    tf.keras.layers.Input(shape=(23,)), \n",
    "\n",
    "    tf.keras.layers.Dense(512, activation='relu'),\n",
    "    tf.keras.layers.Dense(512, activation='relu'),\n",
    "    tf.keras.layers.Dense(512, activation='relu'),\n",
    "\n",
    "    tf.keras.layers.Dropout(0.2),\n",
    "\n",
    "    tf.keras.layers.Dense(512, activation='relu'),\n",
    "    tf.keras.layers.Dense(512, activation='relu'),\n",
    "    tf.keras.layers.Dense(512, activation='relu'),\n",
    "    \n",
    "    tf.keras.layers.Dropout(0.2),\n",
    "\n",
    "    tf.keras.layers.Dense(512, activation='relu'),\n",
    "    tf.keras.layers.Dense(512, activation='relu'),\n",
    "    tf.keras.layers.Dense(512, activation='relu'),\n",
    "    tf.keras.layers.Dense(14, activation='softmax')\n",
    "      \n",
    "    ])\n",
    "    \n"
   ]
  },
  {
   "cell_type": "code",
   "execution_count": 90,
   "id": "c42f5c05-5bf6-4ca2-9538-b49dd5e852f0",
   "metadata": {},
   "outputs": [],
   "source": [
    "loss_fn=tf.keras.losses.CategoricalCrossentropy()"
   ]
  },
  {
   "cell_type": "code",
   "execution_count": 91,
   "id": "2a0ed48c-ea9d-4ce6-8642-dd6d6b47e160",
   "metadata": {},
   "outputs": [],
   "source": [
    "model_1.compile(optimizer='sgd',\n",
    "              loss=loss_fn,\n",
    "              metrics=[tf.keras.metrics.CategoricalAccuracy()])"
   ]
  },
  {
   "cell_type": "code",
   "execution_count": 92,
   "id": "0e005337-9ab6-4368-82b1-fbf83d57c13c",
   "metadata": {},
   "outputs": [],
   "source": [
    "filepath=\"ScenarioB-weights-best.hdf5\""
   ]
  },
  {
   "cell_type": "code",
   "execution_count": 93,
   "id": "e8283fc2-42eb-4510-a29a-fcd265f0a251",
   "metadata": {},
   "outputs": [],
   "source": [
    "from tensorflow.keras.callbacks import ModelCheckpoint "
   ]
  },
  {
   "cell_type": "code",
   "execution_count": 95,
   "id": "7ad6caff-1441-4b2f-935e-fe48387253fb",
   "metadata": {},
   "outputs": [],
   "source": [
    "checkpoint = ModelCheckpoint(filepath, monitor='val_categorical_accuracy', verbose=1, save_best_only=True, mode='max')\n",
    "callbacks_list = [checkpoint]"
   ]
  },
  {
   "cell_type": "code",
   "execution_count": null,
   "id": "b598314f-ffb8-4e5b-8a6d-35d2cdaed2c3",
   "metadata": {},
   "outputs": [],
   "source": [
    "start = time.time()\n",
    "model_1_fitted = model_1.fit(x_train, y_train, batch_size=100, epochs=Epochs, validation_data=(x_test, y_test), callbacks=callbacks_list, verbose=0)\n",
    "end = time.time()\n",
    "print(end - start)\n",
    "model1_trainig_time=end - start"
   ]
  },
  {
   "cell_type": "markdown",
   "id": "4a8700f6-1fa9-4938-9688-4d35d4629f6c",
   "metadata": {},
   "source": [
    "Epoch 00001: val_categorical_accuracy improved from -inf to 0.xxx, saving model to ScenarioB-weights-best.hdf5xxx\n",
    "\n",
    "Epoch 00002: val_categorical_accuracy improved from 0.xxx to 0.xxx, saving model to ScenarioB-weights-best.hdf5\n",
    "\n",
    "Epoch 00003: val_categorical_accuracy improved from 0.xxx to 0.xxx, saving model to ScenarioB-weights-best.hdf5\n",
    "\n",
    "Epoch 00004: val_categorical_accuracy did not improve from 0.xxx\n",
    "\n",
    "Epoch 00005: val_categorical_accuracy improved from 0.xxx to 0.xxx, saving model to ScenarioB-weights-best.hdf5"
   ]
  },
  {
   "cell_type": "markdown",
   "id": "318d0bc3-e440-4924-9e62-d87b83a40fed",
   "metadata": {},
   "source": [
    "``` python\n",
    "model_1_fitted.history={\n",
    "    'loss': [],\n",
    "    'categorical_accuracy': [],\n",
    "    'val_loss': [],\n",
    "    'val_categorical_accuracy': []\n",
    "}\n",
    "```"
   ]
  },
  {
   "cell_type": "code",
   "execution_count": null,
   "id": "a7b723e4-ca9f-44f1-a38f-1d529314d1d5",
   "metadata": {},
   "outputs": [],
   "source": [
    "model_1.get_weights()"
   ]
  },
  {
   "cell_type": "code",
   "execution_count": 99,
   "id": "4fcf7693-463f-4946-bd92-24771fb50f09",
   "metadata": {
    "colab": {},
    "colab_type": "code",
    "id": "quGmKrpGyu9h"
   },
   "outputs": [
    {
     "name": "stdout",
     "output_type": "stream",
     "text": [
      "Model: \"sequential\"\n",
      "_________________________________________________________________\n",
      "Layer (type)                 Output Shape              Param #   \n",
      "=================================================================\n",
      "dense (Dense)                (None, 512)               12288     \n",
      "_________________________________________________________________\n",
      "dense_1 (Dense)              (None, 512)               262656    \n",
      "_________________________________________________________________\n",
      "dense_2 (Dense)              (None, 512)               262656    \n",
      "_________________________________________________________________\n",
      "dropout (Dropout)            (None, 512)               0         \n",
      "_________________________________________________________________\n",
      "dense_3 (Dense)              (None, 512)               262656    \n",
      "_________________________________________________________________\n",
      "dense_4 (Dense)              (None, 512)               262656    \n",
      "_________________________________________________________________\n",
      "dense_5 (Dense)              (None, 512)               262656    \n",
      "_________________________________________________________________\n",
      "dropout_1 (Dropout)          (None, 512)               0         \n",
      "_________________________________________________________________\n",
      "dense_6 (Dense)              (None, 512)               262656    \n",
      "_________________________________________________________________\n",
      "dense_7 (Dense)              (None, 512)               262656    \n",
      "_________________________________________________________________\n",
      "dense_8 (Dense)              (None, 512)               262656    \n",
      "_________________________________________________________________\n",
      "dense_9 (Dense)              (None, 14)                7182      \n",
      "=================================================================\n",
      "Total params: 2,120,718\n",
      "Trainable params: 2,120,718\n",
      "Non-trainable params: 0\n",
      "_________________________________________________________________\n"
     ]
    }
   ],
   "source": [
    "model_1.summary()"
   ]
  },
  {
   "cell_type": "code",
   "execution_count": 87,
   "id": "75e31b73-9993-4410-bbf7-c90caf2cf4cf",
   "metadata": {},
   "outputs": [],
   "source": [
    "model_1.load_weights('ScenarioB-weights-best.hdf5')"
   ]
  },
  {
   "cell_type": "code",
   "execution_count": 88,
   "id": "75e6f3a8-4b92-4399-bbd1-ec369d037816",
   "metadata": {},
   "outputs": [],
   "source": [
    "from sklearn.metrics import classification_report"
   ]
  },
  {
   "cell_type": "code",
   "execution_count": 89,
   "id": "fb860d12-03e3-4fb9-acf7-34c6fdd970ac",
   "metadata": {},
   "outputs": [],
   "source": [
    "y_pred = model_1.predict(x_test)"
   ]
  },
  {
   "cell_type": "code",
   "execution_count": 90,
   "id": "7d640595-d92c-466c-98a1-651e43417de6",
   "metadata": {},
   "outputs": [],
   "source": [
    "y_pred_bool = np.argmax(y_pred, axis=1)"
   ]
  },
  {
   "cell_type": "code",
   "execution_count": 91,
   "id": "64c1f13f-7fc6-43d7-b445-b7348cfb21eb",
   "metadata": {},
   "outputs": [],
   "source": [
    "y_test_bool = np.argmax(y_test, axis=1)"
   ]
  },
  {
   "cell_type": "code",
   "execution_count": 92,
   "id": "7dece790-e09b-4f19-b1cb-c0464e2320ff",
   "metadata": {},
   "outputs": [
    {
     "name": "stdout",
     "output_type": "stream",
     "text": [
      "              precision    recall  f1-score   support\n",
      "\n",
      "           0       0.87      0.91      0.89      2000\n",
      "           1       0.81      0.73      0.77       501\n",
      "           2       0.87      0.72      0.79       795\n",
      "           3       0.65      0.66      0.65       273\n",
      "           4       0.82      0.86      0.84       800\n",
      "           5       0.85      0.72      0.78       257\n",
      "           6       0.77      0.96      0.85      1297\n",
      "           7       0.88      0.84      0.86      2000\n",
      "           8       0.84      0.77      0.81       568\n",
      "           9       0.85      0.80      0.83       941\n",
      "          10       0.73      0.86      0.79       489\n",
      "          11       0.62      0.77      0.69       683\n",
      "          12       0.98      0.85      0.91       223\n",
      "          13       0.85      0.66      0.74      1115\n",
      "\n",
      "    accuracy                           0.82     11942\n",
      "   macro avg       0.82      0.79      0.80     11942\n",
      "weighted avg       0.83      0.82      0.82     11942\n",
      "\n"
     ]
    }
   ],
   "source": [
    "print(classification_report(y_test_bool, y_pred_bool))"
   ]
  },
  {
   "cell_type": "code",
   "execution_count": 9,
   "id": "b17d5a83-ade9-445a-ba56-6d521fa8da85",
   "metadata": {
    "colab": {},
    "colab_type": "code",
    "executionInfo": {
     "elapsed": 49767,
     "status": "ok",
     "timestamp": 1595216056466,
     "user": {
      "displayName": "MAJEED UMER[학생](대학원 컴퓨터공학과) ‍",
      "photoUrl": "",
      "userId": "09904507153320373005"
     },
     "user_tz": -540
    },
    "id": "TvsUGBKjb6-w"
   },
   "outputs": [],
   "source": [
    "from mpl_toolkits.axes_grid1.inset_locator import mark_inset"
   ]
  },
  {
   "cell_type": "code",
   "execution_count": 11,
   "id": "3a4f1ec4-de17-4210-a722-13f21ca89d6f",
   "metadata": {},
   "outputs": [],
   "source": [
    "import matplotlib.pyplot as plt"
   ]
  },
  {
   "cell_type": "code",
   "execution_count": 12,
   "id": "c200f5ac-48f0-4fa8-b44c-71d5a357ae31",
   "metadata": {
    "colab": {},
    "colab_type": "code",
    "executionInfo": {
     "elapsed": 1156,
     "status": "ok",
     "timestamp": 1595217748472,
     "user": {
      "displayName": "MAJEED UMER[학생](대학원 컴퓨터공학과) ‍",
      "photoUrl": "",
      "userId": "09904507153320373005"
     },
     "user_tz": -540
    },
    "id": "zwsG9wDmUcOV"
   },
   "outputs": [],
   "source": [
    "plt.rcParams.update({'font.size': 10})"
   ]
  },
  {
   "cell_type": "code",
   "execution_count": 54,
   "id": "c031f54c-99ce-457b-a0a2-3d70ef79eba7",
   "metadata": {
    "colab": {
     "base_uri": "https://localhost:8080/",
     "height": 176
    },
    "colab_type": "code",
    "executionInfo": {
     "elapsed": 762,
     "status": "ok",
     "timestamp": 1595217764366,
     "user": {
      "displayName": "MAJEED UMER[학생](대학원 컴퓨터공학과) ‍",
      "photoUrl": "",
      "userId": "09904507153320373005"
     },
     "user_tz": -540
    },
    "id": "9alaU9OCU3UZ",
    "outputId": "0394109d-2dc2-40c0-b488-dad6e8377e2d"
   },
   "outputs": [
    {
     "data": {
      "image/png": "[encoded data removed]",
      "text/plain": [
       "<Figure size 340.157x170.079 with 2 Axes>"
      ]
     },
     "metadata": {
      "needs_background": "light"
     },
     "output_type": "display_data"
    }
   ],
   "source": [
    "fig, ax = plt.subplots(figsize=(12.0/2.54, 6.0/2.54)) # create a new figure with a default 111 subplot\n",
    "ax.plot(t, model_1_fitted.history['categorical_accuracy'][:display_epoch],'b',t, model_1_fitted.history['val_categorical_accuracy'][:display_epoch],'g')\n",
    "plt.legend(['Training','Validation'])\n",
    "plt.ylabel('Categorical accuracy')\n",
    "plt.xlabel('Epoch')\n",
    "plt.yticks(np.arange(0.4, 1, 0.1))\n",
    "from mpl_toolkits.axes_grid1.inset_locator import zoomed_inset_axes\n",
    "axins = zoomed_inset_axes(ax, 2, loc=8, bbox_to_anchor=(145,2,3,4), borderpad=4) # zoom-factor: 2.5, location: upper-left\n",
    "axins.plot(t, model_1_fitted.history['categorical_accuracy'][:display_epoch],'b',model_1_fitted.history['val_categorical_accuracy'][:display_epoch],'g')\n",
    "x1, x2, y1, y2 = 800, 1000, 0.78, 0.92 # specify the limits\n",
    "plt.yticks(np.arange(0.8, 0.91, 0.05))\n",
    "mark_inset(ax, axins, loc1=2, loc2=4, fc=\"none\", ec=\"0.5\")\n",
    "axins.set_xlim(x1, x2) # apply the x-limits\n",
    "axins.set_ylim(y1, y2) # apply the y-limits\n",
    "plt.show()"
   ]
  },
  {
   "cell_type": "code",
   "execution_count": null,
   "id": "73cadc1d-d22c-4e6e-8adf-003bbe98aa16",
   "metadata": {},
   "outputs": [],
   "source": []
  }
 ],
 "metadata": {
  "kernelspec": {
   "display_name": "dle",
   "language": "python",
   "name": "dle"
  },
  "language_info": {
   "codemirror_mode": {
    "name": "ipython",
    "version": 3
   },
   "file_extension": ".py",
   "mimetype": "text/x-python",
   "name": "python",
   "nbconvert_exporter": "python",
   "pygments_lexer": "ipython3",
   "version": "3.10.12"
  }
 },
 "nbformat": 4,
 "nbformat_minor": 5
}
